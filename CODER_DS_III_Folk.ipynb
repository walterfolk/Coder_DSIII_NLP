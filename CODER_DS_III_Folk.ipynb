{
  "nbformat": 4,
  "nbformat_minor": 0,
  "metadata": {
    "colab": {
      "provenance": [],
      "gpuType": "V28",
      "authorship_tag": "ABX9TyNXPr3RNvNQZBbK431Bpodl",
      "include_colab_link": true
    },
    "kernelspec": {
      "name": "python3",
      "display_name": "Python 3"
    },
    "language_info": {
      "name": "python"
    },
    "accelerator": "TPU"
  },
  "cells": [
    {
      "cell_type": "markdown",
      "metadata": {
        "id": "view-in-github",
        "colab_type": "text"
      },
      "source": [
        "<a href=\"https://colab.research.google.com/github/walterfolk/Coder_DSIII_NLP/blob/main/CODER_DS_III_Folk.ipynb\" target=\"_parent\"><img src=\"https://colab.research.google.com/assets/colab-badge.svg\" alt=\"Open In Colab\"/></a>"
      ]
    },
    {
      "cell_type": "markdown",
      "source": [
        "# **CODERHOUSE DS III - TP FINAL**\n",
        "  \n",
        "## **Resumen**\n",
        "  Hoy en día, los comentarios de los clientes y revisores afectan las futuras compras de esos mismos revisores y de nuevos clientes. Poder prevenir los comentarios negativos es uno de los procesos principales para mantener a los clientes, pero un problema para mejorar el negocio con la retroalimentación es comprender el verdadero significado de esas reseñas, dado que el factor humano es tan sensible, una empresa necesita invertir mucho tiempo en analizarlo. Es por eso que se decide crear este **Predictor de Satisfacción del Revisor** el cual clasifica las reseñas en positivas y negativas, ahorrando tiempo en la evaluación de la satisfacción. Con acceso directo a palabras clave de cada reseña, la empresa podrá identificar rápidamente las áreas de mejora. Este predictor ofrece una alta precisión por encima del 90% según las pruebas realizadas con un conjunto de validación.\n",
        "\n",
        "##**Objetivo**\n",
        "  Este conjunto de datos contiene más de 1000 reseñas de clientes que compraron instrumentos musicales en línea por Amazon.\n",
        "\n",
        "  Se requiere realizar un Análisis de Sentimiento de estos datos para ayudar a la organización a comprender mejor la opinión de sus clientes y, así, concentrarse en los problemas que enfrentan. El objetivo es construir un modelo con la mayor precisión posible para clasificar las reseñas como positivas, negativas o neutras.\n",
        "\n",
        "  Considero que, para obtener una mejor perspectiva del negocio, las reseñas neutras deberían considerarse más cercanas a las negativas que a una categoría neutral independiente. Esto se debe a que las reseñas neutras suelen indicar que no se satisficieron completamente las necesidades del cliente, y además, no proporcionan información útil para realizar mejoras. Continuar analizando las reseñas neutras podría generar costos innecesarios."
      ],
      "metadata": {
        "id": "1zUQ-Iecj05A"
      }
    },
    {
      "cell_type": "markdown",
      "source": [
        "# **Setup**\n",
        "A continuación se carga el dataset y algunas librerias necesarias para poder leer el dataset que se encuentra comprimido en un archivo .zip y subido a un repositorio de GitHub el cual contine los datos de las revisiones de los clientes."
      ],
      "metadata": {
        "id": "_DKVbsHOnsGL"
      }
    },
    {
      "cell_type": "code",
      "source": [
        "import pandas as pd\n",
        "import re\n",
        "import collections\n",
        "import matplotlib.pyplot as plt\n",
        "import requests\n",
        "import zipfile\n",
        "import io\n",
        "\n",
        "url = \"https://github.com/walterfolk/Coder_DSIII_NLP/blob/main/Musical_instruments_reviews.csv.zip?raw=true\"\n",
        "response = requests.get(url)\n",
        "response.raise_for_status()\n",
        "\n",
        "with zipfile.ZipFile(io.BytesIO(response.content)) as z:\n",
        "    with z.open('Musical_instruments_reviews.csv') as f:\n",
        "        df = pd.read_csv(f)\n",
        "\n",
        "\n",
        "print(df.head())"
      ],
      "metadata": {
        "colab": {
          "base_uri": "https://localhost:8080/"
        },
        "id": "JLeMHGEKGD02",
        "outputId": "53fcff37-ab41-4bf0-c916-fa1f80936e15"
      },
      "execution_count": 4,
      "outputs": [
        {
          "output_type": "stream",
          "name": "stdout",
          "text": [
            "       reviewerID        asin  \\\n",
            "0  A2IBPI20UZIR0U  1384719342   \n",
            "1  A14VAT5EAX3D9S  1384719342   \n",
            "2  A195EZSQDW3E21  1384719342   \n",
            "3  A2C00NNG1ZQQG2  1384719342   \n",
            "4   A94QU4C90B1AX  1384719342   \n",
            "\n",
            "                                       reviewerName   helpful  \\\n",
            "0  cassandra tu \"Yeah, well, that's just like, u...    [0, 0]   \n",
            "1                                              Jake  [13, 14]   \n",
            "2                     Rick Bennette \"Rick Bennette\"    [1, 1]   \n",
            "3                         RustyBill \"Sunday Rocker\"    [0, 0]   \n",
            "4                                     SEAN MASLANKA    [0, 0]   \n",
            "\n",
            "                                          reviewText  overall  \\\n",
            "0  Not much to write about here, but it does exac...      5.0   \n",
            "1  The product does exactly as it should and is q...      5.0   \n",
            "2  The primary job of this device is to block the...      5.0   \n",
            "3  Nice windscreen protects my MXL mic and preven...      5.0   \n",
            "4  This pop filter is great. It looks and perform...      5.0   \n",
            "\n",
            "                                 summary  unixReviewTime   reviewTime  \n",
            "0                                   good      1393545600  02 28, 2014  \n",
            "1                                   Jake      1363392000  03 16, 2013  \n",
            "2                   It Does The Job Well      1377648000  08 28, 2013  \n",
            "3          GOOD WINDSCREEN FOR THE MONEY      1392336000  02 14, 2014  \n",
            "4  No more pops when I record my vocals.      1392940800  02 21, 2014  \n"
          ]
        }
      ]
    },
    {
      "cell_type": "code",
      "source": [
        "df.shape"
      ],
      "metadata": {
        "colab": {
          "base_uri": "https://localhost:8080/"
        },
        "id": "gseiOqk-BmTq",
        "outputId": "44871411-ce1e-40d3-f9ca-924ee2d31caa"
      },
      "execution_count": 5,
      "outputs": [
        {
          "output_type": "execute_result",
          "data": {
            "text/plain": [
              "(10261, 9)"
            ]
          },
          "metadata": {},
          "execution_count": 5
        }
      ]
    },
    {
      "cell_type": "markdown",
      "source": [
        "### Corroboramos los datos nulos presentes en el dataset"
      ],
      "metadata": {
        "id": "u96-Jg3vonpQ"
      }
    },
    {
      "cell_type": "code",
      "source": [
        "df.isna().sum()"
      ],
      "metadata": {
        "colab": {
          "base_uri": "https://localhost:8080/",
          "height": 366
        },
        "id": "bbAWCh-ZWsgk",
        "outputId": "a9e6b9d6-95df-4526-8ab5-788ce2b8b295"
      },
      "execution_count": 6,
      "outputs": [
        {
          "output_type": "execute_result",
          "data": {
            "text/plain": [
              "reviewerID         0\n",
              "asin               0\n",
              "reviewerName      27\n",
              "helpful            0\n",
              "reviewText         7\n",
              "overall            0\n",
              "summary            0\n",
              "unixReviewTime     0\n",
              "reviewTime         0\n",
              "dtype: int64"
            ],
            "text/html": [
              "<div>\n",
              "<style scoped>\n",
              "    .dataframe tbody tr th:only-of-type {\n",
              "        vertical-align: middle;\n",
              "    }\n",
              "\n",
              "    .dataframe tbody tr th {\n",
              "        vertical-align: top;\n",
              "    }\n",
              "\n",
              "    .dataframe thead th {\n",
              "        text-align: right;\n",
              "    }\n",
              "</style>\n",
              "<table border=\"1\" class=\"dataframe\">\n",
              "  <thead>\n",
              "    <tr style=\"text-align: right;\">\n",
              "      <th></th>\n",
              "      <th>0</th>\n",
              "    </tr>\n",
              "  </thead>\n",
              "  <tbody>\n",
              "    <tr>\n",
              "      <th>reviewerID</th>\n",
              "      <td>0</td>\n",
              "    </tr>\n",
              "    <tr>\n",
              "      <th>asin</th>\n",
              "      <td>0</td>\n",
              "    </tr>\n",
              "    <tr>\n",
              "      <th>reviewerName</th>\n",
              "      <td>27</td>\n",
              "    </tr>\n",
              "    <tr>\n",
              "      <th>helpful</th>\n",
              "      <td>0</td>\n",
              "    </tr>\n",
              "    <tr>\n",
              "      <th>reviewText</th>\n",
              "      <td>7</td>\n",
              "    </tr>\n",
              "    <tr>\n",
              "      <th>overall</th>\n",
              "      <td>0</td>\n",
              "    </tr>\n",
              "    <tr>\n",
              "      <th>summary</th>\n",
              "      <td>0</td>\n",
              "    </tr>\n",
              "    <tr>\n",
              "      <th>unixReviewTime</th>\n",
              "      <td>0</td>\n",
              "    </tr>\n",
              "    <tr>\n",
              "      <th>reviewTime</th>\n",
              "      <td>0</td>\n",
              "    </tr>\n",
              "  </tbody>\n",
              "</table>\n",
              "</div><br><label><b>dtype:</b> int64</label>"
            ]
          },
          "metadata": {},
          "execution_count": 6
        }
      ]
    },
    {
      "cell_type": "markdown",
      "source": [
        "### Como podemos obser existen algunos datos nulos los cuales se proceden a rellenar con \"\" que es el valor con el que se reemplazarán los valores NaN. En otras palabras, cualquier valor faltante en la columna reviewText se convertirá en una cadena de texto vacía."
      ],
      "metadata": {
        "id": "NHuoIfUro1HS"
      }
    },
    {
      "cell_type": "code",
      "source": [
        "df.reviewText.fillna('', inplace = True)"
      ],
      "metadata": {
        "colab": {
          "base_uri": "https://localhost:8080/"
        },
        "id": "v46MTVyKWvq-",
        "outputId": "5a200e29-9721-476d-e2cd-7995c4503283"
      },
      "execution_count": 7,
      "outputs": [
        {
          "output_type": "stream",
          "name": "stderr",
          "text": [
            "<ipython-input-7-6b2a1c2ff75e>:1: FutureWarning: A value is trying to be set on a copy of a DataFrame or Series through chained assignment using an inplace method.\n",
            "The behavior will change in pandas 3.0. This inplace method will never work because the intermediate object on which we are setting values always behaves as a copy.\n",
            "\n",
            "For example, when doing 'df[col].method(value, inplace=True)', try using 'df.method({col: value}, inplace=True)' or df[col] = df[col].method(value) instead, to perform the operation inplace on the original object.\n",
            "\n",
            "\n",
            "  df.reviewText.fillna('', inplace = True)\n"
          ]
        }
      ]
    },
    {
      "cell_type": "markdown",
      "source": [
        "### Se proceden a eliminas a aquellas columnas que no son importantes para el objetivo planteado"
      ],
      "metadata": {
        "id": "R8ZfT9TcpZor"
      }
    },
    {
      "cell_type": "code",
      "source": [
        "df = df.drop(['reviewerID', 'asin', 'reviewerName', 'helpful', 'unixReviewTime', 'reviewTime'], axis=1)"
      ],
      "metadata": {
        "id": "cF0f_cCQW4sL"
      },
      "execution_count": 8,
      "outputs": []
    },
    {
      "cell_type": "code",
      "source": [
        "df.head()"
      ],
      "metadata": {
        "colab": {
          "base_uri": "https://localhost:8080/",
          "height": 206
        },
        "id": "vjmsgveVW62f",
        "outputId": "0f8a9b31-f580-4710-a952-345e1ba9621e"
      },
      "execution_count": 9,
      "outputs": [
        {
          "output_type": "execute_result",
          "data": {
            "text/plain": [
              "                                          reviewText  overall  \\\n",
              "0  Not much to write about here, but it does exac...      5.0   \n",
              "1  The product does exactly as it should and is q...      5.0   \n",
              "2  The primary job of this device is to block the...      5.0   \n",
              "3  Nice windscreen protects my MXL mic and preven...      5.0   \n",
              "4  This pop filter is great. It looks and perform...      5.0   \n",
              "\n",
              "                                 summary  \n",
              "0                                   good  \n",
              "1                                   Jake  \n",
              "2                   It Does The Job Well  \n",
              "3          GOOD WINDSCREEN FOR THE MONEY  \n",
              "4  No more pops when I record my vocals.  "
            ],
            "text/html": [
              "\n",
              "  <div id=\"df-04167929-c867-4349-a906-e8aae2f739d1\" class=\"colab-df-container\">\n",
              "    <div>\n",
              "<style scoped>\n",
              "    .dataframe tbody tr th:only-of-type {\n",
              "        vertical-align: middle;\n",
              "    }\n",
              "\n",
              "    .dataframe tbody tr th {\n",
              "        vertical-align: top;\n",
              "    }\n",
              "\n",
              "    .dataframe thead th {\n",
              "        text-align: right;\n",
              "    }\n",
              "</style>\n",
              "<table border=\"1\" class=\"dataframe\">\n",
              "  <thead>\n",
              "    <tr style=\"text-align: right;\">\n",
              "      <th></th>\n",
              "      <th>reviewText</th>\n",
              "      <th>overall</th>\n",
              "      <th>summary</th>\n",
              "    </tr>\n",
              "  </thead>\n",
              "  <tbody>\n",
              "    <tr>\n",
              "      <th>0</th>\n",
              "      <td>Not much to write about here, but it does exac...</td>\n",
              "      <td>5.0</td>\n",
              "      <td>good</td>\n",
              "    </tr>\n",
              "    <tr>\n",
              "      <th>1</th>\n",
              "      <td>The product does exactly as it should and is q...</td>\n",
              "      <td>5.0</td>\n",
              "      <td>Jake</td>\n",
              "    </tr>\n",
              "    <tr>\n",
              "      <th>2</th>\n",
              "      <td>The primary job of this device is to block the...</td>\n",
              "      <td>5.0</td>\n",
              "      <td>It Does The Job Well</td>\n",
              "    </tr>\n",
              "    <tr>\n",
              "      <th>3</th>\n",
              "      <td>Nice windscreen protects my MXL mic and preven...</td>\n",
              "      <td>5.0</td>\n",
              "      <td>GOOD WINDSCREEN FOR THE MONEY</td>\n",
              "    </tr>\n",
              "    <tr>\n",
              "      <th>4</th>\n",
              "      <td>This pop filter is great. It looks and perform...</td>\n",
              "      <td>5.0</td>\n",
              "      <td>No more pops when I record my vocals.</td>\n",
              "    </tr>\n",
              "  </tbody>\n",
              "</table>\n",
              "</div>\n",
              "    <div class=\"colab-df-buttons\">\n",
              "\n",
              "  <div class=\"colab-df-container\">\n",
              "    <button class=\"colab-df-convert\" onclick=\"convertToInteractive('df-04167929-c867-4349-a906-e8aae2f739d1')\"\n",
              "            title=\"Convert this dataframe to an interactive table.\"\n",
              "            style=\"display:none;\">\n",
              "\n",
              "  <svg xmlns=\"http://www.w3.org/2000/svg\" height=\"24px\" viewBox=\"0 -960 960 960\">\n",
              "    <path d=\"M120-120v-720h720v720H120Zm60-500h600v-160H180v160Zm220 220h160v-160H400v160Zm0 220h160v-160H400v160ZM180-400h160v-160H180v160Zm440 0h160v-160H620v160ZM180-180h160v-160H180v160Zm440 0h160v-160H620v160Z\"/>\n",
              "  </svg>\n",
              "    </button>\n",
              "\n",
              "  <style>\n",
              "    .colab-df-container {\n",
              "      display:flex;\n",
              "      gap: 12px;\n",
              "    }\n",
              "\n",
              "    .colab-df-convert {\n",
              "      background-color: #E8F0FE;\n",
              "      border: none;\n",
              "      border-radius: 50%;\n",
              "      cursor: pointer;\n",
              "      display: none;\n",
              "      fill: #1967D2;\n",
              "      height: 32px;\n",
              "      padding: 0 0 0 0;\n",
              "      width: 32px;\n",
              "    }\n",
              "\n",
              "    .colab-df-convert:hover {\n",
              "      background-color: #E2EBFA;\n",
              "      box-shadow: 0px 1px 2px rgba(60, 64, 67, 0.3), 0px 1px 3px 1px rgba(60, 64, 67, 0.15);\n",
              "      fill: #174EA6;\n",
              "    }\n",
              "\n",
              "    .colab-df-buttons div {\n",
              "      margin-bottom: 4px;\n",
              "    }\n",
              "\n",
              "    [theme=dark] .colab-df-convert {\n",
              "      background-color: #3B4455;\n",
              "      fill: #D2E3FC;\n",
              "    }\n",
              "\n",
              "    [theme=dark] .colab-df-convert:hover {\n",
              "      background-color: #434B5C;\n",
              "      box-shadow: 0px 1px 3px 1px rgba(0, 0, 0, 0.15);\n",
              "      filter: drop-shadow(0px 1px 2px rgba(0, 0, 0, 0.3));\n",
              "      fill: #FFFFFF;\n",
              "    }\n",
              "  </style>\n",
              "\n",
              "    <script>\n",
              "      const buttonEl =\n",
              "        document.querySelector('#df-04167929-c867-4349-a906-e8aae2f739d1 button.colab-df-convert');\n",
              "      buttonEl.style.display =\n",
              "        google.colab.kernel.accessAllowed ? 'block' : 'none';\n",
              "\n",
              "      async function convertToInteractive(key) {\n",
              "        const element = document.querySelector('#df-04167929-c867-4349-a906-e8aae2f739d1');\n",
              "        const dataTable =\n",
              "          await google.colab.kernel.invokeFunction('convertToInteractive',\n",
              "                                                    [key], {});\n",
              "        if (!dataTable) return;\n",
              "\n",
              "        const docLinkHtml = 'Like what you see? Visit the ' +\n",
              "          '<a target=\"_blank\" href=https://colab.research.google.com/notebooks/data_table.ipynb>data table notebook</a>'\n",
              "          + ' to learn more about interactive tables.';\n",
              "        element.innerHTML = '';\n",
              "        dataTable['output_type'] = 'display_data';\n",
              "        await google.colab.output.renderOutput(dataTable, element);\n",
              "        const docLink = document.createElement('div');\n",
              "        docLink.innerHTML = docLinkHtml;\n",
              "        element.appendChild(docLink);\n",
              "      }\n",
              "    </script>\n",
              "  </div>\n",
              "\n",
              "\n",
              "<div id=\"df-eefdfc2d-1838-4856-8acc-3b205253e23c\">\n",
              "  <button class=\"colab-df-quickchart\" onclick=\"quickchart('df-eefdfc2d-1838-4856-8acc-3b205253e23c')\"\n",
              "            title=\"Suggest charts\"\n",
              "            style=\"display:none;\">\n",
              "\n",
              "<svg xmlns=\"http://www.w3.org/2000/svg\" height=\"24px\"viewBox=\"0 0 24 24\"\n",
              "     width=\"24px\">\n",
              "    <g>\n",
              "        <path d=\"M19 3H5c-1.1 0-2 .9-2 2v14c0 1.1.9 2 2 2h14c1.1 0 2-.9 2-2V5c0-1.1-.9-2-2-2zM9 17H7v-7h2v7zm4 0h-2V7h2v10zm4 0h-2v-4h2v4z\"/>\n",
              "    </g>\n",
              "</svg>\n",
              "  </button>\n",
              "\n",
              "<style>\n",
              "  .colab-df-quickchart {\n",
              "      --bg-color: #E8F0FE;\n",
              "      --fill-color: #1967D2;\n",
              "      --hover-bg-color: #E2EBFA;\n",
              "      --hover-fill-color: #174EA6;\n",
              "      --disabled-fill-color: #AAA;\n",
              "      --disabled-bg-color: #DDD;\n",
              "  }\n",
              "\n",
              "  [theme=dark] .colab-df-quickchart {\n",
              "      --bg-color: #3B4455;\n",
              "      --fill-color: #D2E3FC;\n",
              "      --hover-bg-color: #434B5C;\n",
              "      --hover-fill-color: #FFFFFF;\n",
              "      --disabled-bg-color: #3B4455;\n",
              "      --disabled-fill-color: #666;\n",
              "  }\n",
              "\n",
              "  .colab-df-quickchart {\n",
              "    background-color: var(--bg-color);\n",
              "    border: none;\n",
              "    border-radius: 50%;\n",
              "    cursor: pointer;\n",
              "    display: none;\n",
              "    fill: var(--fill-color);\n",
              "    height: 32px;\n",
              "    padding: 0;\n",
              "    width: 32px;\n",
              "  }\n",
              "\n",
              "  .colab-df-quickchart:hover {\n",
              "    background-color: var(--hover-bg-color);\n",
              "    box-shadow: 0 1px 2px rgba(60, 64, 67, 0.3), 0 1px 3px 1px rgba(60, 64, 67, 0.15);\n",
              "    fill: var(--button-hover-fill-color);\n",
              "  }\n",
              "\n",
              "  .colab-df-quickchart-complete:disabled,\n",
              "  .colab-df-quickchart-complete:disabled:hover {\n",
              "    background-color: var(--disabled-bg-color);\n",
              "    fill: var(--disabled-fill-color);\n",
              "    box-shadow: none;\n",
              "  }\n",
              "\n",
              "  .colab-df-spinner {\n",
              "    border: 2px solid var(--fill-color);\n",
              "    border-color: transparent;\n",
              "    border-bottom-color: var(--fill-color);\n",
              "    animation:\n",
              "      spin 1s steps(1) infinite;\n",
              "  }\n",
              "\n",
              "  @keyframes spin {\n",
              "    0% {\n",
              "      border-color: transparent;\n",
              "      border-bottom-color: var(--fill-color);\n",
              "      border-left-color: var(--fill-color);\n",
              "    }\n",
              "    20% {\n",
              "      border-color: transparent;\n",
              "      border-left-color: var(--fill-color);\n",
              "      border-top-color: var(--fill-color);\n",
              "    }\n",
              "    30% {\n",
              "      border-color: transparent;\n",
              "      border-left-color: var(--fill-color);\n",
              "      border-top-color: var(--fill-color);\n",
              "      border-right-color: var(--fill-color);\n",
              "    }\n",
              "    40% {\n",
              "      border-color: transparent;\n",
              "      border-right-color: var(--fill-color);\n",
              "      border-top-color: var(--fill-color);\n",
              "    }\n",
              "    60% {\n",
              "      border-color: transparent;\n",
              "      border-right-color: var(--fill-color);\n",
              "    }\n",
              "    80% {\n",
              "      border-color: transparent;\n",
              "      border-right-color: var(--fill-color);\n",
              "      border-bottom-color: var(--fill-color);\n",
              "    }\n",
              "    90% {\n",
              "      border-color: transparent;\n",
              "      border-bottom-color: var(--fill-color);\n",
              "    }\n",
              "  }\n",
              "</style>\n",
              "\n",
              "  <script>\n",
              "    async function quickchart(key) {\n",
              "      const quickchartButtonEl =\n",
              "        document.querySelector('#' + key + ' button');\n",
              "      quickchartButtonEl.disabled = true;  // To prevent multiple clicks.\n",
              "      quickchartButtonEl.classList.add('colab-df-spinner');\n",
              "      try {\n",
              "        const charts = await google.colab.kernel.invokeFunction(\n",
              "            'suggestCharts', [key], {});\n",
              "      } catch (error) {\n",
              "        console.error('Error during call to suggestCharts:', error);\n",
              "      }\n",
              "      quickchartButtonEl.classList.remove('colab-df-spinner');\n",
              "      quickchartButtonEl.classList.add('colab-df-quickchart-complete');\n",
              "    }\n",
              "    (() => {\n",
              "      let quickchartButtonEl =\n",
              "        document.querySelector('#df-eefdfc2d-1838-4856-8acc-3b205253e23c button');\n",
              "      quickchartButtonEl.style.display =\n",
              "        google.colab.kernel.accessAllowed ? 'block' : 'none';\n",
              "    })();\n",
              "  </script>\n",
              "</div>\n",
              "\n",
              "    </div>\n",
              "  </div>\n"
            ],
            "application/vnd.google.colaboratory.intrinsic+json": {
              "type": "dataframe",
              "variable_name": "df",
              "summary": "{\n  \"name\": \"df\",\n  \"rows\": 10261,\n  \"fields\": [\n    {\n      \"column\": \"reviewText\",\n      \"properties\": {\n        \"dtype\": \"string\",\n        \"num_unique_values\": 10255,\n        \"samples\": [\n          \"It's hard not to love a cord that carries electrons all the way to the end. Not sure what, other than complete failure would take stars away.\",\n          \"If you are looking to walk around while you play your guitar, then you might want to look into something longer. As a spare cable to play at home though, it's pretty good.\",\n          \"I bought these to replace a pair of ATH-M45s I had for 6 years. I used my old headphones for listening to music and for tracking in my recording studio. These have assumed the same role and perform wonderfully. I play a lot of electric drums and these cans do a great job of isolating the outside world from what I hear inside the headphones. Listening to music on them is a joy. Everyone has an opinion about a &#34;burn in&#34; period, mine seemed to open up at about 50-60 hours. I listen to music about 3 - 4 hours a day.\"\n        ],\n        \"semantic_type\": \"\",\n        \"description\": \"\"\n      }\n    },\n    {\n      \"column\": \"overall\",\n      \"properties\": {\n        \"dtype\": \"number\",\n        \"std\": 0.8946423761647416,\n        \"min\": 1.0,\n        \"max\": 5.0,\n        \"num_unique_values\": 5,\n        \"samples\": [\n          3.0,\n          1.0,\n          4.0\n        ],\n        \"semantic_type\": \"\",\n        \"description\": \"\"\n      }\n    },\n    {\n      \"column\": \"summary\",\n      \"properties\": {\n        \"dtype\": \"string\",\n        \"num_unique_values\": 8852,\n        \"samples\": [\n          \"5 plugs, 1 power source...this is a good thing\",\n          \"Great Package. It finally stayed in Tune after multiple adjustments\",\n          \"Good enough for professional use\"\n        ],\n        \"semantic_type\": \"\",\n        \"description\": \"\"\n      }\n    }\n  ]\n}"
            }
          },
          "metadata": {},
          "execution_count": 9
        }
      ]
    },
    {
      "cell_type": "markdown",
      "source": [
        "### Creamos una nueva columna concatenando los valores de las columnas 'reviewText' y 'summary' a la cual llamaremos 'text'. Luego procedemos a eliminar las columnas 'reviewText' y 'summary'"
      ],
      "metadata": {
        "id": "0oFt48t1pqWm"
      }
    },
    {
      "cell_type": "code",
      "source": [
        "df['text'] = df['reviewText'] + ' ' + df['summary']\n",
        "df = df.drop(['reviewText', 'summary'], axis=1)"
      ],
      "metadata": {
        "id": "20UXz15aW-jb"
      },
      "execution_count": 10,
      "outputs": []
    },
    {
      "cell_type": "code",
      "source": [
        "df.head()"
      ],
      "metadata": {
        "colab": {
          "base_uri": "https://localhost:8080/",
          "height": 206
        },
        "id": "LRvSYphbXAvF",
        "outputId": "230421ef-b2b9-4d2a-8ac7-cebee2d05f17"
      },
      "execution_count": 108,
      "outputs": [
        {
          "output_type": "execute_result",
          "data": {
            "text/plain": [
              "   overall                                               text\n",
              "0      5.0  Not much to write about here, but it does exac...\n",
              "1      5.0  The product does exactly as it should and is q...\n",
              "2      5.0  The primary job of this device is to block the...\n",
              "3      5.0  Nice windscreen protects my MXL mic and preven...\n",
              "4      5.0  This pop filter is great. It looks and perform..."
            ],
            "text/html": [
              "\n",
              "  <div id=\"df-f2e64633-64a9-4904-ac5c-254f78f6c1ce\" class=\"colab-df-container\">\n",
              "    <div>\n",
              "<style scoped>\n",
              "    .dataframe tbody tr th:only-of-type {\n",
              "        vertical-align: middle;\n",
              "    }\n",
              "\n",
              "    .dataframe tbody tr th {\n",
              "        vertical-align: top;\n",
              "    }\n",
              "\n",
              "    .dataframe thead th {\n",
              "        text-align: right;\n",
              "    }\n",
              "</style>\n",
              "<table border=\"1\" class=\"dataframe\">\n",
              "  <thead>\n",
              "    <tr style=\"text-align: right;\">\n",
              "      <th></th>\n",
              "      <th>overall</th>\n",
              "      <th>text</th>\n",
              "    </tr>\n",
              "  </thead>\n",
              "  <tbody>\n",
              "    <tr>\n",
              "      <th>0</th>\n",
              "      <td>5.0</td>\n",
              "      <td>Not much to write about here, but it does exac...</td>\n",
              "    </tr>\n",
              "    <tr>\n",
              "      <th>1</th>\n",
              "      <td>5.0</td>\n",
              "      <td>The product does exactly as it should and is q...</td>\n",
              "    </tr>\n",
              "    <tr>\n",
              "      <th>2</th>\n",
              "      <td>5.0</td>\n",
              "      <td>The primary job of this device is to block the...</td>\n",
              "    </tr>\n",
              "    <tr>\n",
              "      <th>3</th>\n",
              "      <td>5.0</td>\n",
              "      <td>Nice windscreen protects my MXL mic and preven...</td>\n",
              "    </tr>\n",
              "    <tr>\n",
              "      <th>4</th>\n",
              "      <td>5.0</td>\n",
              "      <td>This pop filter is great. It looks and perform...</td>\n",
              "    </tr>\n",
              "  </tbody>\n",
              "</table>\n",
              "</div>\n",
              "    <div class=\"colab-df-buttons\">\n",
              "\n",
              "  <div class=\"colab-df-container\">\n",
              "    <button class=\"colab-df-convert\" onclick=\"convertToInteractive('df-f2e64633-64a9-4904-ac5c-254f78f6c1ce')\"\n",
              "            title=\"Convert this dataframe to an interactive table.\"\n",
              "            style=\"display:none;\">\n",
              "\n",
              "  <svg xmlns=\"http://www.w3.org/2000/svg\" height=\"24px\" viewBox=\"0 -960 960 960\">\n",
              "    <path d=\"M120-120v-720h720v720H120Zm60-500h600v-160H180v160Zm220 220h160v-160H400v160Zm0 220h160v-160H400v160ZM180-400h160v-160H180v160Zm440 0h160v-160H620v160ZM180-180h160v-160H180v160Zm440 0h160v-160H620v160Z\"/>\n",
              "  </svg>\n",
              "    </button>\n",
              "\n",
              "  <style>\n",
              "    .colab-df-container {\n",
              "      display:flex;\n",
              "      gap: 12px;\n",
              "    }\n",
              "\n",
              "    .colab-df-convert {\n",
              "      background-color: #E8F0FE;\n",
              "      border: none;\n",
              "      border-radius: 50%;\n",
              "      cursor: pointer;\n",
              "      display: none;\n",
              "      fill: #1967D2;\n",
              "      height: 32px;\n",
              "      padding: 0 0 0 0;\n",
              "      width: 32px;\n",
              "    }\n",
              "\n",
              "    .colab-df-convert:hover {\n",
              "      background-color: #E2EBFA;\n",
              "      box-shadow: 0px 1px 2px rgba(60, 64, 67, 0.3), 0px 1px 3px 1px rgba(60, 64, 67, 0.15);\n",
              "      fill: #174EA6;\n",
              "    }\n",
              "\n",
              "    .colab-df-buttons div {\n",
              "      margin-bottom: 4px;\n",
              "    }\n",
              "\n",
              "    [theme=dark] .colab-df-convert {\n",
              "      background-color: #3B4455;\n",
              "      fill: #D2E3FC;\n",
              "    }\n",
              "\n",
              "    [theme=dark] .colab-df-convert:hover {\n",
              "      background-color: #434B5C;\n",
              "      box-shadow: 0px 1px 3px 1px rgba(0, 0, 0, 0.15);\n",
              "      filter: drop-shadow(0px 1px 2px rgba(0, 0, 0, 0.3));\n",
              "      fill: #FFFFFF;\n",
              "    }\n",
              "  </style>\n",
              "\n",
              "    <script>\n",
              "      const buttonEl =\n",
              "        document.querySelector('#df-f2e64633-64a9-4904-ac5c-254f78f6c1ce button.colab-df-convert');\n",
              "      buttonEl.style.display =\n",
              "        google.colab.kernel.accessAllowed ? 'block' : 'none';\n",
              "\n",
              "      async function convertToInteractive(key) {\n",
              "        const element = document.querySelector('#df-f2e64633-64a9-4904-ac5c-254f78f6c1ce');\n",
              "        const dataTable =\n",
              "          await google.colab.kernel.invokeFunction('convertToInteractive',\n",
              "                                                    [key], {});\n",
              "        if (!dataTable) return;\n",
              "\n",
              "        const docLinkHtml = 'Like what you see? Visit the ' +\n",
              "          '<a target=\"_blank\" href=https://colab.research.google.com/notebooks/data_table.ipynb>data table notebook</a>'\n",
              "          + ' to learn more about interactive tables.';\n",
              "        element.innerHTML = '';\n",
              "        dataTable['output_type'] = 'display_data';\n",
              "        await google.colab.output.renderOutput(dataTable, element);\n",
              "        const docLink = document.createElement('div');\n",
              "        docLink.innerHTML = docLinkHtml;\n",
              "        element.appendChild(docLink);\n",
              "      }\n",
              "    </script>\n",
              "  </div>\n",
              "\n",
              "\n",
              "<div id=\"df-2692af9a-74ee-4340-af22-d8e9878d20c7\">\n",
              "  <button class=\"colab-df-quickchart\" onclick=\"quickchart('df-2692af9a-74ee-4340-af22-d8e9878d20c7')\"\n",
              "            title=\"Suggest charts\"\n",
              "            style=\"display:none;\">\n",
              "\n",
              "<svg xmlns=\"http://www.w3.org/2000/svg\" height=\"24px\"viewBox=\"0 0 24 24\"\n",
              "     width=\"24px\">\n",
              "    <g>\n",
              "        <path d=\"M19 3H5c-1.1 0-2 .9-2 2v14c0 1.1.9 2 2 2h14c1.1 0 2-.9 2-2V5c0-1.1-.9-2-2-2zM9 17H7v-7h2v7zm4 0h-2V7h2v10zm4 0h-2v-4h2v4z\"/>\n",
              "    </g>\n",
              "</svg>\n",
              "  </button>\n",
              "\n",
              "<style>\n",
              "  .colab-df-quickchart {\n",
              "      --bg-color: #E8F0FE;\n",
              "      --fill-color: #1967D2;\n",
              "      --hover-bg-color: #E2EBFA;\n",
              "      --hover-fill-color: #174EA6;\n",
              "      --disabled-fill-color: #AAA;\n",
              "      --disabled-bg-color: #DDD;\n",
              "  }\n",
              "\n",
              "  [theme=dark] .colab-df-quickchart {\n",
              "      --bg-color: #3B4455;\n",
              "      --fill-color: #D2E3FC;\n",
              "      --hover-bg-color: #434B5C;\n",
              "      --hover-fill-color: #FFFFFF;\n",
              "      --disabled-bg-color: #3B4455;\n",
              "      --disabled-fill-color: #666;\n",
              "  }\n",
              "\n",
              "  .colab-df-quickchart {\n",
              "    background-color: var(--bg-color);\n",
              "    border: none;\n",
              "    border-radius: 50%;\n",
              "    cursor: pointer;\n",
              "    display: none;\n",
              "    fill: var(--fill-color);\n",
              "    height: 32px;\n",
              "    padding: 0;\n",
              "    width: 32px;\n",
              "  }\n",
              "\n",
              "  .colab-df-quickchart:hover {\n",
              "    background-color: var(--hover-bg-color);\n",
              "    box-shadow: 0 1px 2px rgba(60, 64, 67, 0.3), 0 1px 3px 1px rgba(60, 64, 67, 0.15);\n",
              "    fill: var(--button-hover-fill-color);\n",
              "  }\n",
              "\n",
              "  .colab-df-quickchart-complete:disabled,\n",
              "  .colab-df-quickchart-complete:disabled:hover {\n",
              "    background-color: var(--disabled-bg-color);\n",
              "    fill: var(--disabled-fill-color);\n",
              "    box-shadow: none;\n",
              "  }\n",
              "\n",
              "  .colab-df-spinner {\n",
              "    border: 2px solid var(--fill-color);\n",
              "    border-color: transparent;\n",
              "    border-bottom-color: var(--fill-color);\n",
              "    animation:\n",
              "      spin 1s steps(1) infinite;\n",
              "  }\n",
              "\n",
              "  @keyframes spin {\n",
              "    0% {\n",
              "      border-color: transparent;\n",
              "      border-bottom-color: var(--fill-color);\n",
              "      border-left-color: var(--fill-color);\n",
              "    }\n",
              "    20% {\n",
              "      border-color: transparent;\n",
              "      border-left-color: var(--fill-color);\n",
              "      border-top-color: var(--fill-color);\n",
              "    }\n",
              "    30% {\n",
              "      border-color: transparent;\n",
              "      border-left-color: var(--fill-color);\n",
              "      border-top-color: var(--fill-color);\n",
              "      border-right-color: var(--fill-color);\n",
              "    }\n",
              "    40% {\n",
              "      border-color: transparent;\n",
              "      border-right-color: var(--fill-color);\n",
              "      border-top-color: var(--fill-color);\n",
              "    }\n",
              "    60% {\n",
              "      border-color: transparent;\n",
              "      border-right-color: var(--fill-color);\n",
              "    }\n",
              "    80% {\n",
              "      border-color: transparent;\n",
              "      border-right-color: var(--fill-color);\n",
              "      border-bottom-color: var(--fill-color);\n",
              "    }\n",
              "    90% {\n",
              "      border-color: transparent;\n",
              "      border-bottom-color: var(--fill-color);\n",
              "    }\n",
              "  }\n",
              "</style>\n",
              "\n",
              "  <script>\n",
              "    async function quickchart(key) {\n",
              "      const quickchartButtonEl =\n",
              "        document.querySelector('#' + key + ' button');\n",
              "      quickchartButtonEl.disabled = true;  // To prevent multiple clicks.\n",
              "      quickchartButtonEl.classList.add('colab-df-spinner');\n",
              "      try {\n",
              "        const charts = await google.colab.kernel.invokeFunction(\n",
              "            'suggestCharts', [key], {});\n",
              "      } catch (error) {\n",
              "        console.error('Error during call to suggestCharts:', error);\n",
              "      }\n",
              "      quickchartButtonEl.classList.remove('colab-df-spinner');\n",
              "      quickchartButtonEl.classList.add('colab-df-quickchart-complete');\n",
              "    }\n",
              "    (() => {\n",
              "      let quickchartButtonEl =\n",
              "        document.querySelector('#df-2692af9a-74ee-4340-af22-d8e9878d20c7 button');\n",
              "      quickchartButtonEl.style.display =\n",
              "        google.colab.kernel.accessAllowed ? 'block' : 'none';\n",
              "    })();\n",
              "  </script>\n",
              "</div>\n",
              "\n",
              "    </div>\n",
              "  </div>\n"
            ],
            "application/vnd.google.colaboratory.intrinsic+json": {
              "type": "dataframe",
              "variable_name": "df",
              "summary": "{\n  \"name\": \"df\",\n  \"rows\": 10261,\n  \"fields\": [\n    {\n      \"column\": \"overall\",\n      \"properties\": {\n        \"dtype\": \"number\",\n        \"std\": 0.8946423761647286,\n        \"min\": 1.0,\n        \"max\": 5.0,\n        \"num_unique_values\": 5,\n        \"samples\": [\n          3.0,\n          1.0,\n          4.0\n        ],\n        \"semantic_type\": \"\",\n        \"description\": \"\"\n      }\n    },\n    {\n      \"column\": \"text\",\n      \"properties\": {\n        \"dtype\": \"string\",\n        \"num_unique_values\": 10261,\n        \"samples\": [\n          \"I've been using these on my acoustic guitars (and straps) for over a decade.  They're sturdy and convenient, and so much more attractive than adding a shoelace to your strap.  The ability to quickly disconnect the strap for storage (or when you don't need the strap hanging from your guitar, e.g., sitting in a chair) works exactly as advertised.  I've purchased several of these and can't say enough good things about the product and company! GREAT solution for acoustic guitar\",\n          \"Sounds like a great concept and they seem well made. I just don't care for them. I know others love them so I guess it's just a personal thing.It took weeks to receive them in the US. Don't be in a rush. Not crazy about them and took a long time to arrive in the US\",\n          \"I recently ordered a wide variety of picks to find the ones I liked best. These sounded different \\\"gel\\\" picks. I do not like them. Being see through distracts me. They are a little scratchy on the edges. Perhaps a more experienced guitar player would do fine with them but being at the stage where I am still looking at what I am doing - I just can't use them well. Not what I would grab to play with\"\n        ],\n        \"semantic_type\": \"\",\n        \"description\": \"\"\n      }\n    }\n  ]\n}"
            }
          },
          "metadata": {},
          "execution_count": 108
        }
      ]
    },
    {
      "cell_type": "markdown",
      "source": [
        "### Procedemos a realizar un recuento de los valores de la columna 'overall' para saber cuantas calificaciones hay en cada uno de los valores (1 al 5)"
      ],
      "metadata": {
        "id": "9bAtKn8NqV8v"
      }
    },
    {
      "cell_type": "code",
      "source": [
        "df.overall.value_counts()"
      ],
      "metadata": {
        "colab": {
          "base_uri": "https://localhost:8080/",
          "height": 272
        },
        "id": "l6C0i1TfXDsf",
        "outputId": "7261002a-e87f-400d-9479-25fabcd62011"
      },
      "execution_count": 11,
      "outputs": [
        {
          "output_type": "execute_result",
          "data": {
            "text/plain": [
              "overall\n",
              "5.0    6938\n",
              "4.0    2084\n",
              "3.0     772\n",
              "2.0     250\n",
              "1.0     217\n",
              "Name: count, dtype: int64"
            ],
            "text/html": [
              "<div>\n",
              "<style scoped>\n",
              "    .dataframe tbody tr th:only-of-type {\n",
              "        vertical-align: middle;\n",
              "    }\n",
              "\n",
              "    .dataframe tbody tr th {\n",
              "        vertical-align: top;\n",
              "    }\n",
              "\n",
              "    .dataframe thead th {\n",
              "        text-align: right;\n",
              "    }\n",
              "</style>\n",
              "<table border=\"1\" class=\"dataframe\">\n",
              "  <thead>\n",
              "    <tr style=\"text-align: right;\">\n",
              "      <th></th>\n",
              "      <th>count</th>\n",
              "    </tr>\n",
              "    <tr>\n",
              "      <th>overall</th>\n",
              "      <th></th>\n",
              "    </tr>\n",
              "  </thead>\n",
              "  <tbody>\n",
              "    <tr>\n",
              "      <th>5.0</th>\n",
              "      <td>6938</td>\n",
              "    </tr>\n",
              "    <tr>\n",
              "      <th>4.0</th>\n",
              "      <td>2084</td>\n",
              "    </tr>\n",
              "    <tr>\n",
              "      <th>3.0</th>\n",
              "      <td>772</td>\n",
              "    </tr>\n",
              "    <tr>\n",
              "      <th>2.0</th>\n",
              "      <td>250</td>\n",
              "    </tr>\n",
              "    <tr>\n",
              "      <th>1.0</th>\n",
              "      <td>217</td>\n",
              "    </tr>\n",
              "  </tbody>\n",
              "</table>\n",
              "</div><br><label><b>dtype:</b> int64</label>"
            ]
          },
          "metadata": {},
          "execution_count": 11
        }
      ]
    },
    {
      "cell_type": "markdown",
      "source": [
        "### Tal como se explicó en el objetivo se toman las reseñas consideradas neutrales (aquellas con un valor igual a 3) como negativas. Por lo cual a continuación se procede a se para las reseñas entre \"Positivas\" con un valor igual a 1 y \"Negativas\" con un valor de 0."
      ],
      "metadata": {
        "id": "nRG_LRoBqyq-"
      }
    },
    {
      "cell_type": "code",
      "source": [
        "df['sentiment'] = df['overall'].apply(lambda rating: '1' if rating > 3 else '0')"
      ],
      "metadata": {
        "id": "3Fi287qtCL2Q"
      },
      "execution_count": 12,
      "outputs": []
    },
    {
      "cell_type": "markdown",
      "source": [
        "### Una vez realizada la clasificación de las review se elimina la columna 'overall'"
      ],
      "metadata": {
        "id": "nxLVD_mTy1Bz"
      }
    },
    {
      "cell_type": "code",
      "source": [
        "df['sentiment'].value_counts()"
      ],
      "metadata": {
        "colab": {
          "base_uri": "https://localhost:8080/",
          "height": 178
        },
        "id": "mhcTCMoTCp7d",
        "outputId": "82b8fe15-3c3e-41c4-95be-a6b9393ed33d"
      },
      "execution_count": 13,
      "outputs": [
        {
          "output_type": "execute_result",
          "data": {
            "text/plain": [
              "sentiment\n",
              "1    9022\n",
              "0    1239\n",
              "Name: count, dtype: int64"
            ],
            "text/html": [
              "<div>\n",
              "<style scoped>\n",
              "    .dataframe tbody tr th:only-of-type {\n",
              "        vertical-align: middle;\n",
              "    }\n",
              "\n",
              "    .dataframe tbody tr th {\n",
              "        vertical-align: top;\n",
              "    }\n",
              "\n",
              "    .dataframe thead th {\n",
              "        text-align: right;\n",
              "    }\n",
              "</style>\n",
              "<table border=\"1\" class=\"dataframe\">\n",
              "  <thead>\n",
              "    <tr style=\"text-align: right;\">\n",
              "      <th></th>\n",
              "      <th>count</th>\n",
              "    </tr>\n",
              "    <tr>\n",
              "      <th>sentiment</th>\n",
              "      <th></th>\n",
              "    </tr>\n",
              "  </thead>\n",
              "  <tbody>\n",
              "    <tr>\n",
              "      <th>1</th>\n",
              "      <td>9022</td>\n",
              "    </tr>\n",
              "    <tr>\n",
              "      <th>0</th>\n",
              "      <td>1239</td>\n",
              "    </tr>\n",
              "  </tbody>\n",
              "</table>\n",
              "</div><br><label><b>dtype:</b> int64</label>"
            ]
          },
          "metadata": {},
          "execution_count": 13
        }
      ]
    },
    {
      "cell_type": "code",
      "source": [
        "df.drop('overall', axis=1, inplace=True)"
      ],
      "metadata": {
        "id": "yZCiEGeXCuHU"
      },
      "execution_count": 14,
      "outputs": []
    },
    {
      "cell_type": "code",
      "source": [
        "df.head()"
      ],
      "metadata": {
        "colab": {
          "base_uri": "https://localhost:8080/",
          "height": 206
        },
        "id": "85I8oijpCw-E",
        "outputId": "27f08b6c-e97a-4dbd-a8ef-4c4645a961af"
      },
      "execution_count": 15,
      "outputs": [
        {
          "output_type": "execute_result",
          "data": {
            "text/plain": [
              "                                                text sentiment\n",
              "0  Not much to write about here, but it does exac...         1\n",
              "1  The product does exactly as it should and is q...         1\n",
              "2  The primary job of this device is to block the...         1\n",
              "3  Nice windscreen protects my MXL mic and preven...         1\n",
              "4  This pop filter is great. It looks and perform...         1"
            ],
            "text/html": [
              "\n",
              "  <div id=\"df-bd9b853a-dde3-4ae2-bdb3-6d08bcbdc8aa\" class=\"colab-df-container\">\n",
              "    <div>\n",
              "<style scoped>\n",
              "    .dataframe tbody tr th:only-of-type {\n",
              "        vertical-align: middle;\n",
              "    }\n",
              "\n",
              "    .dataframe tbody tr th {\n",
              "        vertical-align: top;\n",
              "    }\n",
              "\n",
              "    .dataframe thead th {\n",
              "        text-align: right;\n",
              "    }\n",
              "</style>\n",
              "<table border=\"1\" class=\"dataframe\">\n",
              "  <thead>\n",
              "    <tr style=\"text-align: right;\">\n",
              "      <th></th>\n",
              "      <th>text</th>\n",
              "      <th>sentiment</th>\n",
              "    </tr>\n",
              "  </thead>\n",
              "  <tbody>\n",
              "    <tr>\n",
              "      <th>0</th>\n",
              "      <td>Not much to write about here, but it does exac...</td>\n",
              "      <td>1</td>\n",
              "    </tr>\n",
              "    <tr>\n",
              "      <th>1</th>\n",
              "      <td>The product does exactly as it should and is q...</td>\n",
              "      <td>1</td>\n",
              "    </tr>\n",
              "    <tr>\n",
              "      <th>2</th>\n",
              "      <td>The primary job of this device is to block the...</td>\n",
              "      <td>1</td>\n",
              "    </tr>\n",
              "    <tr>\n",
              "      <th>3</th>\n",
              "      <td>Nice windscreen protects my MXL mic and preven...</td>\n",
              "      <td>1</td>\n",
              "    </tr>\n",
              "    <tr>\n",
              "      <th>4</th>\n",
              "      <td>This pop filter is great. It looks and perform...</td>\n",
              "      <td>1</td>\n",
              "    </tr>\n",
              "  </tbody>\n",
              "</table>\n",
              "</div>\n",
              "    <div class=\"colab-df-buttons\">\n",
              "\n",
              "  <div class=\"colab-df-container\">\n",
              "    <button class=\"colab-df-convert\" onclick=\"convertToInteractive('df-bd9b853a-dde3-4ae2-bdb3-6d08bcbdc8aa')\"\n",
              "            title=\"Convert this dataframe to an interactive table.\"\n",
              "            style=\"display:none;\">\n",
              "\n",
              "  <svg xmlns=\"http://www.w3.org/2000/svg\" height=\"24px\" viewBox=\"0 -960 960 960\">\n",
              "    <path d=\"M120-120v-720h720v720H120Zm60-500h600v-160H180v160Zm220 220h160v-160H400v160Zm0 220h160v-160H400v160ZM180-400h160v-160H180v160Zm440 0h160v-160H620v160ZM180-180h160v-160H180v160Zm440 0h160v-160H620v160Z\"/>\n",
              "  </svg>\n",
              "    </button>\n",
              "\n",
              "  <style>\n",
              "    .colab-df-container {\n",
              "      display:flex;\n",
              "      gap: 12px;\n",
              "    }\n",
              "\n",
              "    .colab-df-convert {\n",
              "      background-color: #E8F0FE;\n",
              "      border: none;\n",
              "      border-radius: 50%;\n",
              "      cursor: pointer;\n",
              "      display: none;\n",
              "      fill: #1967D2;\n",
              "      height: 32px;\n",
              "      padding: 0 0 0 0;\n",
              "      width: 32px;\n",
              "    }\n",
              "\n",
              "    .colab-df-convert:hover {\n",
              "      background-color: #E2EBFA;\n",
              "      box-shadow: 0px 1px 2px rgba(60, 64, 67, 0.3), 0px 1px 3px 1px rgba(60, 64, 67, 0.15);\n",
              "      fill: #174EA6;\n",
              "    }\n",
              "\n",
              "    .colab-df-buttons div {\n",
              "      margin-bottom: 4px;\n",
              "    }\n",
              "\n",
              "    [theme=dark] .colab-df-convert {\n",
              "      background-color: #3B4455;\n",
              "      fill: #D2E3FC;\n",
              "    }\n",
              "\n",
              "    [theme=dark] .colab-df-convert:hover {\n",
              "      background-color: #434B5C;\n",
              "      box-shadow: 0px 1px 3px 1px rgba(0, 0, 0, 0.15);\n",
              "      filter: drop-shadow(0px 1px 2px rgba(0, 0, 0, 0.3));\n",
              "      fill: #FFFFFF;\n",
              "    }\n",
              "  </style>\n",
              "\n",
              "    <script>\n",
              "      const buttonEl =\n",
              "        document.querySelector('#df-bd9b853a-dde3-4ae2-bdb3-6d08bcbdc8aa button.colab-df-convert');\n",
              "      buttonEl.style.display =\n",
              "        google.colab.kernel.accessAllowed ? 'block' : 'none';\n",
              "\n",
              "      async function convertToInteractive(key) {\n",
              "        const element = document.querySelector('#df-bd9b853a-dde3-4ae2-bdb3-6d08bcbdc8aa');\n",
              "        const dataTable =\n",
              "          await google.colab.kernel.invokeFunction('convertToInteractive',\n",
              "                                                    [key], {});\n",
              "        if (!dataTable) return;\n",
              "\n",
              "        const docLinkHtml = 'Like what you see? Visit the ' +\n",
              "          '<a target=\"_blank\" href=https://colab.research.google.com/notebooks/data_table.ipynb>data table notebook</a>'\n",
              "          + ' to learn more about interactive tables.';\n",
              "        element.innerHTML = '';\n",
              "        dataTable['output_type'] = 'display_data';\n",
              "        await google.colab.output.renderOutput(dataTable, element);\n",
              "        const docLink = document.createElement('div');\n",
              "        docLink.innerHTML = docLinkHtml;\n",
              "        element.appendChild(docLink);\n",
              "      }\n",
              "    </script>\n",
              "  </div>\n",
              "\n",
              "\n",
              "<div id=\"df-8d956efa-d4d4-4c7a-852a-100fafb1a832\">\n",
              "  <button class=\"colab-df-quickchart\" onclick=\"quickchart('df-8d956efa-d4d4-4c7a-852a-100fafb1a832')\"\n",
              "            title=\"Suggest charts\"\n",
              "            style=\"display:none;\">\n",
              "\n",
              "<svg xmlns=\"http://www.w3.org/2000/svg\" height=\"24px\"viewBox=\"0 0 24 24\"\n",
              "     width=\"24px\">\n",
              "    <g>\n",
              "        <path d=\"M19 3H5c-1.1 0-2 .9-2 2v14c0 1.1.9 2 2 2h14c1.1 0 2-.9 2-2V5c0-1.1-.9-2-2-2zM9 17H7v-7h2v7zm4 0h-2V7h2v10zm4 0h-2v-4h2v4z\"/>\n",
              "    </g>\n",
              "</svg>\n",
              "  </button>\n",
              "\n",
              "<style>\n",
              "  .colab-df-quickchart {\n",
              "      --bg-color: #E8F0FE;\n",
              "      --fill-color: #1967D2;\n",
              "      --hover-bg-color: #E2EBFA;\n",
              "      --hover-fill-color: #174EA6;\n",
              "      --disabled-fill-color: #AAA;\n",
              "      --disabled-bg-color: #DDD;\n",
              "  }\n",
              "\n",
              "  [theme=dark] .colab-df-quickchart {\n",
              "      --bg-color: #3B4455;\n",
              "      --fill-color: #D2E3FC;\n",
              "      --hover-bg-color: #434B5C;\n",
              "      --hover-fill-color: #FFFFFF;\n",
              "      --disabled-bg-color: #3B4455;\n",
              "      --disabled-fill-color: #666;\n",
              "  }\n",
              "\n",
              "  .colab-df-quickchart {\n",
              "    background-color: var(--bg-color);\n",
              "    border: none;\n",
              "    border-radius: 50%;\n",
              "    cursor: pointer;\n",
              "    display: none;\n",
              "    fill: var(--fill-color);\n",
              "    height: 32px;\n",
              "    padding: 0;\n",
              "    width: 32px;\n",
              "  }\n",
              "\n",
              "  .colab-df-quickchart:hover {\n",
              "    background-color: var(--hover-bg-color);\n",
              "    box-shadow: 0 1px 2px rgba(60, 64, 67, 0.3), 0 1px 3px 1px rgba(60, 64, 67, 0.15);\n",
              "    fill: var(--button-hover-fill-color);\n",
              "  }\n",
              "\n",
              "  .colab-df-quickchart-complete:disabled,\n",
              "  .colab-df-quickchart-complete:disabled:hover {\n",
              "    background-color: var(--disabled-bg-color);\n",
              "    fill: var(--disabled-fill-color);\n",
              "    box-shadow: none;\n",
              "  }\n",
              "\n",
              "  .colab-df-spinner {\n",
              "    border: 2px solid var(--fill-color);\n",
              "    border-color: transparent;\n",
              "    border-bottom-color: var(--fill-color);\n",
              "    animation:\n",
              "      spin 1s steps(1) infinite;\n",
              "  }\n",
              "\n",
              "  @keyframes spin {\n",
              "    0% {\n",
              "      border-color: transparent;\n",
              "      border-bottom-color: var(--fill-color);\n",
              "      border-left-color: var(--fill-color);\n",
              "    }\n",
              "    20% {\n",
              "      border-color: transparent;\n",
              "      border-left-color: var(--fill-color);\n",
              "      border-top-color: var(--fill-color);\n",
              "    }\n",
              "    30% {\n",
              "      border-color: transparent;\n",
              "      border-left-color: var(--fill-color);\n",
              "      border-top-color: var(--fill-color);\n",
              "      border-right-color: var(--fill-color);\n",
              "    }\n",
              "    40% {\n",
              "      border-color: transparent;\n",
              "      border-right-color: var(--fill-color);\n",
              "      border-top-color: var(--fill-color);\n",
              "    }\n",
              "    60% {\n",
              "      border-color: transparent;\n",
              "      border-right-color: var(--fill-color);\n",
              "    }\n",
              "    80% {\n",
              "      border-color: transparent;\n",
              "      border-right-color: var(--fill-color);\n",
              "      border-bottom-color: var(--fill-color);\n",
              "    }\n",
              "    90% {\n",
              "      border-color: transparent;\n",
              "      border-bottom-color: var(--fill-color);\n",
              "    }\n",
              "  }\n",
              "</style>\n",
              "\n",
              "  <script>\n",
              "    async function quickchart(key) {\n",
              "      const quickchartButtonEl =\n",
              "        document.querySelector('#' + key + ' button');\n",
              "      quickchartButtonEl.disabled = true;  // To prevent multiple clicks.\n",
              "      quickchartButtonEl.classList.add('colab-df-spinner');\n",
              "      try {\n",
              "        const charts = await google.colab.kernel.invokeFunction(\n",
              "            'suggestCharts', [key], {});\n",
              "      } catch (error) {\n",
              "        console.error('Error during call to suggestCharts:', error);\n",
              "      }\n",
              "      quickchartButtonEl.classList.remove('colab-df-spinner');\n",
              "      quickchartButtonEl.classList.add('colab-df-quickchart-complete');\n",
              "    }\n",
              "    (() => {\n",
              "      let quickchartButtonEl =\n",
              "        document.querySelector('#df-8d956efa-d4d4-4c7a-852a-100fafb1a832 button');\n",
              "      quickchartButtonEl.style.display =\n",
              "        google.colab.kernel.accessAllowed ? 'block' : 'none';\n",
              "    })();\n",
              "  </script>\n",
              "</div>\n",
              "\n",
              "    </div>\n",
              "  </div>\n"
            ],
            "application/vnd.google.colaboratory.intrinsic+json": {
              "type": "dataframe",
              "variable_name": "df",
              "summary": "{\n  \"name\": \"df\",\n  \"rows\": 10261,\n  \"fields\": [\n    {\n      \"column\": \"text\",\n      \"properties\": {\n        \"dtype\": \"string\",\n        \"num_unique_values\": 10261,\n        \"samples\": [\n          \"I've been using these on my acoustic guitars (and straps) for over a decade.  They're sturdy and convenient, and so much more attractive than adding a shoelace to your strap.  The ability to quickly disconnect the strap for storage (or when you don't need the strap hanging from your guitar, e.g., sitting in a chair) works exactly as advertised.  I've purchased several of these and can't say enough good things about the product and company! GREAT solution for acoustic guitar\",\n          \"Sounds like a great concept and they seem well made. I just don't care for them. I know others love them so I guess it's just a personal thing.It took weeks to receive them in the US. Don't be in a rush. Not crazy about them and took a long time to arrive in the US\",\n          \"I recently ordered a wide variety of picks to find the ones I liked best. These sounded different \\\"gel\\\" picks. I do not like them. Being see through distracts me. They are a little scratchy on the edges. Perhaps a more experienced guitar player would do fine with them but being at the stage where I am still looking at what I am doing - I just can't use them well. Not what I would grab to play with\"\n        ],\n        \"semantic_type\": \"\",\n        \"description\": \"\"\n      }\n    },\n    {\n      \"column\": \"sentiment\",\n      \"properties\": {\n        \"dtype\": \"category\",\n        \"num_unique_values\": 2,\n        \"samples\": [\n          \"0\",\n          \"1\"\n        ],\n        \"semantic_type\": \"\",\n        \"description\": \"\"\n      }\n    }\n  ]\n}"
            }
          },
          "metadata": {},
          "execution_count": 15
        }
      ]
    },
    {
      "cell_type": "code",
      "source": [
        "df.isnull().sum()"
      ],
      "metadata": {
        "colab": {
          "base_uri": "https://localhost:8080/",
          "height": 147
        },
        "id": "V1_YmlhXC1MB",
        "outputId": "ac537c9b-2bae-40ed-814a-815d3d52ce12"
      },
      "execution_count": 16,
      "outputs": [
        {
          "output_type": "execute_result",
          "data": {
            "text/plain": [
              "text         0\n",
              "sentiment    0\n",
              "dtype: int64"
            ],
            "text/html": [
              "<div>\n",
              "<style scoped>\n",
              "    .dataframe tbody tr th:only-of-type {\n",
              "        vertical-align: middle;\n",
              "    }\n",
              "\n",
              "    .dataframe tbody tr th {\n",
              "        vertical-align: top;\n",
              "    }\n",
              "\n",
              "    .dataframe thead th {\n",
              "        text-align: right;\n",
              "    }\n",
              "</style>\n",
              "<table border=\"1\" class=\"dataframe\">\n",
              "  <thead>\n",
              "    <tr style=\"text-align: right;\">\n",
              "      <th></th>\n",
              "      <th>0</th>\n",
              "    </tr>\n",
              "  </thead>\n",
              "  <tbody>\n",
              "    <tr>\n",
              "      <th>text</th>\n",
              "      <td>0</td>\n",
              "    </tr>\n",
              "    <tr>\n",
              "      <th>sentiment</th>\n",
              "      <td>0</td>\n",
              "    </tr>\n",
              "  </tbody>\n",
              "</table>\n",
              "</div><br><label><b>dtype:</b> int64</label>"
            ]
          },
          "metadata": {},
          "execution_count": 16
        }
      ]
    },
    {
      "cell_type": "markdown",
      "source": [
        "### A continuacion realizamos un gráfico de barras para observar las reseñas \"Positivas\" y \"Negativas\""
      ],
      "metadata": {
        "id": "1whK_kwarvKS"
      }
    },
    {
      "cell_type": "code",
      "source": [
        "plt.figure(figsize=(8, 6))\n",
        "sentiment_counts = df['sentiment'].value_counts()\n",
        "sentiment_counts.plot(kind='bar', color='skyblue')\n",
        "\n",
        "# Label the bars with sentiment labels\n",
        "for i, count in enumerate(sentiment_counts):\n",
        "    plt.text(i, count + 0.1, str(count), ha='center', va='bottom')\n",
        "\n",
        "# Label the graph with sentiment labels\n",
        "plt.title('Distribution of Sentiments')\n",
        "plt.xlabel('Sentiment')\n",
        "plt.ylabel('Count')\n",
        "plt.xticks(range(len(sentiment_counts)), ['Positivo', 'Negativo'], rotation=0)\n",
        "plt.show()"
      ],
      "metadata": {
        "colab": {
          "base_uri": "https://localhost:8080/",
          "height": 564
        },
        "id": "ibE9D-pHDMNY",
        "outputId": "8c23fe85-5706-47af-c36c-14c25ff11af6"
      },
      "execution_count": 17,
      "outputs": [
        {
          "output_type": "display_data",
          "data": {
            "text/plain": [
              "<Figure size 800x600 with 1 Axes>"
            ],
            "image/png": "[encoded data removed]"
          },
          "metadata": {}
        }
      ]
    },
    {
      "cell_type": "markdown",
      "source": [
        "##**Utilización de la librecia SpaCy**\n",
        "### Spacy proporciona las herramientas necesarias para realizar un preprocesamiento de texto avanzado, incluyendo tokenización, lematización y filtrado de palabras, lo cual es esencial para muchas tareas de NLP como el análisis de sentimiento, la clasificación de texto o la extracción de información. En estecaso específico, ésta librería se usa para limpiar el texto, dejando solo las palabras relevantes en su forma base y en minúsculas, preparándolo para un análisis posterior."
      ],
      "metadata": {
        "id": "6RdAOOQgsqBK"
      }
    },
    {
      "cell_type": "code",
      "source": [
        "import spacy\n",
        "import string\n",
        "\n",
        "nlp = spacy.load(\"en_core_web_sm\")\n",
        "\n",
        "\n",
        "def preprocess_text(text):\n",
        "\n",
        "    doc = nlp(text)\n",
        "    cleaned_tokens = []\n",
        "    for token in doc:\n",
        "        if token.is_alpha and not token.is_punct and not token.is_stop:\n",
        "            cleaned_token = token.lemma_.lower()\n",
        "            cleaned_tokens.append(cleaned_token)\n",
        "\n",
        "    cleaned_text = ' '.join(cleaned_tokens)\n",
        "    return cleaned_text"
      ],
      "metadata": {
        "id": "ipOTd4q0DUIY"
      },
      "execution_count": 18,
      "outputs": []
    },
    {
      "cell_type": "markdown",
      "source": [
        "### Aplicando la función de procesamiento de texto a la columna 'text' para su posterior utilización en los modelos de NLP creando la columna 'cleaned_review'."
      ],
      "metadata": {
        "id": "PK67hKt2tG1R"
      }
    },
    {
      "cell_type": "code",
      "source": [
        "df['cleaned_review'] = df['text'].apply(preprocess_text)\n",
        "\n",
        "print(df[['text', 'cleaned_review']].head())"
      ],
      "metadata": {
        "colab": {
          "base_uri": "https://localhost:8080/"
        },
        "id": "hwKBEbQhDfVz",
        "outputId": "2409963d-6347-4035-ed5b-fed5ce0aef70"
      },
      "execution_count": 19,
      "outputs": [
        {
          "output_type": "stream",
          "name": "stdout",
          "text": [
            "                                                text  \\\n",
            "0  Not much to write about here, but it does exac...   \n",
            "1  The product does exactly as it should and is q...   \n",
            "2  The primary job of this device is to block the...   \n",
            "3  Nice windscreen protects my MXL mic and preven...   \n",
            "4  This pop filter is great. It looks and perform...   \n",
            "\n",
            "                                      cleaned_review  \n",
            "0  write exactly suppose filter pop sound recordi...  \n",
            "1  product exactly affordable realize double scre...  \n",
            "2  primary job device block breath produce poppin...  \n",
            "3  nice windscreen protect mxl mic prevent pop th...  \n",
            "4  pop filter great look perform like studio filt...  \n"
          ]
        }
      ]
    },
    {
      "cell_type": "code",
      "source": [
        "df.head()"
      ],
      "metadata": {
        "colab": {
          "base_uri": "https://localhost:8080/",
          "height": 206
        },
        "id": "QaacHqx3EgVf",
        "outputId": "794321dc-73ae-462b-d066-9d2701416b2c"
      },
      "execution_count": 20,
      "outputs": [
        {
          "output_type": "execute_result",
          "data": {
            "text/plain": [
              "                                                text sentiment  \\\n",
              "0  Not much to write about here, but it does exac...         1   \n",
              "1  The product does exactly as it should and is q...         1   \n",
              "2  The primary job of this device is to block the...         1   \n",
              "3  Nice windscreen protects my MXL mic and preven...         1   \n",
              "4  This pop filter is great. It looks and perform...         1   \n",
              "\n",
              "                                      cleaned_review  \n",
              "0  write exactly suppose filter pop sound recordi...  \n",
              "1  product exactly affordable realize double scre...  \n",
              "2  primary job device block breath produce poppin...  \n",
              "3  nice windscreen protect mxl mic prevent pop th...  \n",
              "4  pop filter great look perform like studio filt...  "
            ],
            "text/html": [
              "\n",
              "  <div id=\"df-b09f151d-0f6f-4ef2-8d77-ec422a2daa5c\" class=\"colab-df-container\">\n",
              "    <div>\n",
              "<style scoped>\n",
              "    .dataframe tbody tr th:only-of-type {\n",
              "        vertical-align: middle;\n",
              "    }\n",
              "\n",
              "    .dataframe tbody tr th {\n",
              "        vertical-align: top;\n",
              "    }\n",
              "\n",
              "    .dataframe thead th {\n",
              "        text-align: right;\n",
              "    }\n",
              "</style>\n",
              "<table border=\"1\" class=\"dataframe\">\n",
              "  <thead>\n",
              "    <tr style=\"text-align: right;\">\n",
              "      <th></th>\n",
              "      <th>text</th>\n",
              "      <th>sentiment</th>\n",
              "      <th>cleaned_review</th>\n",
              "    </tr>\n",
              "  </thead>\n",
              "  <tbody>\n",
              "    <tr>\n",
              "      <th>0</th>\n",
              "      <td>Not much to write about here, but it does exac...</td>\n",
              "      <td>1</td>\n",
              "      <td>write exactly suppose filter pop sound recordi...</td>\n",
              "    </tr>\n",
              "    <tr>\n",
              "      <th>1</th>\n",
              "      <td>The product does exactly as it should and is q...</td>\n",
              "      <td>1</td>\n",
              "      <td>product exactly affordable realize double scre...</td>\n",
              "    </tr>\n",
              "    <tr>\n",
              "      <th>2</th>\n",
              "      <td>The primary job of this device is to block the...</td>\n",
              "      <td>1</td>\n",
              "      <td>primary job device block breath produce poppin...</td>\n",
              "    </tr>\n",
              "    <tr>\n",
              "      <th>3</th>\n",
              "      <td>Nice windscreen protects my MXL mic and preven...</td>\n",
              "      <td>1</td>\n",
              "      <td>nice windscreen protect mxl mic prevent pop th...</td>\n",
              "    </tr>\n",
              "    <tr>\n",
              "      <th>4</th>\n",
              "      <td>This pop filter is great. It looks and perform...</td>\n",
              "      <td>1</td>\n",
              "      <td>pop filter great look perform like studio filt...</td>\n",
              "    </tr>\n",
              "  </tbody>\n",
              "</table>\n",
              "</div>\n",
              "    <div class=\"colab-df-buttons\">\n",
              "\n",
              "  <div class=\"colab-df-container\">\n",
              "    <button class=\"colab-df-convert\" onclick=\"convertToInteractive('df-b09f151d-0f6f-4ef2-8d77-ec422a2daa5c')\"\n",
              "            title=\"Convert this dataframe to an interactive table.\"\n",
              "            style=\"display:none;\">\n",
              "\n",
              "  <svg xmlns=\"http://www.w3.org/2000/svg\" height=\"24px\" viewBox=\"0 -960 960 960\">\n",
              "    <path d=\"M120-120v-720h720v720H120Zm60-500h600v-160H180v160Zm220 220h160v-160H400v160Zm0 220h160v-160H400v160ZM180-400h160v-160H180v160Zm440 0h160v-160H620v160ZM180-180h160v-160H180v160Zm440 0h160v-160H620v160Z\"/>\n",
              "  </svg>\n",
              "    </button>\n",
              "\n",
              "  <style>\n",
              "    .colab-df-container {\n",
              "      display:flex;\n",
              "      gap: 12px;\n",
              "    }\n",
              "\n",
              "    .colab-df-convert {\n",
              "      background-color: #E8F0FE;\n",
              "      border: none;\n",
              "      border-radius: 50%;\n",
              "      cursor: pointer;\n",
              "      display: none;\n",
              "      fill: #1967D2;\n",
              "      height: 32px;\n",
              "      padding: 0 0 0 0;\n",
              "      width: 32px;\n",
              "    }\n",
              "\n",
              "    .colab-df-convert:hover {\n",
              "      background-color: #E2EBFA;\n",
              "      box-shadow: 0px 1px 2px rgba(60, 64, 67, 0.3), 0px 1px 3px 1px rgba(60, 64, 67, 0.15);\n",
              "      fill: #174EA6;\n",
              "    }\n",
              "\n",
              "    .colab-df-buttons div {\n",
              "      margin-bottom: 4px;\n",
              "    }\n",
              "\n",
              "    [theme=dark] .colab-df-convert {\n",
              "      background-color: #3B4455;\n",
              "      fill: #D2E3FC;\n",
              "    }\n",
              "\n",
              "    [theme=dark] .colab-df-convert:hover {\n",
              "      background-color: #434B5C;\n",
              "      box-shadow: 0px 1px 3px 1px rgba(0, 0, 0, 0.15);\n",
              "      filter: drop-shadow(0px 1px 2px rgba(0, 0, 0, 0.3));\n",
              "      fill: #FFFFFF;\n",
              "    }\n",
              "  </style>\n",
              "\n",
              "    <script>\n",
              "      const buttonEl =\n",
              "        document.querySelector('#df-b09f151d-0f6f-4ef2-8d77-ec422a2daa5c button.colab-df-convert');\n",
              "      buttonEl.style.display =\n",
              "        google.colab.kernel.accessAllowed ? 'block' : 'none';\n",
              "\n",
              "      async function convertToInteractive(key) {\n",
              "        const element = document.querySelector('#df-b09f151d-0f6f-4ef2-8d77-ec422a2daa5c');\n",
              "        const dataTable =\n",
              "          await google.colab.kernel.invokeFunction('convertToInteractive',\n",
              "                                                    [key], {});\n",
              "        if (!dataTable) return;\n",
              "\n",
              "        const docLinkHtml = 'Like what you see? Visit the ' +\n",
              "          '<a target=\"_blank\" href=https://colab.research.google.com/notebooks/data_table.ipynb>data table notebook</a>'\n",
              "          + ' to learn more about interactive tables.';\n",
              "        element.innerHTML = '';\n",
              "        dataTable['output_type'] = 'display_data';\n",
              "        await google.colab.output.renderOutput(dataTable, element);\n",
              "        const docLink = document.createElement('div');\n",
              "        docLink.innerHTML = docLinkHtml;\n",
              "        element.appendChild(docLink);\n",
              "      }\n",
              "    </script>\n",
              "  </div>\n",
              "\n",
              "\n",
              "<div id=\"df-610ddeb5-0b0b-4cce-b91c-6ca580248623\">\n",
              "  <button class=\"colab-df-quickchart\" onclick=\"quickchart('df-610ddeb5-0b0b-4cce-b91c-6ca580248623')\"\n",
              "            title=\"Suggest charts\"\n",
              "            style=\"display:none;\">\n",
              "\n",
              "<svg xmlns=\"http://www.w3.org/2000/svg\" height=\"24px\"viewBox=\"0 0 24 24\"\n",
              "     width=\"24px\">\n",
              "    <g>\n",
              "        <path d=\"M19 3H5c-1.1 0-2 .9-2 2v14c0 1.1.9 2 2 2h14c1.1 0 2-.9 2-2V5c0-1.1-.9-2-2-2zM9 17H7v-7h2v7zm4 0h-2V7h2v10zm4 0h-2v-4h2v4z\"/>\n",
              "    </g>\n",
              "</svg>\n",
              "  </button>\n",
              "\n",
              "<style>\n",
              "  .colab-df-quickchart {\n",
              "      --bg-color: #E8F0FE;\n",
              "      --fill-color: #1967D2;\n",
              "      --hover-bg-color: #E2EBFA;\n",
              "      --hover-fill-color: #174EA6;\n",
              "      --disabled-fill-color: #AAA;\n",
              "      --disabled-bg-color: #DDD;\n",
              "  }\n",
              "\n",
              "  [theme=dark] .colab-df-quickchart {\n",
              "      --bg-color: #3B4455;\n",
              "      --fill-color: #D2E3FC;\n",
              "      --hover-bg-color: #434B5C;\n",
              "      --hover-fill-color: #FFFFFF;\n",
              "      --disabled-bg-color: #3B4455;\n",
              "      --disabled-fill-color: #666;\n",
              "  }\n",
              "\n",
              "  .colab-df-quickchart {\n",
              "    background-color: var(--bg-color);\n",
              "    border: none;\n",
              "    border-radius: 50%;\n",
              "    cursor: pointer;\n",
              "    display: none;\n",
              "    fill: var(--fill-color);\n",
              "    height: 32px;\n",
              "    padding: 0;\n",
              "    width: 32px;\n",
              "  }\n",
              "\n",
              "  .colab-df-quickchart:hover {\n",
              "    background-color: var(--hover-bg-color);\n",
              "    box-shadow: 0 1px 2px rgba(60, 64, 67, 0.3), 0 1px 3px 1px rgba(60, 64, 67, 0.15);\n",
              "    fill: var(--button-hover-fill-color);\n",
              "  }\n",
              "\n",
              "  .colab-df-quickchart-complete:disabled,\n",
              "  .colab-df-quickchart-complete:disabled:hover {\n",
              "    background-color: var(--disabled-bg-color);\n",
              "    fill: var(--disabled-fill-color);\n",
              "    box-shadow: none;\n",
              "  }\n",
              "\n",
              "  .colab-df-spinner {\n",
              "    border: 2px solid var(--fill-color);\n",
              "    border-color: transparent;\n",
              "    border-bottom-color: var(--fill-color);\n",
              "    animation:\n",
              "      spin 1s steps(1) infinite;\n",
              "  }\n",
              "\n",
              "  @keyframes spin {\n",
              "    0% {\n",
              "      border-color: transparent;\n",
              "      border-bottom-color: var(--fill-color);\n",
              "      border-left-color: var(--fill-color);\n",
              "    }\n",
              "    20% {\n",
              "      border-color: transparent;\n",
              "      border-left-color: var(--fill-color);\n",
              "      border-top-color: var(--fill-color);\n",
              "    }\n",
              "    30% {\n",
              "      border-color: transparent;\n",
              "      border-left-color: var(--fill-color);\n",
              "      border-top-color: var(--fill-color);\n",
              "      border-right-color: var(--fill-color);\n",
              "    }\n",
              "    40% {\n",
              "      border-color: transparent;\n",
              "      border-right-color: var(--fill-color);\n",
              "      border-top-color: var(--fill-color);\n",
              "    }\n",
              "    60% {\n",
              "      border-color: transparent;\n",
              "      border-right-color: var(--fill-color);\n",
              "    }\n",
              "    80% {\n",
              "      border-color: transparent;\n",
              "      border-right-color: var(--fill-color);\n",
              "      border-bottom-color: var(--fill-color);\n",
              "    }\n",
              "    90% {\n",
              "      border-color: transparent;\n",
              "      border-bottom-color: var(--fill-color);\n",
              "    }\n",
              "  }\n",
              "</style>\n",
              "\n",
              "  <script>\n",
              "    async function quickchart(key) {\n",
              "      const quickchartButtonEl =\n",
              "        document.querySelector('#' + key + ' button');\n",
              "      quickchartButtonEl.disabled = true;  // To prevent multiple clicks.\n",
              "      quickchartButtonEl.classList.add('colab-df-spinner');\n",
              "      try {\n",
              "        const charts = await google.colab.kernel.invokeFunction(\n",
              "            'suggestCharts', [key], {});\n",
              "      } catch (error) {\n",
              "        console.error('Error during call to suggestCharts:', error);\n",
              "      }\n",
              "      quickchartButtonEl.classList.remove('colab-df-spinner');\n",
              "      quickchartButtonEl.classList.add('colab-df-quickchart-complete');\n",
              "    }\n",
              "    (() => {\n",
              "      let quickchartButtonEl =\n",
              "        document.querySelector('#df-610ddeb5-0b0b-4cce-b91c-6ca580248623 button');\n",
              "      quickchartButtonEl.style.display =\n",
              "        google.colab.kernel.accessAllowed ? 'block' : 'none';\n",
              "    })();\n",
              "  </script>\n",
              "</div>\n",
              "\n",
              "    </div>\n",
              "  </div>\n"
            ],
            "application/vnd.google.colaboratory.intrinsic+json": {
              "type": "dataframe",
              "variable_name": "df",
              "summary": "{\n  \"name\": \"df\",\n  \"rows\": 10261,\n  \"fields\": [\n    {\n      \"column\": \"text\",\n      \"properties\": {\n        \"dtype\": \"string\",\n        \"num_unique_values\": 10261,\n        \"samples\": [\n          \"I've been using these on my acoustic guitars (and straps) for over a decade.  They're sturdy and convenient, and so much more attractive than adding a shoelace to your strap.  The ability to quickly disconnect the strap for storage (or when you don't need the strap hanging from your guitar, e.g., sitting in a chair) works exactly as advertised.  I've purchased several of these and can't say enough good things about the product and company! GREAT solution for acoustic guitar\",\n          \"Sounds like a great concept and they seem well made. I just don't care for them. I know others love them so I guess it's just a personal thing.It took weeks to receive them in the US. Don't be in a rush. Not crazy about them and took a long time to arrive in the US\",\n          \"I recently ordered a wide variety of picks to find the ones I liked best. These sounded different \\\"gel\\\" picks. I do not like them. Being see through distracts me. They are a little scratchy on the edges. Perhaps a more experienced guitar player would do fine with them but being at the stage where I am still looking at what I am doing - I just can't use them well. Not what I would grab to play with\"\n        ],\n        \"semantic_type\": \"\",\n        \"description\": \"\"\n      }\n    },\n    {\n      \"column\": \"sentiment\",\n      \"properties\": {\n        \"dtype\": \"category\",\n        \"num_unique_values\": 2,\n        \"samples\": [\n          \"0\",\n          \"1\"\n        ],\n        \"semantic_type\": \"\",\n        \"description\": \"\"\n      }\n    },\n    {\n      \"column\": \"cleaned_review\",\n      \"properties\": {\n        \"dtype\": \"string\",\n        \"num_unique_values\": 10255,\n        \"samples\": [\n          \"hard love cord carry electron way end sure complete failure star away work\",\n          \"finally buy monster cable hype albeit practice cable honestly tell difference difference silence abnormal hissing pop get cheap cable line monster step definitely upgrade long cable monster expensive sound short course monster\"\n        ],\n        \"semantic_type\": \"\",\n        \"description\": \"\"\n      }\n    }\n  ]\n}"
            }
          },
          "metadata": {},
          "execution_count": 20
        }
      ]
    },
    {
      "cell_type": "markdown",
      "source": [
        "### Se elimina la columna 'text' quedando solamnete la columna 'sentiment' y 'cleaned_review'"
      ],
      "metadata": {
        "id": "i8oiYBtLuRq7"
      }
    },
    {
      "cell_type": "code",
      "source": [
        "df.drop('text', axis = 1)"
      ],
      "metadata": {
        "colab": {
          "base_uri": "https://localhost:8080/",
          "height": 423
        },
        "id": "CRuPr8w9Eked",
        "outputId": "cbae4170-fd1d-44f8-e7d7-90f782649b9a"
      },
      "execution_count": 21,
      "outputs": [
        {
          "output_type": "execute_result",
          "data": {
            "text/plain": [
              "      sentiment                                     cleaned_review\n",
              "0             1  write exactly suppose filter pop sound recordi...\n",
              "1             1  product exactly affordable realize double scre...\n",
              "2             1  primary job device block breath produce poppin...\n",
              "3             1  nice windscreen protect mxl mic prevent pop th...\n",
              "4             1  pop filter great look perform like studio filt...\n",
              "...         ...                                                ...\n",
              "10256         1                            great expect thank star\n",
              "10257         1  think try nanoweb string bit high price cost t...\n",
              "10258         1  try coated string past include elixirs fond tr...\n",
              "10259         1  elixir developed taylor guitars string design ...\n",
              "10260         1  string good perfect unwound string bright accu...\n",
              "\n",
              "[10261 rows x 2 columns]"
            ],
            "text/html": [
              "\n",
              "  <div id=\"df-11d7bcbe-5347-40be-b065-472508d0b1ec\" class=\"colab-df-container\">\n",
              "    <div>\n",
              "<style scoped>\n",
              "    .dataframe tbody tr th:only-of-type {\n",
              "        vertical-align: middle;\n",
              "    }\n",
              "\n",
              "    .dataframe tbody tr th {\n",
              "        vertical-align: top;\n",
              "    }\n",
              "\n",
              "    .dataframe thead th {\n",
              "        text-align: right;\n",
              "    }\n",
              "</style>\n",
              "<table border=\"1\" class=\"dataframe\">\n",
              "  <thead>\n",
              "    <tr style=\"text-align: right;\">\n",
              "      <th></th>\n",
              "      <th>sentiment</th>\n",
              "      <th>cleaned_review</th>\n",
              "    </tr>\n",
              "  </thead>\n",
              "  <tbody>\n",
              "    <tr>\n",
              "      <th>0</th>\n",
              "      <td>1</td>\n",
              "      <td>write exactly suppose filter pop sound recordi...</td>\n",
              "    </tr>\n",
              "    <tr>\n",
              "      <th>1</th>\n",
              "      <td>1</td>\n",
              "      <td>product exactly affordable realize double scre...</td>\n",
              "    </tr>\n",
              "    <tr>\n",
              "      <th>2</th>\n",
              "      <td>1</td>\n",
              "      <td>primary job device block breath produce poppin...</td>\n",
              "    </tr>\n",
              "    <tr>\n",
              "      <th>3</th>\n",
              "      <td>1</td>\n",
              "      <td>nice windscreen protect mxl mic prevent pop th...</td>\n",
              "    </tr>\n",
              "    <tr>\n",
              "      <th>4</th>\n",
              "      <td>1</td>\n",
              "      <td>pop filter great look perform like studio filt...</td>\n",
              "    </tr>\n",
              "    <tr>\n",
              "      <th>...</th>\n",
              "      <td>...</td>\n",
              "      <td>...</td>\n",
              "    </tr>\n",
              "    <tr>\n",
              "      <th>10256</th>\n",
              "      <td>1</td>\n",
              "      <td>great expect thank star</td>\n",
              "    </tr>\n",
              "    <tr>\n",
              "      <th>10257</th>\n",
              "      <td>1</td>\n",
              "      <td>think try nanoweb string bit high price cost t...</td>\n",
              "    </tr>\n",
              "    <tr>\n",
              "      <th>10258</th>\n",
              "      <td>1</td>\n",
              "      <td>try coated string past include elixirs fond tr...</td>\n",
              "    </tr>\n",
              "    <tr>\n",
              "      <th>10259</th>\n",
              "      <td>1</td>\n",
              "      <td>elixir developed taylor guitars string design ...</td>\n",
              "    </tr>\n",
              "    <tr>\n",
              "      <th>10260</th>\n",
              "      <td>1</td>\n",
              "      <td>string good perfect unwound string bright accu...</td>\n",
              "    </tr>\n",
              "  </tbody>\n",
              "</table>\n",
              "<p>10261 rows × 2 columns</p>\n",
              "</div>\n",
              "    <div class=\"colab-df-buttons\">\n",
              "\n",
              "  <div class=\"colab-df-container\">\n",
              "    <button class=\"colab-df-convert\" onclick=\"convertToInteractive('df-11d7bcbe-5347-40be-b065-472508d0b1ec')\"\n",
              "            title=\"Convert this dataframe to an interactive table.\"\n",
              "            style=\"display:none;\">\n",
              "\n",
              "  <svg xmlns=\"http://www.w3.org/2000/svg\" height=\"24px\" viewBox=\"0 -960 960 960\">\n",
              "    <path d=\"M120-120v-720h720v720H120Zm60-500h600v-160H180v160Zm220 220h160v-160H400v160Zm0 220h160v-160H400v160ZM180-400h160v-160H180v160Zm440 0h160v-160H620v160ZM180-180h160v-160H180v160Zm440 0h160v-160H620v160Z\"/>\n",
              "  </svg>\n",
              "    </button>\n",
              "\n",
              "  <style>\n",
              "    .colab-df-container {\n",
              "      display:flex;\n",
              "      gap: 12px;\n",
              "    }\n",
              "\n",
              "    .colab-df-convert {\n",
              "      background-color: #E8F0FE;\n",
              "      border: none;\n",
              "      border-radius: 50%;\n",
              "      cursor: pointer;\n",
              "      display: none;\n",
              "      fill: #1967D2;\n",
              "      height: 32px;\n",
              "      padding: 0 0 0 0;\n",
              "      width: 32px;\n",
              "    }\n",
              "\n",
              "    .colab-df-convert:hover {\n",
              "      background-color: #E2EBFA;\n",
              "      box-shadow: 0px 1px 2px rgba(60, 64, 67, 0.3), 0px 1px 3px 1px rgba(60, 64, 67, 0.15);\n",
              "      fill: #174EA6;\n",
              "    }\n",
              "\n",
              "    .colab-df-buttons div {\n",
              "      margin-bottom: 4px;\n",
              "    }\n",
              "\n",
              "    [theme=dark] .colab-df-convert {\n",
              "      background-color: #3B4455;\n",
              "      fill: #D2E3FC;\n",
              "    }\n",
              "\n",
              "    [theme=dark] .colab-df-convert:hover {\n",
              "      background-color: #434B5C;\n",
              "      box-shadow: 0px 1px 3px 1px rgba(0, 0, 0, 0.15);\n",
              "      filter: drop-shadow(0px 1px 2px rgba(0, 0, 0, 0.3));\n",
              "      fill: #FFFFFF;\n",
              "    }\n",
              "  </style>\n",
              "\n",
              "    <script>\n",
              "      const buttonEl =\n",
              "        document.querySelector('#df-11d7bcbe-5347-40be-b065-472508d0b1ec button.colab-df-convert');\n",
              "      buttonEl.style.display =\n",
              "        google.colab.kernel.accessAllowed ? 'block' : 'none';\n",
              "\n",
              "      async function convertToInteractive(key) {\n",
              "        const element = document.querySelector('#df-11d7bcbe-5347-40be-b065-472508d0b1ec');\n",
              "        const dataTable =\n",
              "          await google.colab.kernel.invokeFunction('convertToInteractive',\n",
              "                                                    [key], {});\n",
              "        if (!dataTable) return;\n",
              "\n",
              "        const docLinkHtml = 'Like what you see? Visit the ' +\n",
              "          '<a target=\"_blank\" href=https://colab.research.google.com/notebooks/data_table.ipynb>data table notebook</a>'\n",
              "          + ' to learn more about interactive tables.';\n",
              "        element.innerHTML = '';\n",
              "        dataTable['output_type'] = 'display_data';\n",
              "        await google.colab.output.renderOutput(dataTable, element);\n",
              "        const docLink = document.createElement('div');\n",
              "        docLink.innerHTML = docLinkHtml;\n",
              "        element.appendChild(docLink);\n",
              "      }\n",
              "    </script>\n",
              "  </div>\n",
              "\n",
              "\n",
              "<div id=\"df-9a8b07c6-16e0-425c-85e3-d9f13509b925\">\n",
              "  <button class=\"colab-df-quickchart\" onclick=\"quickchart('df-9a8b07c6-16e0-425c-85e3-d9f13509b925')\"\n",
              "            title=\"Suggest charts\"\n",
              "            style=\"display:none;\">\n",
              "\n",
              "<svg xmlns=\"http://www.w3.org/2000/svg\" height=\"24px\"viewBox=\"0 0 24 24\"\n",
              "     width=\"24px\">\n",
              "    <g>\n",
              "        <path d=\"M19 3H5c-1.1 0-2 .9-2 2v14c0 1.1.9 2 2 2h14c1.1 0 2-.9 2-2V5c0-1.1-.9-2-2-2zM9 17H7v-7h2v7zm4 0h-2V7h2v10zm4 0h-2v-4h2v4z\"/>\n",
              "    </g>\n",
              "</svg>\n",
              "  </button>\n",
              "\n",
              "<style>\n",
              "  .colab-df-quickchart {\n",
              "      --bg-color: #E8F0FE;\n",
              "      --fill-color: #1967D2;\n",
              "      --hover-bg-color: #E2EBFA;\n",
              "      --hover-fill-color: #174EA6;\n",
              "      --disabled-fill-color: #AAA;\n",
              "      --disabled-bg-color: #DDD;\n",
              "  }\n",
              "\n",
              "  [theme=dark] .colab-df-quickchart {\n",
              "      --bg-color: #3B4455;\n",
              "      --fill-color: #D2E3FC;\n",
              "      --hover-bg-color: #434B5C;\n",
              "      --hover-fill-color: #FFFFFF;\n",
              "      --disabled-bg-color: #3B4455;\n",
              "      --disabled-fill-color: #666;\n",
              "  }\n",
              "\n",
              "  .colab-df-quickchart {\n",
              "    background-color: var(--bg-color);\n",
              "    border: none;\n",
              "    border-radius: 50%;\n",
              "    cursor: pointer;\n",
              "    display: none;\n",
              "    fill: var(--fill-color);\n",
              "    height: 32px;\n",
              "    padding: 0;\n",
              "    width: 32px;\n",
              "  }\n",
              "\n",
              "  .colab-df-quickchart:hover {\n",
              "    background-color: var(--hover-bg-color);\n",
              "    box-shadow: 0 1px 2px rgba(60, 64, 67, 0.3), 0 1px 3px 1px rgba(60, 64, 67, 0.15);\n",
              "    fill: var(--button-hover-fill-color);\n",
              "  }\n",
              "\n",
              "  .colab-df-quickchart-complete:disabled,\n",
              "  .colab-df-quickchart-complete:disabled:hover {\n",
              "    background-color: var(--disabled-bg-color);\n",
              "    fill: var(--disabled-fill-color);\n",
              "    box-shadow: none;\n",
              "  }\n",
              "\n",
              "  .colab-df-spinner {\n",
              "    border: 2px solid var(--fill-color);\n",
              "    border-color: transparent;\n",
              "    border-bottom-color: var(--fill-color);\n",
              "    animation:\n",
              "      spin 1s steps(1) infinite;\n",
              "  }\n",
              "\n",
              "  @keyframes spin {\n",
              "    0% {\n",
              "      border-color: transparent;\n",
              "      border-bottom-color: var(--fill-color);\n",
              "      border-left-color: var(--fill-color);\n",
              "    }\n",
              "    20% {\n",
              "      border-color: transparent;\n",
              "      border-left-color: var(--fill-color);\n",
              "      border-top-color: var(--fill-color);\n",
              "    }\n",
              "    30% {\n",
              "      border-color: transparent;\n",
              "      border-left-color: var(--fill-color);\n",
              "      border-top-color: var(--fill-color);\n",
              "      border-right-color: var(--fill-color);\n",
              "    }\n",
              "    40% {\n",
              "      border-color: transparent;\n",
              "      border-right-color: var(--fill-color);\n",
              "      border-top-color: var(--fill-color);\n",
              "    }\n",
              "    60% {\n",
              "      border-color: transparent;\n",
              "      border-right-color: var(--fill-color);\n",
              "    }\n",
              "    80% {\n",
              "      border-color: transparent;\n",
              "      border-right-color: var(--fill-color);\n",
              "      border-bottom-color: var(--fill-color);\n",
              "    }\n",
              "    90% {\n",
              "      border-color: transparent;\n",
              "      border-bottom-color: var(--fill-color);\n",
              "    }\n",
              "  }\n",
              "</style>\n",
              "\n",
              "  <script>\n",
              "    async function quickchart(key) {\n",
              "      const quickchartButtonEl =\n",
              "        document.querySelector('#' + key + ' button');\n",
              "      quickchartButtonEl.disabled = true;  // To prevent multiple clicks.\n",
              "      quickchartButtonEl.classList.add('colab-df-spinner');\n",
              "      try {\n",
              "        const charts = await google.colab.kernel.invokeFunction(\n",
              "            'suggestCharts', [key], {});\n",
              "      } catch (error) {\n",
              "        console.error('Error during call to suggestCharts:', error);\n",
              "      }\n",
              "      quickchartButtonEl.classList.remove('colab-df-spinner');\n",
              "      quickchartButtonEl.classList.add('colab-df-quickchart-complete');\n",
              "    }\n",
              "    (() => {\n",
              "      let quickchartButtonEl =\n",
              "        document.querySelector('#df-9a8b07c6-16e0-425c-85e3-d9f13509b925 button');\n",
              "      quickchartButtonEl.style.display =\n",
              "        google.colab.kernel.accessAllowed ? 'block' : 'none';\n",
              "    })();\n",
              "  </script>\n",
              "</div>\n",
              "\n",
              "    </div>\n",
              "  </div>\n"
            ],
            "application/vnd.google.colaboratory.intrinsic+json": {
              "type": "dataframe",
              "summary": "{\n  \"name\": \"df\",\n  \"rows\": 10261,\n  \"fields\": [\n    {\n      \"column\": \"sentiment\",\n      \"properties\": {\n        \"dtype\": \"category\",\n        \"num_unique_values\": 2,\n        \"samples\": [\n          \"0\",\n          \"1\"\n        ],\n        \"semantic_type\": \"\",\n        \"description\": \"\"\n      }\n    },\n    {\n      \"column\": \"cleaned_review\",\n      \"properties\": {\n        \"dtype\": \"string\",\n        \"num_unique_values\": 10255,\n        \"samples\": [\n          \"hard love cord carry electron way end sure complete failure star away work\",\n          \"finally buy monster cable hype albeit practice cable honestly tell difference difference silence abnormal hissing pop get cheap cable line monster step definitely upgrade long cable monster expensive sound short course monster\"\n        ],\n        \"semantic_type\": \"\",\n        \"description\": \"\"\n      }\n    }\n  ]\n}"
            }
          },
          "metadata": {},
          "execution_count": 21
        }
      ]
    },
    {
      "cell_type": "markdown",
      "source": [
        "# **Implementación de los modelos de calsificación**\n",
        "### A continuación se importan los modelos de Native Bayes, Regresión Logística y Random Fores como tambien los reportes de calsificación para obtener los valores de las métricas de cada uno de los modelos."
      ],
      "metadata": {
        "id": "uy9cOVXLu7w1"
      }
    },
    {
      "cell_type": "code",
      "source": [
        "from sklearn.model_selection import train_test_split\n",
        "from sklearn.feature_extraction.text import TfidfVectorizer\n",
        "from sklearn.naive_bayes import MultinomialNB\n",
        "from sklearn.linear_model import LogisticRegression\n",
        "from sklearn.ensemble import RandomForestClassifier\n",
        "from sklearn.metrics import classification_report\n",
        "import matplotlib.pyplot as plt\n",
        "\n",
        "X = df['cleaned_review']\n",
        "\n",
        "y = df['sentiment']\n",
        "\n",
        "X_train, X_test, y_train, y_test = train_test_split(X, y, test_size=0.2, random_state=42)\n",
        "\n",
        "vectorizer = TfidfVectorizer(max_features=5000)\n",
        "X_train_tfidf = vectorizer.fit_transform(X_train)\n",
        "X_test_tfidf = vectorizer.transform(X_test)\n",
        "\n",
        "nb_model = MultinomialNB()\n",
        "nb_model.fit(X_train_tfidf, y_train)\n",
        "nb_pred = nb_model.predict(X_test_tfidf)\n",
        "nb_report = classification_report(y_test, nb_pred)\n",
        "\n",
        "lr_model = LogisticRegression(max_iter=1000)\n",
        "lr_model.fit(X_train_tfidf, y_train)\n",
        "lr_pred = lr_model.predict(X_test_tfidf)\n",
        "lr_report = classification_report(y_test, lr_pred)\n",
        "\n",
        "rf_model = RandomForestClassifier(n_estimators=100)\n",
        "rf_model.fit(X_train_tfidf, y_train)\n",
        "rf_pred = rf_model.predict(X_test_tfidf)\n",
        "rf_report = classification_report(y_test, rf_pred)\n",
        "\n",
        "print(\"Naive Bayes Classification Report:\")\n",
        "print(nb_report)\n",
        "print(\"Logistic Regression Classification Report:\")\n",
        "print(lr_report)\n",
        "print(\"Random Forest Classification Report:\")\n",
        "print(rf_report)"
      ],
      "metadata": {
        "colab": {
          "base_uri": "https://localhost:8080/"
        },
        "id": "icrCXJsOErMl",
        "outputId": "e9b388a8-c546-4893-ea6b-a391c118ed4c"
      },
      "execution_count": 22,
      "outputs": [
        {
          "output_type": "stream",
          "name": "stderr",
          "text": [
            "/usr/local/lib/python3.11/dist-packages/sklearn/metrics/_classification.py:1565: UndefinedMetricWarning: Precision is ill-defined and being set to 0.0 in labels with no predicted samples. Use `zero_division` parameter to control this behavior.\n",
            "  _warn_prf(average, modifier, f\"{metric.capitalize()} is\", len(result))\n",
            "/usr/local/lib/python3.11/dist-packages/sklearn/metrics/_classification.py:1565: UndefinedMetricWarning: Precision is ill-defined and being set to 0.0 in labels with no predicted samples. Use `zero_division` parameter to control this behavior.\n",
            "  _warn_prf(average, modifier, f\"{metric.capitalize()} is\", len(result))\n",
            "/usr/local/lib/python3.11/dist-packages/sklearn/metrics/_classification.py:1565: UndefinedMetricWarning: Precision is ill-defined and being set to 0.0 in labels with no predicted samples. Use `zero_division` parameter to control this behavior.\n",
            "  _warn_prf(average, modifier, f\"{metric.capitalize()} is\", len(result))\n"
          ]
        },
        {
          "output_type": "stream",
          "name": "stdout",
          "text": [
            "Naive Bayes Classification Report:\n",
            "              precision    recall  f1-score   support\n",
            "\n",
            "           0       0.00      0.00      0.00       244\n",
            "           1       0.88      1.00      0.94      1809\n",
            "\n",
            "    accuracy                           0.88      2053\n",
            "   macro avg       0.44      0.50      0.47      2053\n",
            "weighted avg       0.78      0.88      0.83      2053\n",
            "\n",
            "Logistic Regression Classification Report:\n",
            "              precision    recall  f1-score   support\n",
            "\n",
            "           0       0.72      0.09      0.15       244\n",
            "           1       0.89      1.00      0.94      1809\n",
            "\n",
            "    accuracy                           0.89      2053\n",
            "   macro avg       0.81      0.54      0.55      2053\n",
            "weighted avg       0.87      0.89      0.85      2053\n",
            "\n",
            "Random Forest Classification Report:\n",
            "              precision    recall  f1-score   support\n",
            "\n",
            "           0       0.62      0.08      0.14       244\n",
            "           1       0.89      0.99      0.94      1809\n",
            "\n",
            "    accuracy                           0.89      2053\n",
            "   macro avg       0.76      0.54      0.54      2053\n",
            "weighted avg       0.86      0.89      0.84      2053\n",
            "\n"
          ]
        }
      ]
    },
    {
      "cell_type": "markdown",
      "source": [
        "### Se muestran los valores de Precisión, Recall y F1 de todos los modelos utilizados"
      ],
      "metadata": {
        "id": "WVsDhI7kvvG7"
      }
    },
    {
      "cell_type": "code",
      "source": [
        "from sklearn.metrics import precision_score, recall_score, f1_score\n",
        "\n",
        "nb_precision = precision_score(y_test, nb_pred, average='weighted')\n",
        "nb_recall = recall_score(y_test, nb_pred, average='weighted')\n",
        "nb_f1 = f1_score(y_test, nb_pred, average='weighted')\n",
        "\n",
        "lr_precision = precision_score(y_test, lr_pred, average='weighted')\n",
        "lr_recall = recall_score(y_test, lr_pred, average='weighted')\n",
        "lr_f1 = f1_score(y_test, lr_pred, average='weighted')\n",
        "\n",
        "rf_precision = precision_score(y_test, rf_pred, average='weighted')\n",
        "rf_recall = recall_score(y_test, rf_pred, average='weighted')\n",
        "rf_f1 = f1_score(y_test, rf_pred, average='weighted')\n",
        "\n",
        "\n",
        "print(\"Naive Bayes:\")\n",
        "print(\"Precision:\", nb_precision)\n",
        "print(\"Recall:\", nb_recall)\n",
        "print(\"F1-score:\", nb_f1)\n",
        "print()\n",
        "\n",
        "print(\"Logistic Regression:\")\n",
        "print(\"Precision:\", lr_precision)\n",
        "print(\"Recall:\", lr_recall)\n",
        "print(\"F1-score:\", lr_f1)\n",
        "print()\n",
        "\n",
        "print(\"Random Forest:\")\n",
        "print(\"Precision:\", rf_precision)\n",
        "print(\"Recall:\", rf_recall)\n",
        "print(\"F1-score:\", rf_f1)"
      ],
      "metadata": {
        "colab": {
          "base_uri": "https://localhost:8080/"
        },
        "id": "a0BrB6FLFAbN",
        "outputId": "7d1cc6bb-23c3-43a1-f475-9a33994ec773"
      },
      "execution_count": 23,
      "outputs": [
        {
          "output_type": "stream",
          "name": "stdout",
          "text": [
            "Naive Bayes:\n",
            "Precision: 0.7764245070179929\n",
            "Recall: 0.8811495372625426\n",
            "F1-score: 0.8254787741625788\n",
            "\n",
            "Logistic Regression:\n",
            "Precision: 0.8701304901505763\n",
            "Recall: 0.887481734047735\n",
            "F1-score: 0.846330768813365\n",
            "\n",
            "Random Forest:\n",
            "Precision: 0.8577677927788421\n",
            "Recall: 0.885046273745738\n",
            "F1-score: 0.844078865820689\n"
          ]
        },
        {
          "output_type": "stream",
          "name": "stderr",
          "text": [
            "/usr/local/lib/python3.11/dist-packages/sklearn/metrics/_classification.py:1565: UndefinedMetricWarning: Precision is ill-defined and being set to 0.0 in labels with no predicted samples. Use `zero_division` parameter to control this behavior.\n",
            "  _warn_prf(average, modifier, f\"{metric.capitalize()} is\", len(result))\n"
          ]
        }
      ]
    },
    {
      "cell_type": "markdown",
      "source": [
        "### Con el fin de obtener una mejora en los resultados de los modelos se procede a realizar un GridSearchCV para lograr obtener los mejores hiperparámetros para cada uno y comparar sus rendimientos."
      ],
      "metadata": {
        "id": "dtwSlDEMv4x8"
      }
    },
    {
      "cell_type": "code",
      "source": [
        "from sklearn.model_selection import GridSearchCV\n",
        "from sklearn.metrics import classification_report, precision_score, recall_score, f1_score\n",
        "import matplotlib.pyplot as plt\n",
        "import numpy as np\n",
        "\n",
        "X = df['cleaned_review']\n",
        "y = df['sentiment']\n",
        "X_train, X_test, y_train, y_test = train_test_split(X, y, test_size=0.2, random_state=42)\n",
        "\n",
        "vectorizer = TfidfVectorizer(max_features=5000)\n",
        "X_train_tfidf = vectorizer.fit_transform(X_train)\n",
        "X_test_tfidf = vectorizer.transform(X_test)\n",
        "\n",
        "models = {\n",
        "    'Naive Bayes': (MultinomialNB(), {'alpha': [0.1, 0.5, 1.0]}),\n",
        "    'Logistic Regression': (LogisticRegression(max_iter=1000), {'C': [0.1, 1, 10]}),\n",
        "    'Random Forest': (RandomForestClassifier(), {'n_estimators': [50, 100, 200], 'max_depth': [None, 10, 20]})\n",
        "}\n",
        "\n",
        "best_model = None\n",
        "best_score = 0\n",
        "\n",
        "\n",
        "precision_scores = {}\n",
        "recall_scores = {}\n",
        "f1_scores = {}\n",
        "\n",
        "for model_name, (model, param_grid) in models.items():\n",
        "    grid_search = GridSearchCV(model, param_grid, cv=5, scoring='f1_weighted')\n",
        "    grid_search.fit(X_train_tfidf, y_train)\n",
        "\n",
        "    print(f\"Best parameters for {model_name}: {grid_search.best_params_}\")\n",
        "    print(f\"Best cross-validation score for {model_name}: {grid_search.best_score_}\")\n",
        "\n",
        "    y_pred = grid_search.predict(X_test_tfidf)\n",
        "    print(classification_report(y_test, y_pred))\n",
        "\n",
        "    precision = precision_score(y_test, y_pred, average='weighted')\n",
        "    recall = recall_score(y_test, y_pred, average='weighted')\n",
        "    f1 = f1_score(y_test, y_pred, average='weighted')\n",
        "\n",
        "    precision_scores[model_name] = precision\n",
        "    recall_scores[model_name] = recall\n",
        "    f1_scores[model_name] = f1\n",
        "\n",
        "    if f1 > best_score:\n",
        "        best_score = f1\n",
        "        best_model = (model_name, grid_search.best_estimator_)\n",
        "\n",
        "print(f\"\\nBest Model: {best_model[0]} with F1-score: {best_score}\")\n",
        "\n",
        "\n",
        "models_names = list(models.keys())\n",
        "precision_values = [precision_scores[model] for model in models_names]\n",
        "recall_values = [recall_scores[model] for model in models_names]\n",
        "f1_values = [f1_scores[model] for model in models_names]\n",
        "\n",
        "x = np.arange(len(models_names))\n",
        "width = 0.25\n",
        "\n",
        "plt.figure(figsize=(12, 6))\n",
        "\n",
        "plt.axhline(y=0.8, color='gray', linestyle='--', label='Línea guía 0.8')\n",
        "plt.axhline(y=0.9, color='gray', linestyle='-.', label='Línea guía 0.9')\n",
        "\n",
        "precision_bars = plt.bar(x - width, precision_values, width, label='Precision', color='skyblue')\n",
        "recall_bars = plt.bar(x, recall_values, width, label='Recall', color='lightcoral')\n",
        "f1_bars = plt.bar(x + width, f1_values, width, label='F1-score', color='lightgreen')\n",
        "\n",
        "for bar in precision_bars:\n",
        "    plt.text(bar.get_x() + bar.get_width() / 2, bar.get_height(), f'{bar.get_height():.2f}',\n",
        "             ha='center', va='bottom', fontsize=10)\n",
        "for bar in recall_bars:\n",
        "    plt.text(bar.get_x() + bar.get_width() / 2, bar.get_height(), f'{bar.get_height():.2f}',\n",
        "             ha='center', va='bottom', fontsize=10)\n",
        "for bar in f1_bars:\n",
        "    plt.text(bar.get_x() + bar.get_width() / 2, bar.get_height(), f'{bar.get_height():.2f}',\n",
        "             ha='center', va='bottom', fontsize=10)\n",
        "\n",
        "plt.xticks(x, models, rotation=0)\n",
        "plt.ylabel('Valor')\n",
        "plt.title('Comparativa de modelos')\n",
        "plt.ylim(0, 1.0)\n",
        "plt.grid(axis='y', alpha=0.5)\n",
        "\n",
        "plt.legend()\n",
        "plt.tight_layout()\n",
        "plt.show()\n"
      ],
      "metadata": {
        "colab": {
          "base_uri": "https://localhost:8080/",
          "height": 1000
        },
        "id": "1SBUcBMzh0bs",
        "outputId": "34cfced9-b692-4eae-bd70-5f7c3e068f7f"
      },
      "execution_count": 24,
      "outputs": [
        {
          "output_type": "stream",
          "name": "stdout",
          "text": [
            "Best parameters for Naive Bayes: {'alpha': 0.1}\n",
            "Best cross-validation score for Naive Bayes: 0.8343135601475737\n",
            "              precision    recall  f1-score   support\n",
            "\n",
            "           0       1.00      0.05      0.09       244\n",
            "           1       0.89      1.00      0.94      1809\n",
            "\n",
            "    accuracy                           0.89      2053\n",
            "   macro avg       0.94      0.52      0.52      2053\n",
            "weighted avg       0.90      0.89      0.84      2053\n",
            "\n",
            "Best parameters for Logistic Regression: {'C': 10}\n",
            "Best cross-validation score for Logistic Regression: 0.8740597113362014\n",
            "              precision    recall  f1-score   support\n",
            "\n",
            "           0       0.58      0.29      0.38       244\n",
            "           1       0.91      0.97      0.94      1809\n",
            "\n",
            "    accuracy                           0.89      2053\n",
            "   macro avg       0.75      0.63      0.66      2053\n",
            "weighted avg       0.87      0.89      0.87      2053\n",
            "\n",
            "Best parameters for Random Forest: {'max_depth': None, 'n_estimators': 50}\n",
            "Best cross-validation score for Random Forest: 0.8475677751076258\n",
            "              precision    recall  f1-score   support\n",
            "\n",
            "           0       0.65      0.11      0.20       244\n",
            "           1       0.89      0.99      0.94      1809\n",
            "\n",
            "    accuracy                           0.89      2053\n",
            "   macro avg       0.77      0.55      0.57      2053\n",
            "weighted avg       0.86      0.89      0.85      2053\n",
            "\n",
            "\n",
            "Best Model: Logistic Regression with F1-score: 0.8741147287543262\n"
          ]
        },
        {
          "output_type": "display_data",
          "data": {
            "text/plain": [
              "<Figure size 1200x600 with 1 Axes>"
            ],
            "image/png": "[encoded data removed]"
          },
          "metadata": {}
        }
      ]
    },
    {
      "cell_type": "markdown",
      "source": [
        "### Luego de utilizar GridSearchCV se obtine una mejora en el modelo de Regresión Logística pasando de un rendimiento en F1 Score de **0.84** a **0.87**"
      ],
      "metadata": {
        "id": "mjwBPsfTw1WM"
      }
    },
    {
      "cell_type": "markdown",
      "source": [
        "# **Tensorflow**\n",
        "### A continuación se utilizara la biblioteca Tensrflow de ML para entrenar redes neuronales con el fin de probar si es posible poder obtener una mejora en el rendimiento a la hora del análisis de sentimiento."
      ],
      "metadata": {
        "id": "m7zc7T8Px1sA"
      }
    },
    {
      "cell_type": "code",
      "source": [
        "from tensorflow.keras.models import Sequential\n",
        "from tensorflow.keras.layers import Embedding, LSTM, Dense, Dropout, SpatialDropout1D, Bidirectional\n",
        "from tensorflow.keras.layers import Conv1D, Flatten, GRU, GlobalAveragePooling1D, GlobalMaxPooling1D\n",
        "from tensorflow.keras.preprocessing.text import one_hot, Tokenizer\n",
        "from tensorflow.keras.preprocessing.sequence import pad_sequences\n",
        "from tensorflow import keras\n",
        "from tensorflow.keras.optimizers import Adam, AdamW\n",
        "from tensorflow.keras.callbacks import Callback, EarlyStopping, ModelCheckpoint, ReduceLROnPlateau\n",
        "\n",
        "from sklearn.model_selection import train_test_split\n",
        "from sklearn.utils.class_weight import compute_class_weight"
      ],
      "metadata": {
        "id": "gJMoZfNcHT4k"
      },
      "execution_count": 25,
      "outputs": []
    },
    {
      "cell_type": "code",
      "source": [
        "def plot_history(history):\n",
        "    plt.figure(figsize=(10, 4))\n",
        "\n",
        "\n",
        "    plt.subplot(1, 2, 1)\n",
        "    plt.plot(history.history['loss'], label='Training Loss')\n",
        "    plt.plot(history.history['val_loss'], label='Validation Loss')\n",
        "    plt.title('Training and Validation Loss')\n",
        "    plt.xlabel('Epoch')\n",
        "    plt.ylabel('Loss')\n",
        "    plt.legend()\n",
        "    plt.grid()\n",
        "\n",
        "    plt.subplot(1, 2, 2)\n",
        "    plt.plot(history.history['accuracy'], label='Training Accuracy')\n",
        "    plt.plot(history.history['val_accuracy'], label='Validation Accuracy')\n",
        "    plt.title('Training and Validation Accuracy')\n",
        "    plt.xlabel('Epoch')\n",
        "    plt.ylabel('Accuracy')\n",
        "    plt.legend()\n",
        "    plt.grid()\n",
        "\n",
        "    plt.tight_layout()\n",
        "    plt.show()"
      ],
      "metadata": {
        "id": "AF_l-ybSHYnm"
      },
      "execution_count": 26,
      "outputs": []
    },
    {
      "cell_type": "markdown",
      "source": [
        "### El siguiente código prepara datos de texto para un modelo de clasificación de sentimientos mediante:\n",
        "\n",
        "*   La tokenización del texto en secuencias numéricas.\n",
        "*   El relleno de las secuencias a una longitud fija.\n",
        "*   La codificación one-hot de las etiquetas de sentimiento.\n",
        "*   La división de los datos en conjuntos de entrenamiento y prueba.\n",
        "*   El cálculo de los pesos de clase para manejar el desequilibrio de clases.\n",
        "*   La determinación del tamaño del vocabulario.\n",
        "\n",
        "### Estos datos preprocesados se pueden usar luego para entrenar un modelo de red neuronal (por ejemplo, una LSTM o una CNN) para el análisis de sentimientos."
      ],
      "metadata": {
        "id": "EOt2XxfO1oBI"
      }
    },
    {
      "cell_type": "code",
      "source": [
        "import numpy as np\n",
        "NUM_WORDS = 30_000\n",
        "MAX_SEQUENCE_LENGTH = 32\n",
        "OOV_TOKEN = '<OOV>'\n",
        "PADDING = 'post'\n",
        "\n",
        "tokenizer = Tokenizer(num_words=NUM_WORDS, split=' ', oov_token=OOV_TOKEN)\n",
        "tokenizer.fit_on_texts(df[\"cleaned_review\"])\n",
        "X = tokenizer.texts_to_sequences(df[\"cleaned_review\"])\n",
        "X = pad_sequences(X, maxlen = MAX_SEQUENCE_LENGTH, padding=PADDING, truncating=PADDING)\n",
        "\n",
        "Y = pd.get_dummies(df['sentiment']).values\n",
        "\n",
        "X_train, X_test, Y_train, Y_test = train_test_split(X,Y, stratify=df[\"sentiment\"], test_size = 0.1, random_state = 43, shuffle=True)\n",
        "print(X_train.shape,Y_train.shape)\n",
        "print(X_test.shape,Y_test.shape)\n",
        "\n",
        "class_weights = compute_class_weight(class_weight = \"balanced\",\n",
        "                                     classes = np.unique(Y.argmax(axis=1)), y = Y.argmax(axis=1))\n",
        "class_weights = dict(zip(np.unique(Y.argmax(axis=1)), class_weights))\n",
        "print(\"class_weights: \", class_weights)\n",
        "\n",
        "vocab_size = len(tokenizer.word_index) + 1"
      ],
      "metadata": {
        "colab": {
          "base_uri": "https://localhost:8080/"
        },
        "id": "2u777gfBHc58",
        "outputId": "50a69ded-ab7f-4bf5-c71f-c763178ea978"
      },
      "execution_count": 28,
      "outputs": [
        {
          "output_type": "stream",
          "name": "stdout",
          "text": [
            "(9234, 32) (9234, 2)\n",
            "(1027, 32) (1027, 2)\n",
            "class_weights:  {0: 4.1408393866020985, 1: 0.5686654843715362}\n"
          ]
        }
      ]
    },
    {
      "cell_type": "code",
      "source": [
        "!pip install --upgrade tensorflow\n",
        "!pip install --upgrade tensorflow-gpu\n",
        "!pip install --upgrade tensorflow-estimator"
      ],
      "metadata": {
        "colab": {
          "base_uri": "https://localhost:8080/",
          "height": 1000
        },
        "id": "Nm-R1MlzPUwO",
        "outputId": "ff0d13c1-9110-42e9-f092-4a3880690872"
      },
      "execution_count": 29,
      "outputs": [
        {
          "output_type": "stream",
          "name": "stdout",
          "text": [
            "Requirement already satisfied: tensorflow in /usr/local/lib/python3.11/dist-packages (2.17.1)\n",
            "Collecting tensorflow\n",
            "  Downloading tensorflow-2.18.0-cp311-cp311-manylinux_2_17_x86_64.manylinux2014_x86_64.whl.metadata (4.1 kB)\n",
            "Requirement already satisfied: absl-py>=1.0.0 in /usr/local/lib/python3.11/dist-packages (from tensorflow) (1.4.0)\n",
            "Requirement already satisfied: astunparse>=1.6.0 in /usr/local/lib/python3.11/dist-packages (from tensorflow) (1.6.3)\n",
            "Requirement already satisfied: flatbuffers>=24.3.25 in /usr/local/lib/python3.11/dist-packages (from tensorflow) (25.1.21)\n",
            "Requirement already satisfied: gast!=0.5.0,!=0.5.1,!=0.5.2,>=0.2.1 in /usr/local/lib/python3.11/dist-packages (from tensorflow) (0.6.0)\n",
            "Requirement already satisfied: google-pasta>=0.1.1 in /usr/local/lib/python3.11/dist-packages (from tensorflow) (0.2.0)\n",
            "Requirement already satisfied: libclang>=13.0.0 in /usr/local/lib/python3.11/dist-packages (from tensorflow) (18.1.1)\n",
            "Requirement already satisfied: opt-einsum>=2.3.2 in /usr/local/lib/python3.11/dist-packages (from tensorflow) (3.4.0)\n",
            "Requirement already satisfied: packaging in /usr/local/lib/python3.11/dist-packages (from tensorflow) (24.2)\n",
            "Requirement already satisfied: protobuf!=4.21.0,!=4.21.1,!=4.21.2,!=4.21.3,!=4.21.4,!=4.21.5,<6.0.0dev,>=3.20.3 in /usr/local/lib/python3.11/dist-packages (from tensorflow) (4.25.5)\n",
            "Requirement already satisfied: requests<3,>=2.21.0 in /usr/local/lib/python3.11/dist-packages (from tensorflow) (2.32.3)\n",
            "Requirement already satisfied: setuptools in /usr/local/lib/python3.11/dist-packages (from tensorflow) (75.1.0)\n",
            "Requirement already satisfied: six>=1.12.0 in /usr/local/lib/python3.11/dist-packages (from tensorflow) (1.17.0)\n",
            "Requirement already satisfied: termcolor>=1.1.0 in /usr/local/lib/python3.11/dist-packages (from tensorflow) (2.5.0)\n",
            "Requirement already satisfied: typing-extensions>=3.6.6 in /usr/local/lib/python3.11/dist-packages (from tensorflow) (4.12.2)\n",
            "Requirement already satisfied: wrapt>=1.11.0 in /usr/local/lib/python3.11/dist-packages (from tensorflow) (1.17.2)\n",
            "Requirement already satisfied: grpcio<2.0,>=1.24.3 in /usr/local/lib/python3.11/dist-packages (from tensorflow) (1.69.0)\n",
            "Collecting tensorboard<2.19,>=2.18 (from tensorflow)\n",
            "  Downloading tensorboard-2.18.0-py3-none-any.whl.metadata (1.6 kB)\n",
            "Requirement already satisfied: keras>=3.5.0 in /usr/local/lib/python3.11/dist-packages (from tensorflow) (3.5.0)\n",
            "Requirement already satisfied: numpy<2.1.0,>=1.26.0 in /usr/local/lib/python3.11/dist-packages (from tensorflow) (1.26.4)\n",
            "Requirement already satisfied: h5py>=3.11.0 in /usr/local/lib/python3.11/dist-packages (from tensorflow) (3.12.1)\n",
            "Requirement already satisfied: ml-dtypes<0.5.0,>=0.4.0 in /usr/local/lib/python3.11/dist-packages (from tensorflow) (0.4.1)\n",
            "Requirement already satisfied: tensorflow-io-gcs-filesystem>=0.23.1 in /usr/local/lib/python3.11/dist-packages (from tensorflow) (0.37.1)\n",
            "Requirement already satisfied: wheel<1.0,>=0.23.0 in /usr/local/lib/python3.11/dist-packages (from astunparse>=1.6.0->tensorflow) (0.45.1)\n",
            "Requirement already satisfied: rich in /usr/local/lib/python3.11/dist-packages (from keras>=3.5.0->tensorflow) (13.9.4)\n",
            "Requirement already satisfied: namex in /usr/local/lib/python3.11/dist-packages (from keras>=3.5.0->tensorflow) (0.0.8)\n",
            "Requirement already satisfied: optree in /usr/local/lib/python3.11/dist-packages (from keras>=3.5.0->tensorflow) (0.14.0)\n",
            "Requirement already satisfied: charset-normalizer<4,>=2 in /usr/local/lib/python3.11/dist-packages (from requests<3,>=2.21.0->tensorflow) (3.4.1)\n",
            "Requirement already satisfied: idna<4,>=2.5 in /usr/local/lib/python3.11/dist-packages (from requests<3,>=2.21.0->tensorflow) (3.10)\n",
            "Requirement already satisfied: urllib3<3,>=1.21.1 in /usr/local/lib/python3.11/dist-packages (from requests<3,>=2.21.0->tensorflow) (2.3.0)\n",
            "Requirement already satisfied: certifi>=2017.4.17 in /usr/local/lib/python3.11/dist-packages (from requests<3,>=2.21.0->tensorflow) (2024.12.14)\n",
            "Requirement already satisfied: markdown>=2.6.8 in /usr/local/lib/python3.11/dist-packages (from tensorboard<2.19,>=2.18->tensorflow) (3.7)\n",
            "Requirement already satisfied: tensorboard-data-server<0.8.0,>=0.7.0 in /usr/local/lib/python3.11/dist-packages (from tensorboard<2.19,>=2.18->tensorflow) (0.7.2)\n",
            "Requirement already satisfied: werkzeug>=1.0.1 in /usr/local/lib/python3.11/dist-packages (from tensorboard<2.19,>=2.18->tensorflow) (3.1.3)\n",
            "Requirement already satisfied: MarkupSafe>=2.1.1 in /usr/local/lib/python3.11/dist-packages (from werkzeug>=1.0.1->tensorboard<2.19,>=2.18->tensorflow) (3.0.2)\n",
            "Requirement already satisfied: markdown-it-py>=2.2.0 in /usr/local/lib/python3.11/dist-packages (from rich->keras>=3.5.0->tensorflow) (3.0.0)\n",
            "Requirement already satisfied: pygments<3.0.0,>=2.13.0 in /usr/local/lib/python3.11/dist-packages (from rich->keras>=3.5.0->tensorflow) (2.19.1)\n",
            "Requirement already satisfied: mdurl~=0.1 in /usr/local/lib/python3.11/dist-packages (from markdown-it-py>=2.2.0->rich->keras>=3.5.0->tensorflow) (0.1.2)\n",
            "Downloading tensorflow-2.18.0-cp311-cp311-manylinux_2_17_x86_64.manylinux2014_x86_64.whl (615.4 MB)\n",
            "\u001b[2K   \u001b[90m━━━━━━━━━━━━━━━━━━━━━━━━━━━━━━━━━━━━━━━━\u001b[0m \u001b[32m615.4/615.4 MB\u001b[0m \u001b[31m1.7 MB/s\u001b[0m eta \u001b[36m0:00:00\u001b[0m\n",
            "\u001b[?25hDownloading tensorboard-2.18.0-py3-none-any.whl (5.5 MB)\n",
            "\u001b[2K   \u001b[90m━━━━━━━━━━━━━━━━━━━━━━━━━━━━━━━━━━━━━━━━\u001b[0m \u001b[32m5.5/5.5 MB\u001b[0m \u001b[31m91.9 MB/s\u001b[0m eta \u001b[36m0:00:00\u001b[0m\n",
            "\u001b[?25hInstalling collected packages: tensorboard, tensorflow\n",
            "  Attempting uninstall: tensorboard\n",
            "    Found existing installation: tensorboard 2.17.1\n",
            "    Uninstalling tensorboard-2.17.1:\n",
            "      Successfully uninstalled tensorboard-2.17.1\n",
            "  Attempting uninstall: tensorflow\n",
            "    Found existing installation: tensorflow 2.17.1\n",
            "    Uninstalling tensorflow-2.17.1:\n",
            "      Successfully uninstalled tensorflow-2.17.1\n",
            "\u001b[31mERROR: pip's dependency resolver does not currently take into account all the packages that are installed. This behaviour is the source of the following dependency conflicts.\n",
            "tensorflow-tpu 2.17.0 requires tensorboard<2.18,>=2.17, but you have tensorboard 2.18.0 which is incompatible.\n",
            "tf-keras 2.17.0 requires tensorflow<2.18,>=2.17, but you have tensorflow 2.18.0 which is incompatible.\n",
            "tensorflow-text 2.17.0 requires tensorflow<2.18,>=2.17.0, but you have tensorflow 2.18.0 which is incompatible.\u001b[0m\u001b[31m\n",
            "\u001b[0mSuccessfully installed tensorboard-2.18.0 tensorflow-2.18.0\n"
          ]
        },
        {
          "output_type": "display_data",
          "data": {
            "application/vnd.colab-display-data+json": {
              "pip_warning": {
                "packages": [
                  "tensorflow"
                ]
              },
              "id": "e574f0d2764f4320a11a82d719f79a93"
            }
          },
          "metadata": {}
        },
        {
          "output_type": "stream",
          "name": "stdout",
          "text": [
            "Collecting tensorflow-gpu\n",
            "  Downloading tensorflow-gpu-2.12.0.tar.gz (2.6 kB)\n",
            "\u001b[31mERROR: Operation cancelled by user\u001b[0m\u001b[31m\n",
            "\u001b[0mCollecting tensorflow-estimator\n",
            "  Downloading tensorflow_estimator-2.15.0-py2.py3-none-any.whl.metadata (1.3 kB)\n",
            "Downloading tensorflow_estimator-2.15.0-py2.py3-none-any.whl (441 kB)\n",
            "\u001b[2K   \u001b[90m━━━━━━━━━━━━━━━━━━━━━━━━━━━━━━━━━━━━━━━━\u001b[0m \u001b[32m442.0/442.0 kB\u001b[0m \u001b[31m6.4 MB/s\u001b[0m eta \u001b[36m0:00:00\u001b[0m\n",
            "\u001b[?25hInstalling collected packages: tensorflow-estimator\n",
            "Successfully installed tensorflow-estimator-2.15.0\n"
          ]
        }
      ]
    },
    {
      "cell_type": "markdown",
      "source": [
        "### El código a continuación define una función para entrenar un modelo de clasificación de texto por lotes en TensorFlow. El código pre procesa los datos de texto, define la arquitectura del modelo, lo entrena y evalúa su rendimiento utilizando métricas de rendimiento estándar."
      ],
      "metadata": {
        "id": "fXuQv9SO2h32"
      }
    },
    {
      "cell_type": "code",
      "source": [
        "from sklearn.metrics import f1_score, accuracy_score, roc_auc_score, classification_report, precision_score, recall_score\n",
        "from sklearn.model_selection import train_test_split\n",
        "from tensorflow.keras.preprocessing.text import Tokenizer\n",
        "from tensorflow.keras.preprocessing.sequence import pad_sequences\n",
        "from tensorflow.keras.models import Sequential\n",
        "from tensorflow.keras.layers import Embedding, SpatialDropout1D, GlobalAveragePooling1D, Dense, Dropout\n",
        "from tensorflow.keras.callbacks import EarlyStopping, ReduceLROnPlateau\n",
        "import numpy as np\n",
        "import matplotlib.pyplot as plt\n",
        "\n",
        "metricas_modelos = {}\n",
        "\n",
        "def modelo_con_batch(batch_size, nombre_modelo):\n",
        "    global metricas_modelos\n",
        "\n",
        "    vocab_size = 10000\n",
        "    MAX_SEQUENCE_LENGTH = 100\n",
        "\n",
        "    X_raw = df['cleaned_review']\n",
        "    Y_raw = df['sentiment'].apply(lambda x: 1 if x == '1' else (0 if x == '-1' else 0.5)).astype(int)\n",
        "\n",
        "    X_train_raw, X_test_raw, Y_train_raw, Y_test_raw = train_test_split(\n",
        "        X_raw, Y_raw, test_size=0.2, random_state=42, stratify=Y_raw\n",
        "    )\n",
        "\n",
        "    tokenizer = Tokenizer(num_words=vocab_size, oov_token=\"<OOV>\")\n",
        "    tokenizer.fit_on_texts(X_train_raw)\n",
        "    X_train_sequences = tokenizer.texts_to_sequences(X_train_raw)\n",
        "    X_test_sequences = tokenizer.texts_to_sequences(X_test_raw)\n",
        "    X_train_padded = pad_sequences(X_train_sequences, maxlen=MAX_SEQUENCE_LENGTH, padding='post', truncating='post')\n",
        "    X_test_padded = pad_sequences(X_test_sequences, maxlen=MAX_SEQUENCE_LENGTH, padding='post', truncating='post')\n",
        "\n",
        "    Y_train = np.array(Y_train_raw)\n",
        "    Y_test = np.array(Y_test_raw)\n",
        "\n",
        "    def build_model(vocab_size, max_sequence_length):\n",
        "        model = Sequential([\n",
        "            Embedding(input_dim=vocab_size, output_dim=128, input_length=max_sequence_length),\n",
        "            SpatialDropout1D(0.2),\n",
        "            GlobalAveragePooling1D(),\n",
        "            Dense(64, activation='relu'),\n",
        "            Dropout(0.5),\n",
        "            Dense(32, activation='relu'),\n",
        "            Dropout(0.5),\n",
        "            Dense(1, activation='sigmoid')\n",
        "        ])\n",
        "        model.compile(optimizer='adam', loss='binary_crossentropy', metrics=['accuracy'])\n",
        "        return model\n",
        "\n",
        "    model = build_model(vocab_size, MAX_SEQUENCE_LENGTH)\n",
        "    history = model.fit(\n",
        "        X_train_padded, Y_train,\n",
        "        epochs=10, batch_size=batch_size, validation_split=0.2,\n",
        "        callbacks=[\n",
        "            EarlyStopping(monitor=\"val_loss\", patience=10, restore_best_weights=True),\n",
        "            ReduceLROnPlateau(monitor=\"val_loss\", factor=0.2, patience=2, mode=\"min\"),\n",
        "        ]\n",
        "    )\n",
        "\n",
        "    model.save(f\"{nombre_modelo}.h5\")\n",
        "\n",
        "    y_pred = model.predict(X_test_padded).flatten()\n",
        "    accuracy = accuracy_score(Y_test, y_pred.round())\n",
        "    f1 = f1_score(Y_test, y_pred.round(), average='weighted')\n",
        "    roc_auc = roc_auc_score(Y_test, y_pred)\n",
        "\n",
        "    metricas_modelos[nombre_modelo] = {\n",
        "        'accuracy': accuracy,\n",
        "        'f1_score': f1,\n",
        "        'roc_auc': roc_auc\n",
        "    }\n",
        "\n",
        "    print(f\"Modelo {nombre_modelo}:\")\n",
        "    print(f\"Accuracy: {accuracy}\")\n",
        "    print(f\"F1 Score: {f1}\")\n",
        "    print(f\"ROC-AUC: {roc_auc}\")\n",
        "    print(classification_report(Y_test, y_pred.round()))\n",
        "    plot_history(history)\n",
        "\n",
        "modelo_con_batch(32, \"Modelo_Batch_32\")\n",
        "modelo_con_batch(64, \"Modelo_Batch_64\")\n",
        "modelo_con_batch(128, \"Modelo_Batch_128\")\n"
      ],
      "metadata": {
        "colab": {
          "base_uri": "https://localhost:8080/",
          "height": 1000
        },
        "id": "HsNQwRGZXNcr",
        "outputId": "185e4317-923a-46f7-9cf0-46f9006d9ce9"
      },
      "execution_count": 50,
      "outputs": [
        {
          "output_type": "stream",
          "name": "stdout",
          "text": [
            "Epoch 1/25\n"
          ]
        },
        {
          "output_type": "stream",
          "name": "stderr",
          "text": [
            "/usr/local/lib/python3.11/dist-packages/keras/src/layers/core/embedding.py:90: UserWarning: Argument `input_length` is deprecated. Just remove it.\n",
            "  warnings.warn(\n"
          ]
        },
        {
          "output_type": "stream",
          "name": "stdout",
          "text": [
            "\u001b[1m206/206\u001b[0m \u001b[32m━━━━━━━━━━━━━━━━━━━━\u001b[0m\u001b[37m\u001b[0m \u001b[1m5s\u001b[0m 16ms/step - accuracy: 0.8377 - loss: 0.4866 - val_accuracy: 0.8825 - val_loss: 0.3673 - learning_rate: 0.0010\n",
            "Epoch 2/25\n",
            "\u001b[1m206/206\u001b[0m \u001b[32m━━━━━━━━━━━━━━━━━━━━\u001b[0m\u001b[37m\u001b[0m \u001b[1m6s\u001b[0m 21ms/step - accuracy: 0.8802 - loss: 0.3860 - val_accuracy: 0.8825 - val_loss: 0.3602 - learning_rate: 0.0010\n",
            "Epoch 3/25\n",
            "\u001b[1m206/206\u001b[0m \u001b[32m━━━━━━━━━━━━━━━━━━━━\u001b[0m\u001b[37m\u001b[0m \u001b[1m3s\u001b[0m 16ms/step - accuracy: 0.8772 - loss: 0.3666 - val_accuracy: 0.8825 - val_loss: 0.3418 - learning_rate: 0.0010\n",
            "Epoch 4/25\n",
            "\u001b[1m206/206\u001b[0m \u001b[32m━━━━━━━━━━━━━━━━━━━━\u001b[0m\u001b[37m\u001b[0m \u001b[1m3s\u001b[0m 16ms/step - accuracy: 0.8804 - loss: 0.3197 - val_accuracy: 0.8831 - val_loss: 0.3065 - learning_rate: 0.0010\n",
            "Epoch 5/25\n",
            "\u001b[1m206/206\u001b[0m \u001b[32m━━━━━━━━━━━━━━━━━━━━\u001b[0m\u001b[37m\u001b[0m \u001b[1m3s\u001b[0m 15ms/step - accuracy: 0.8974 - loss: 0.2631 - val_accuracy: 0.8892 - val_loss: 0.3421 - learning_rate: 0.0010\n",
            "Epoch 6/25\n",
            "\u001b[1m206/206\u001b[0m \u001b[32m━━━━━━━━━━━━━━━━━━━━\u001b[0m\u001b[37m\u001b[0m \u001b[1m6s\u001b[0m 19ms/step - accuracy: 0.9133 - loss: 0.2279 - val_accuracy: 0.8873 - val_loss: 0.3531 - learning_rate: 0.0010\n",
            "Epoch 7/25\n",
            "\u001b[1m206/206\u001b[0m \u001b[32m━━━━━━━━━━━━━━━━━━━━\u001b[0m\u001b[37m\u001b[0m \u001b[1m3s\u001b[0m 15ms/step - accuracy: 0.9348 - loss: 0.1831 - val_accuracy: 0.8867 - val_loss: 0.3273 - learning_rate: 2.0000e-04\n",
            "Epoch 8/25\n",
            "\u001b[1m206/206\u001b[0m \u001b[32m━━━━━━━━━━━━━━━━━━━━\u001b[0m\u001b[37m\u001b[0m \u001b[1m5s\u001b[0m 17ms/step - accuracy: 0.9459 - loss: 0.1681 - val_accuracy: 0.8904 - val_loss: 0.3605 - learning_rate: 2.0000e-04\n",
            "Epoch 9/25\n",
            "\u001b[1m206/206\u001b[0m \u001b[32m━━━━━━━━━━━━━━━━━━━━\u001b[0m\u001b[37m\u001b[0m \u001b[1m4s\u001b[0m 21ms/step - accuracy: 0.9501 - loss: 0.1546 - val_accuracy: 0.8879 - val_loss: 0.3391 - learning_rate: 4.0000e-05\n",
            "Epoch 10/25\n",
            "\u001b[1m206/206\u001b[0m \u001b[32m━━━━━━━━━━━━━━━━━━━━\u001b[0m\u001b[37m\u001b[0m \u001b[1m3s\u001b[0m 15ms/step - accuracy: 0.9523 - loss: 0.1455 - val_accuracy: 0.8886 - val_loss: 0.3485 - learning_rate: 4.0000e-05\n",
            "Epoch 11/25\n",
            "\u001b[1m206/206\u001b[0m \u001b[32m━━━━━━━━━━━━━━━━━━━━\u001b[0m\u001b[37m\u001b[0m \u001b[1m5s\u001b[0m 16ms/step - accuracy: 0.9533 - loss: 0.1427 - val_accuracy: 0.8861 - val_loss: 0.3447 - learning_rate: 8.0000e-06\n",
            "Epoch 12/25\n",
            "\u001b[1m206/206\u001b[0m \u001b[32m━━━━━━━━━━━━━━━━━━━━\u001b[0m\u001b[37m\u001b[0m \u001b[1m4s\u001b[0m 20ms/step - accuracy: 0.9531 - loss: 0.1464 - val_accuracy: 0.8867 - val_loss: 0.3452 - learning_rate: 8.0000e-06\n",
            "Epoch 13/25\n",
            "\u001b[1m206/206\u001b[0m \u001b[32m━━━━━━━━━━━━━━━━━━━━\u001b[0m\u001b[37m\u001b[0m \u001b[1m4s\u001b[0m 17ms/step - accuracy: 0.9525 - loss: 0.1485 - val_accuracy: 0.8879 - val_loss: 0.3447 - learning_rate: 1.6000e-06\n",
            "Epoch 14/25\n",
            "\u001b[1m206/206\u001b[0m \u001b[32m━━━━━━━━━━━━━━━━━━━━\u001b[0m\u001b[37m\u001b[0m \u001b[1m3s\u001b[0m 15ms/step - accuracy: 0.9481 - loss: 0.1535 - val_accuracy: 0.8867 - val_loss: 0.3451 - learning_rate: 1.6000e-06\n"
          ]
        },
        {
          "output_type": "stream",
          "name": "stderr",
          "text": [
            "WARNING:absl:You are saving your model as an HDF5 file via `model.save()` or `keras.saving.save_model(model)`. This file format is considered legacy. We recommend using instead the native Keras format, e.g. `model.save('my_model.keras')` or `keras.saving.save_model(model, 'my_model.keras')`. \n"
          ]
        },
        {
          "output_type": "stream",
          "name": "stdout",
          "text": [
            "\u001b[1m65/65\u001b[0m \u001b[32m━━━━━━━━━━━━━━━━━━━━\u001b[0m\u001b[37m\u001b[0m \u001b[1m0s\u001b[0m 3ms/step\n",
            "Modelo Modelo_Batch_32:\n",
            "Accuracy: 0.8792011690209449\n",
            "F1 Score: 0.8226843494467629\n",
            "ROC-AUC: 0.826206326512376\n",
            "              precision    recall  f1-score   support\n",
            "\n",
            "           0       0.00      0.00      0.00       248\n",
            "           1       0.88      1.00      0.94      1805\n",
            "\n",
            "    accuracy                           0.88      2053\n",
            "   macro avg       0.44      0.50      0.47      2053\n",
            "weighted avg       0.77      0.88      0.82      2053\n",
            "\n"
          ]
        },
        {
          "output_type": "stream",
          "name": "stderr",
          "text": [
            "/usr/local/lib/python3.11/dist-packages/sklearn/metrics/_classification.py:1565: UndefinedMetricWarning: Precision is ill-defined and being set to 0.0 in labels with no predicted samples. Use `zero_division` parameter to control this behavior.\n",
            "  _warn_prf(average, modifier, f\"{metric.capitalize()} is\", len(result))\n",
            "/usr/local/lib/python3.11/dist-packages/sklearn/metrics/_classification.py:1565: UndefinedMetricWarning: Precision is ill-defined and being set to 0.0 in labels with no predicted samples. Use `zero_division` parameter to control this behavior.\n",
            "  _warn_prf(average, modifier, f\"{metric.capitalize()} is\", len(result))\n",
            "/usr/local/lib/python3.11/dist-packages/sklearn/metrics/_classification.py:1565: UndefinedMetricWarning: Precision is ill-defined and being set to 0.0 in labels with no predicted samples. Use `zero_division` parameter to control this behavior.\n",
            "  _warn_prf(average, modifier, f\"{metric.capitalize()} is\", len(result))\n"
          ]
        },
        {
          "output_type": "display_data",
          "data": {
            "text/plain": [
              "<Figure size 1000x400 with 2 Axes>"
            ],
            "image/png": "[encoded data removed]"
          },
          "metadata": {}
        },
        {
          "output_type": "stream",
          "name": "stdout",
          "text": [
            "Epoch 1/25\n"
          ]
        },
        {
          "output_type": "stream",
          "name": "stderr",
          "text": [
            "/usr/local/lib/python3.11/dist-packages/keras/src/layers/core/embedding.py:90: UserWarning: Argument `input_length` is deprecated. Just remove it.\n",
            "  warnings.warn(\n"
          ]
        },
        {
          "output_type": "stream",
          "name": "stdout",
          "text": [
            "\u001b[1m103/103\u001b[0m \u001b[32m━━━━━━━━━━━━━━━━━━━━\u001b[0m\u001b[37m\u001b[0m \u001b[1m6s\u001b[0m 28ms/step - accuracy: 0.8479 - loss: 0.4815 - val_accuracy: 0.8825 - val_loss: 0.3669 - learning_rate: 0.0010\n",
            "Epoch 2/25\n",
            "\u001b[1m103/103\u001b[0m \u001b[32m━━━━━━━━━━━━━━━━━━━━\u001b[0m\u001b[37m\u001b[0m \u001b[1m4s\u001b[0m 18ms/step - accuracy: 0.8863 - loss: 0.3739 - val_accuracy: 0.8825 - val_loss: 0.3565 - learning_rate: 0.0010\n",
            "Epoch 3/25\n",
            "\u001b[1m103/103\u001b[0m \u001b[32m━━━━━━━━━━━━━━━━━━━━\u001b[0m\u001b[37m\u001b[0m \u001b[1m3s\u001b[0m 19ms/step - accuracy: 0.8776 - loss: 0.3749 - val_accuracy: 0.8825 - val_loss: 0.3470 - learning_rate: 0.0010\n",
            "Epoch 4/25\n",
            "\u001b[1m103/103\u001b[0m \u001b[32m━━━━━━━━━━━━━━━━━━━━\u001b[0m\u001b[37m\u001b[0m \u001b[1m2s\u001b[0m 19ms/step - accuracy: 0.8797 - loss: 0.3497 - val_accuracy: 0.8825 - val_loss: 0.3630 - learning_rate: 0.0010\n",
            "Epoch 5/25\n",
            "\u001b[1m103/103\u001b[0m \u001b[32m━━━━━━━━━━━━━━━━━━━━\u001b[0m\u001b[37m\u001b[0m \u001b[1m2s\u001b[0m 22ms/step - accuracy: 0.8752 - loss: 0.3235 - val_accuracy: 0.8825 - val_loss: 0.3022 - learning_rate: 0.0010\n",
            "Epoch 6/25\n",
            "\u001b[1m103/103\u001b[0m \u001b[32m━━━━━━━━━━━━━━━━━━━━\u001b[0m\u001b[37m\u001b[0m \u001b[1m3s\u001b[0m 27ms/step - accuracy: 0.8830 - loss: 0.2677 - val_accuracy: 0.8892 - val_loss: 0.3195 - learning_rate: 0.0010\n",
            "Epoch 7/25\n",
            "\u001b[1m103/103\u001b[0m \u001b[32m━━━━━━━━━━━━━━━━━━━━\u001b[0m\u001b[37m\u001b[0m \u001b[1m4s\u001b[0m 19ms/step - accuracy: 0.9082 - loss: 0.2310 - val_accuracy: 0.8922 - val_loss: 0.3113 - learning_rate: 0.0010\n",
            "Epoch 8/25\n",
            "\u001b[1m103/103\u001b[0m \u001b[32m━━━━━━━━━━━━━━━━━━━━\u001b[0m\u001b[37m\u001b[0m \u001b[1m3s\u001b[0m 19ms/step - accuracy: 0.9366 - loss: 0.1833 - val_accuracy: 0.8867 - val_loss: 0.3182 - learning_rate: 2.0000e-04\n",
            "Epoch 9/25\n",
            "\u001b[1m103/103\u001b[0m \u001b[32m━━━━━━━━━━━━━━━━━━━━\u001b[0m\u001b[37m\u001b[0m \u001b[1m3s\u001b[0m 18ms/step - accuracy: 0.9423 - loss: 0.1747 - val_accuracy: 0.8898 - val_loss: 0.3215 - learning_rate: 2.0000e-04\n",
            "Epoch 10/25\n",
            "\u001b[1m103/103\u001b[0m \u001b[32m━━━━━━━━━━━━━━━━━━━━\u001b[0m\u001b[37m\u001b[0m \u001b[1m3s\u001b[0m 25ms/step - accuracy: 0.9470 - loss: 0.1565 - val_accuracy: 0.8898 - val_loss: 0.3294 - learning_rate: 4.0000e-05\n",
            "Epoch 11/25\n",
            "\u001b[1m103/103\u001b[0m \u001b[32m━━━━━━━━━━━━━━━━━━━━\u001b[0m\u001b[37m\u001b[0m \u001b[1m3s\u001b[0m 25ms/step - accuracy: 0.9472 - loss: 0.1569 - val_accuracy: 0.8898 - val_loss: 0.3264 - learning_rate: 4.0000e-05\n",
            "Epoch 12/25\n",
            "\u001b[1m103/103\u001b[0m \u001b[32m━━━━━━━━━━━━━━━━━━━━\u001b[0m\u001b[37m\u001b[0m \u001b[1m4s\u001b[0m 19ms/step - accuracy: 0.9473 - loss: 0.1520 - val_accuracy: 0.8879 - val_loss: 0.3277 - learning_rate: 8.0000e-06\n",
            "Epoch 13/25\n",
            "\u001b[1m103/103\u001b[0m \u001b[32m━━━━━━━━━━━━━━━━━━━━\u001b[0m\u001b[37m\u001b[0m \u001b[1m3s\u001b[0m 18ms/step - accuracy: 0.9528 - loss: 0.1460 - val_accuracy: 0.8886 - val_loss: 0.3280 - learning_rate: 8.0000e-06\n",
            "Epoch 14/25\n",
            "\u001b[1m103/103\u001b[0m \u001b[32m━━━━━━━━━━━━━━━━━━━━\u001b[0m\u001b[37m\u001b[0m \u001b[1m2s\u001b[0m 20ms/step - accuracy: 0.9534 - loss: 0.1425 - val_accuracy: 0.8886 - val_loss: 0.3285 - learning_rate: 1.6000e-06\n",
            "Epoch 15/25\n",
            "\u001b[1m103/103\u001b[0m \u001b[32m━━━━━━━━━━━━━━━━━━━━\u001b[0m\u001b[37m\u001b[0m \u001b[1m3s\u001b[0m 28ms/step - accuracy: 0.9512 - loss: 0.1418 - val_accuracy: 0.8892 - val_loss: 0.3276 - learning_rate: 1.6000e-06\n"
          ]
        },
        {
          "output_type": "stream",
          "name": "stderr",
          "text": [
            "WARNING:absl:You are saving your model as an HDF5 file via `model.save()` or `keras.saving.save_model(model)`. This file format is considered legacy. We recommend using instead the native Keras format, e.g. `model.save('my_model.keras')` or `keras.saving.save_model(model, 'my_model.keras')`. \n"
          ]
        },
        {
          "output_type": "stream",
          "name": "stdout",
          "text": [
            "\u001b[1m65/65\u001b[0m \u001b[32m━━━━━━━━━━━━━━━━━━━━\u001b[0m\u001b[37m\u001b[0m \u001b[1m0s\u001b[0m 4ms/step\n",
            "Modelo Modelo_Batch_64:\n",
            "Accuracy: 0.8792011690209449\n",
            "F1 Score: 0.8226843494467629\n",
            "ROC-AUC: 0.8389665802877312\n",
            "              precision    recall  f1-score   support\n",
            "\n",
            "           0       0.00      0.00      0.00       248\n",
            "           1       0.88      1.00      0.94      1805\n",
            "\n",
            "    accuracy                           0.88      2053\n",
            "   macro avg       0.44      0.50      0.47      2053\n",
            "weighted avg       0.77      0.88      0.82      2053\n",
            "\n"
          ]
        },
        {
          "output_type": "stream",
          "name": "stderr",
          "text": [
            "/usr/local/lib/python3.11/dist-packages/sklearn/metrics/_classification.py:1565: UndefinedMetricWarning: Precision is ill-defined and being set to 0.0 in labels with no predicted samples. Use `zero_division` parameter to control this behavior.\n",
            "  _warn_prf(average, modifier, f\"{metric.capitalize()} is\", len(result))\n",
            "/usr/local/lib/python3.11/dist-packages/sklearn/metrics/_classification.py:1565: UndefinedMetricWarning: Precision is ill-defined and being set to 0.0 in labels with no predicted samples. Use `zero_division` parameter to control this behavior.\n",
            "  _warn_prf(average, modifier, f\"{metric.capitalize()} is\", len(result))\n",
            "/usr/local/lib/python3.11/dist-packages/sklearn/metrics/_classification.py:1565: UndefinedMetricWarning: Precision is ill-defined and being set to 0.0 in labels with no predicted samples. Use `zero_division` parameter to control this behavior.\n",
            "  _warn_prf(average, modifier, f\"{metric.capitalize()} is\", len(result))\n"
          ]
        },
        {
          "output_type": "display_data",
          "data": {
            "text/plain": [
              "<Figure size 1000x400 with 2 Axes>"
            ],
            "image/png": "[encoded data removed]"
          },
          "metadata": {}
        },
        {
          "output_type": "stream",
          "name": "stdout",
          "text": [
            "Epoch 1/25\n"
          ]
        },
        {
          "output_type": "stream",
          "name": "stderr",
          "text": [
            "/usr/local/lib/python3.11/dist-packages/keras/src/layers/core/embedding.py:90: UserWarning: Argument `input_length` is deprecated. Just remove it.\n",
            "  warnings.warn(\n"
          ]
        },
        {
          "output_type": "stream",
          "name": "stdout",
          "text": [
            "\u001b[1m52/52\u001b[0m \u001b[32m━━━━━━━━━━━━━━━━━━━━\u001b[0m\u001b[37m\u001b[0m \u001b[1m4s\u001b[0m 31ms/step - accuracy: 0.8340 - loss: 0.5094 - val_accuracy: 0.8825 - val_loss: 0.3754 - learning_rate: 0.0010\n",
            "Epoch 2/25\n",
            "\u001b[1m52/52\u001b[0m \u001b[32m━━━━━━━━━━━━━━━━━━━━\u001b[0m\u001b[37m\u001b[0m \u001b[1m2s\u001b[0m 24ms/step - accuracy: 0.8831 - loss: 0.4066 - val_accuracy: 0.8825 - val_loss: 0.3624 - learning_rate: 0.0010\n",
            "Epoch 3/25\n",
            "\u001b[1m52/52\u001b[0m \u001b[32m━━━━━━━━━━━━━━━━━━━━\u001b[0m\u001b[37m\u001b[0m \u001b[1m1s\u001b[0m 25ms/step - accuracy: 0.8683 - loss: 0.4136 - val_accuracy: 0.8825 - val_loss: 0.3528 - learning_rate: 0.0010\n",
            "Epoch 4/25\n",
            "\u001b[1m52/52\u001b[0m \u001b[32m━━━━━━━━━━━━━━━━━━━━\u001b[0m\u001b[37m\u001b[0m \u001b[1m3s\u001b[0m 33ms/step - accuracy: 0.8794 - loss: 0.3674 - val_accuracy: 0.8825 - val_loss: 0.3464 - learning_rate: 0.0010\n",
            "Epoch 5/25\n",
            "\u001b[1m52/52\u001b[0m \u001b[32m━━━━━━━━━━━━━━━━━━━━\u001b[0m\u001b[37m\u001b[0m \u001b[1m3s\u001b[0m 35ms/step - accuracy: 0.8790 - loss: 0.3616 - val_accuracy: 0.8825 - val_loss: 0.3373 - learning_rate: 0.0010\n",
            "Epoch 6/25\n",
            "\u001b[1m52/52\u001b[0m \u001b[32m━━━━━━━━━━━━━━━━━━━━\u001b[0m\u001b[37m\u001b[0m \u001b[1m2s\u001b[0m 24ms/step - accuracy: 0.8808 - loss: 0.3336 - val_accuracy: 0.8825 - val_loss: 0.3279 - learning_rate: 0.0010\n",
            "Epoch 7/25\n",
            "\u001b[1m52/52\u001b[0m \u001b[32m━━━━━━━━━━━━━━━━━━━━\u001b[0m\u001b[37m\u001b[0m \u001b[1m1s\u001b[0m 25ms/step - accuracy: 0.8836 - loss: 0.3039 - val_accuracy: 0.8825 - val_loss: 0.3100 - learning_rate: 0.0010\n",
            "Epoch 8/25\n",
            "\u001b[1m52/52\u001b[0m \u001b[32m━━━━━━━━━━━━━━━━━━━━\u001b[0m\u001b[37m\u001b[0m \u001b[1m3s\u001b[0m 25ms/step - accuracy: 0.8858 - loss: 0.2673 - val_accuracy: 0.8886 - val_loss: 0.2996 - learning_rate: 0.0010\n",
            "Epoch 9/25\n",
            "\u001b[1m52/52\u001b[0m \u001b[32m━━━━━━━━━━━━━━━━━━━━\u001b[0m\u001b[37m\u001b[0m \u001b[1m3s\u001b[0m 25ms/step - accuracy: 0.9035 - loss: 0.2421 - val_accuracy: 0.8904 - val_loss: 0.3025 - learning_rate: 0.0010\n",
            "Epoch 10/25\n",
            "\u001b[1m52/52\u001b[0m \u001b[32m━━━━━━━━━━━━━━━━━━━━\u001b[0m\u001b[37m\u001b[0m \u001b[1m3s\u001b[0m 31ms/step - accuracy: 0.9249 - loss: 0.2074 - val_accuracy: 0.8898 - val_loss: 0.3077 - learning_rate: 0.0010\n",
            "Epoch 11/25\n",
            "\u001b[1m52/52\u001b[0m \u001b[32m━━━━━━━━━━━━━━━━━━━━\u001b[0m\u001b[37m\u001b[0m \u001b[1m3s\u001b[0m 36ms/step - accuracy: 0.9273 - loss: 0.1946 - val_accuracy: 0.8946 - val_loss: 0.3140 - learning_rate: 2.0000e-04\n",
            "Epoch 12/25\n",
            "\u001b[1m52/52\u001b[0m \u001b[32m━━━━━━━━━━━━━━━━━━━━\u001b[0m\u001b[37m\u001b[0m \u001b[1m2s\u001b[0m 24ms/step - accuracy: 0.9374 - loss: 0.1766 - val_accuracy: 0.8934 - val_loss: 0.3198 - learning_rate: 2.0000e-04\n",
            "Epoch 13/25\n",
            "\u001b[1m52/52\u001b[0m \u001b[32m━━━━━━━━━━━━━━━━━━━━\u001b[0m\u001b[37m\u001b[0m \u001b[1m3s\u001b[0m 25ms/step - accuracy: 0.9438 - loss: 0.1585 - val_accuracy: 0.8916 - val_loss: 0.3149 - learning_rate: 4.0000e-05\n",
            "Epoch 14/25\n",
            "\u001b[1m52/52\u001b[0m \u001b[32m━━━━━━━━━━━━━━━━━━━━\u001b[0m\u001b[37m\u001b[0m \u001b[1m3s\u001b[0m 26ms/step - accuracy: 0.9461 - loss: 0.1627 - val_accuracy: 0.8910 - val_loss: 0.3193 - learning_rate: 4.0000e-05\n",
            "Epoch 15/25\n",
            "\u001b[1m52/52\u001b[0m \u001b[32m━━━━━━━━━━━━━━━━━━━━\u001b[0m\u001b[37m\u001b[0m \u001b[1m3s\u001b[0m 25ms/step - accuracy: 0.9496 - loss: 0.1515 - val_accuracy: 0.8904 - val_loss: 0.3174 - learning_rate: 8.0000e-06\n",
            "Epoch 16/25\n",
            "\u001b[1m52/52\u001b[0m \u001b[32m━━━━━━━━━━━━━━━━━━━━\u001b[0m\u001b[37m\u001b[0m \u001b[1m3s\u001b[0m 37ms/step - accuracy: 0.9413 - loss: 0.1606 - val_accuracy: 0.8904 - val_loss: 0.3176 - learning_rate: 8.0000e-06\n",
            "Epoch 17/25\n",
            "\u001b[1m52/52\u001b[0m \u001b[32m━━━━━━━━━━━━━━━━━━━━\u001b[0m\u001b[37m\u001b[0m \u001b[1m2s\u001b[0m 25ms/step - accuracy: 0.9452 - loss: 0.1509 - val_accuracy: 0.8904 - val_loss: 0.3179 - learning_rate: 1.6000e-06\n",
            "Epoch 18/25\n",
            "\u001b[1m52/52\u001b[0m \u001b[32m━━━━━━━━━━━━━━━━━━━━\u001b[0m\u001b[37m\u001b[0m \u001b[1m1s\u001b[0m 25ms/step - accuracy: 0.9425 - loss: 0.1709 - val_accuracy: 0.8904 - val_loss: 0.3181 - learning_rate: 1.6000e-06\n"
          ]
        },
        {
          "output_type": "stream",
          "name": "stderr",
          "text": [
            "WARNING:absl:You are saving your model as an HDF5 file via `model.save()` or `keras.saving.save_model(model)`. This file format is considered legacy. We recommend using instead the native Keras format, e.g. `model.save('my_model.keras')` or `keras.saving.save_model(model, 'my_model.keras')`. \n"
          ]
        },
        {
          "output_type": "stream",
          "name": "stdout",
          "text": [
            "\u001b[1m65/65\u001b[0m \u001b[32m━━━━━━━━━━━━━━━━━━━━\u001b[0m\u001b[37m\u001b[0m \u001b[1m0s\u001b[0m 3ms/step\n",
            "Modelo Modelo_Batch_128:\n",
            "Accuracy: 0.8840720896249391\n",
            "F1 Score: 0.8411984591693197\n",
            "ROC-AUC: 0.8393418818693593\n",
            "              precision    recall  f1-score   support\n",
            "\n",
            "           0       0.68      0.08      0.14       248\n",
            "           1       0.89      1.00      0.94      1805\n",
            "\n",
            "    accuracy                           0.88      2053\n",
            "   macro avg       0.78      0.54      0.54      2053\n",
            "weighted avg       0.86      0.88      0.84      2053\n",
            "\n"
          ]
        },
        {
          "output_type": "display_data",
          "data": {
            "text/plain": [
              "<Figure size 1000x400 with 2 Axes>"
            ],
            "image/png": "[encoded data removed]"
          },
          "metadata": {}
        }
      ]
    },
    {
      "cell_type": "markdown",
      "source": [
        "## Análisis en conjunto con las gráficas:\n",
        "\n",
        "###Modelo_Batch_32:\n",
        "Como vimos en las gráficas, este modelo muestra la convergencia más rápida en el entrenamiento, pero también signos de sobreajuste (la pérdida de validación empieza a subir).\n",
        "En cuanto a las métricas, tiene el mejor Accuracy (0.8909) y el mejor F1 Score (0.8835) de los tres modelos. Sin embargo, su ROC-AUC (0.8280) es el más bajo. Esto sugiere que, aunque clasifica correctamente la mayoría de las instancias, su capacidad para distinguir entre las clases es menor. El sobreajuste podría estar afectando negativamente esta métrica.\n",
        "\n",
        "###Modelo_Batch_64:\n",
        "Las gráficas muestran una convergencia más estable y una mejor generalización que el modelo de batch 32.\n",
        "Las métricas confirman esto. Si bien su Accuracy (0.8782) y F1 Score (0.8316) son ligeramente inferiores al modelo de batch 32, su ROC-AUC (0.8439) es el más alto de los tres. Esto indica una mejor capacidad para discriminar entre las clases. El menor sobreajuste se traduce en una mejor capacidad de generalización.\n",
        "\n",
        "###Modelo_Batch_128:\n",
        "Las gráficas muestran una convergencia más lenta en el entrenamiento, similar al modelo de batch 64 en cuanto a la generalización.\n",
        "Sus métricas se sitúan entre los otros dos modelos. Su Accuracy (0.8831) es intermedio, su F1 Score (0.8376) es mejor que el de batch 64 pero peor que el de batch 32, y su ROC-AUC (0.8362) también está en un punto intermedio.\n",
        "Conclusión final:\n",
        "\n",
        "###Considerando tanto las gráficas como las métricas, se puede concluir lo siguiente:\n",
        "\n",
        "***El Modelo_Batch_32***, aunque obtiene el mejor Accuracy y F1 Score, **sufre de sobreajuste**, lo que se refleja en un menor ROC-AUC. Esto significa que, aunque clasifica correctamente un mayor número de instancias, su capacidad para distinguir entre las clases (sensibilidad y especificidad) es menor. No es la mejor opción debido a este problema de generalización.\n",
        "\n",
        "***El Modelo_Batch_64*** ofrece el **mejor equilibrio entre generalización y rendimiento**. Su ROC-AUC es el más alto, lo que indica una mejor capacidad para discriminar entre clases, y su Accuracy y F1 Score son aceptables, aunque ligeramente inferiores al modelo de batch 32. Este modelo probablemente generalizará mejor a datos nuevos.\n",
        "\n",
        "***El Modelo_Batch_128*** muestra una convergencia más lenta y no ofrece una mejora significativa en la generalización en comparación con el modelo de batch 64. Por lo tanto, **no se considera la mejor opción**.\n",
        "\n",
        "------------------------------------------------------------------------------\n",
        "###Más allá de los resultados obtenidos los modelos entrenados no son optimos para la detección de casos negativos ya que su valor de precisión es muy bajo en estos casos"
      ],
      "metadata": {
        "id": "5LF1igYp4F7W"
      }
    },
    {
      "cell_type": "markdown",
      "source": [
        "### Se proceden a cargar los modelos previamente guardados para su utulización"
      ],
      "metadata": {
        "id": "iO-dwdfWU87D"
      }
    },
    {
      "cell_type": "code",
      "source": [
        "from tensorflow.keras.models import load_model\n",
        "\n",
        "# Cargar modelos entrenados previamente\n",
        "modelo_batch_32 = load_model('Modelo_Batch_32.h5')\n",
        "modelo_batch_64 = load_model('Modelo_Batch_64.h5')\n",
        "modelo_batch_128 = load_model('Modelo_Batch_128.h5')\n",
        "\n",
        "# Ahora puedes usar los modelos cargados en las predicciones\n",
        "modelos_entrenados = {\n",
        "    'Modelo_Batch_32': modelo_batch_32,\n",
        "    'Modelo_Batch_64': modelo_batch_64,\n",
        "    'Modelo_Batch_128': modelo_batch_128\n",
        "}\n"
      ],
      "metadata": {
        "colab": {
          "base_uri": "https://localhost:8080/"
        },
        "id": "4MvY1kFdAiw8",
        "outputId": "ce8c4a17-9e15-4898-f3bf-315d181d7a15"
      },
      "execution_count": 84,
      "outputs": [
        {
          "output_type": "stream",
          "name": "stderr",
          "text": [
            "WARNING:absl:Compiled the loaded model, but the compiled metrics have yet to be built. `model.compile_metrics` will be empty until you train or evaluate the model.\n",
            "WARNING:absl:Compiled the loaded model, but the compiled metrics have yet to be built. `model.compile_metrics` will be empty until you train or evaluate the model.\n",
            "WARNING:absl:Compiled the loaded model, but the compiled metrics have yet to be built. `model.compile_metrics` will be empty until you train or evaluate the model.\n"
          ]
        }
      ]
    },
    {
      "cell_type": "markdown",
      "source": [
        "### Como consecuencia de los malos resultados de los modelos anteriores en los casos de predicciones negativas, se procede a hacer un  balanceo de clases para intentar obtener mejores resultados."
      ],
      "metadata": {
        "id": "cio8PuvDVtoQ"
      }
    },
    {
      "cell_type": "code",
      "source": [
        "from sklearn.utils import class_weight\n",
        "import numpy as np\n",
        "import pandas as pd\n",
        "\n",
        "\n",
        "def calcular_class_weights(Y_train):\n",
        "    Y_train = np.ravel(Y_train)\n",
        "\n",
        "    class_weights = class_weight.compute_class_weight(\n",
        "        class_weight='balanced',\n",
        "        classes=np.unique(Y_train),\n",
        "        y=Y_train\n",
        "    )\n",
        "    return dict(enumerate(class_weights))\n",
        "\n",
        "\n",
        "class_weights = calcular_class_weights(Y_train)\n",
        "\n",
        "\n",
        "def modelo_con_batch_y_class_weight(batch_size, nombre_modelo):\n",
        "    global metricas_modelos\n",
        "\n",
        "    vocab_size = 10000\n",
        "    MAX_SEQUENCE_LENGTH = 100\n",
        "\n",
        "    X_raw = df['cleaned_review']\n",
        "    Y_raw = df['sentiment'].apply(lambda x: 1 if x == '1' else (0 if x == '-1' else 0.5)).astype(int)\n",
        "\n",
        "    X_train_raw, X_test_raw, Y_train_raw, Y_test_raw = train_test_split(\n",
        "        X_raw, Y_raw, test_size=0.2, random_state=42, stratify=Y_raw\n",
        "    )\n",
        "\n",
        "    tokenizer = Tokenizer(num_words=vocab_size, oov_token=\"<OOV>\")\n",
        "    tokenizer.fit_on_texts(X_train_raw)\n",
        "    X_train_sequences = tokenizer.texts_to_sequences(X_train_raw)\n",
        "    X_test_sequences = tokenizer.texts_to_sequences(X_test_raw)\n",
        "    X_train_padded = pad_sequences(X_train_sequences, maxlen=MAX_SEQUENCE_LENGTH, padding='post', truncating='post')\n",
        "    X_test_padded = pad_sequences(X_test_sequences, maxlen=MAX_SEQUENCE_LENGTH, padding='post', truncating='post')\n",
        "\n",
        "    Y_train = np.array(Y_train_raw)\n",
        "    Y_test = np.array(Y_test_raw)\n",
        "\n",
        "    def build_model(vocab_size, max_sequence_length):\n",
        "        model = Sequential([\n",
        "            Embedding(input_dim=vocab_size, output_dim=128, input_length=max_sequence_length),\n",
        "            SpatialDropout1D(0.2),\n",
        "            GlobalAveragePooling1D(),\n",
        "            Dense(64, activation='relu'),\n",
        "            Dropout(0.5),\n",
        "            Dense(32, activation='relu'),\n",
        "            Dropout(0.5),\n",
        "            Dense(1, activation='sigmoid')\n",
        "        ])\n",
        "        model.compile(optimizer='adam', loss='binary_crossentropy', metrics=['accuracy'])\n",
        "        return model\n",
        "\n",
        "    model = build_model(vocab_size, MAX_SEQUENCE_LENGTH)\n",
        "    history = model.fit(\n",
        "        X_train_padded, Y_train,\n",
        "        epochs=15, batch_size=batch_size, validation_split=0.2,\n",
        "        class_weight=class_weights,\n",
        "        callbacks=[\n",
        "            EarlyStopping(monitor=\"val_loss\", patience=10, restore_best_weights=True),\n",
        "            ReduceLROnPlateau(monitor=\"val_loss\", factor=0.2, patience=2, mode=\"min\"),\n",
        "        ]\n",
        "    )\n",
        "\n",
        "    model.save(f\"{nombre_modelo}.h5\")\n",
        "    y_pred = model.predict(X_test_padded).flatten()\n",
        "    accuracy = accuracy_score(Y_test, y_pred.round())\n",
        "    f1 = f1_score(Y_test, y_pred.round(), average='weighted')\n",
        "    roc_auc = roc_auc_score(Y_test, y_pred)\n",
        "\n",
        "    metricas_modelos[nombre_modelo] = {\n",
        "        'accuracy': accuracy,\n",
        "        'f1_score': f1,\n",
        "        'roc_auc': roc_auc\n",
        "    }\n",
        "\n",
        "    print(f\"Modelo {nombre_modelo}:\")\n",
        "    print(f\"Accuracy: {accuracy}\")\n",
        "    print(f\"F1 Score: {f1}\")\n",
        "    print(f\"ROC-AUC: {roc_auc}\")\n",
        "    print(classification_report(Y_test, y_pred.round()))\n",
        "    plot_history(history)\n",
        "\n",
        "\n",
        "modelo_con_batch_y_class_weight(32, \"Modelo_Batch_32\")\n",
        "modelo_con_batch_y_class_weight(64, \"Modelo_Batch_64\")\n",
        "modelo_con_batch_y_class_weight(128, \"Modelo_Batch_128\")\n"
      ],
      "metadata": {
        "colab": {
          "base_uri": "https://localhost:8080/",
          "height": 1000
        },
        "id": "InH0snwuDDKx",
        "outputId": "9e39e2f2-103a-42cb-aa1f-3ab1d1799381"
      },
      "execution_count": 86,
      "outputs": [
        {
          "output_type": "stream",
          "name": "stdout",
          "text": [
            "Epoch 1/5\n"
          ]
        },
        {
          "output_type": "stream",
          "name": "stderr",
          "text": [
            "/usr/local/lib/python3.11/dist-packages/keras/src/layers/core/embedding.py:90: UserWarning: Argument `input_length` is deprecated. Just remove it.\n",
            "  warnings.warn(\n"
          ]
        },
        {
          "output_type": "stream",
          "name": "stdout",
          "text": [
            "\u001b[1m206/206\u001b[0m \u001b[32m━━━━━━━━━━━━━━━━━━━━\u001b[0m\u001b[37m\u001b[0m \u001b[1m6s\u001b[0m 17ms/step - accuracy: 0.8780 - loss: 0.4532 - val_accuracy: 0.8825 - val_loss: 0.3632 - learning_rate: 0.0010\n",
            "Epoch 2/5\n",
            "\u001b[1m206/206\u001b[0m \u001b[32m━━━━━━━━━━━━━━━━━━━━\u001b[0m\u001b[37m\u001b[0m \u001b[1m3s\u001b[0m 16ms/step - accuracy: 0.8853 - loss: 0.3654 - val_accuracy: 0.8825 - val_loss: 0.3490 - learning_rate: 0.0010\n",
            "Epoch 3/5\n",
            "\u001b[1m206/206\u001b[0m \u001b[32m━━━━━━━━━━━━━━━━━━━━\u001b[0m\u001b[37m\u001b[0m \u001b[1m5s\u001b[0m 22ms/step - accuracy: 0.8795 - loss: 0.3584 - val_accuracy: 0.8825 - val_loss: 0.3387 - learning_rate: 0.0010\n",
            "Epoch 4/5\n",
            "\u001b[1m206/206\u001b[0m \u001b[32m━━━━━━━━━━━━━━━━━━━━\u001b[0m\u001b[37m\u001b[0m \u001b[1m3s\u001b[0m 16ms/step - accuracy: 0.8766 - loss: 0.3319 - val_accuracy: 0.8825 - val_loss: 0.3744 - learning_rate: 0.0010\n",
            "Epoch 5/5\n",
            "\u001b[1m206/206\u001b[0m \u001b[32m━━━━━━━━━━━━━━━━━━━━\u001b[0m\u001b[37m\u001b[0m \u001b[1m5s\u001b[0m 16ms/step - accuracy: 0.8779 - loss: 0.2909 - val_accuracy: 0.8886 - val_loss: 0.3064 - learning_rate: 0.0010\n"
          ]
        },
        {
          "output_type": "stream",
          "name": "stderr",
          "text": [
            "WARNING:absl:You are saving your model as an HDF5 file via `model.save()` or `keras.saving.save_model(model)`. This file format is considered legacy. We recommend using instead the native Keras format, e.g. `model.save('my_model.keras')` or `keras.saving.save_model(model, 'my_model.keras')`. \n"
          ]
        },
        {
          "output_type": "stream",
          "name": "stdout",
          "text": [
            "\u001b[1m65/65\u001b[0m \u001b[32m━━━━━━━━━━━━━━━━━━━━\u001b[0m\u001b[37m\u001b[0m \u001b[1m0s\u001b[0m 3ms/step\n",
            "Modelo Modelo_Batch_32:\n",
            "Accuracy: 0.8821237213833415\n",
            "F1 Score: 0.8377853970493561\n",
            "ROC-AUC: 0.8312572602984541\n",
            "              precision    recall  f1-score   support\n",
            "\n",
            "           0       0.62      0.06      0.12       248\n",
            "           1       0.89      0.99      0.94      1805\n",
            "\n",
            "    accuracy                           0.88      2053\n",
            "   macro avg       0.75      0.53      0.53      2053\n",
            "weighted avg       0.85      0.88      0.84      2053\n",
            "\n"
          ]
        },
        {
          "output_type": "display_data",
          "data": {
            "text/plain": [
              "<Figure size 1000x400 with 2 Axes>"
            ],
            "image/png": "[encoded data removed]"
          },
          "metadata": {}
        },
        {
          "output_type": "stream",
          "name": "stdout",
          "text": [
            "Epoch 1/5\n"
          ]
        },
        {
          "output_type": "stream",
          "name": "stderr",
          "text": [
            "/usr/local/lib/python3.11/dist-packages/keras/src/layers/core/embedding.py:90: UserWarning: Argument `input_length` is deprecated. Just remove it.\n",
            "  warnings.warn(\n"
          ]
        },
        {
          "output_type": "stream",
          "name": "stdout",
          "text": [
            "\u001b[1m103/103\u001b[0m \u001b[32m━━━━━━━━━━━━━━━━━━━━\u001b[0m\u001b[37m\u001b[0m \u001b[1m6s\u001b[0m 26ms/step - accuracy: 0.8645 - loss: 0.4712 - val_accuracy: 0.8825 - val_loss: 0.3696 - learning_rate: 0.0010\n",
            "Epoch 2/5\n",
            "\u001b[1m103/103\u001b[0m \u001b[32m━━━━━━━━━━━━━━━━━━━━\u001b[0m\u001b[37m\u001b[0m \u001b[1m2s\u001b[0m 19ms/step - accuracy: 0.8822 - loss: 0.3795 - val_accuracy: 0.8825 - val_loss: 0.3542 - learning_rate: 0.0010\n",
            "Epoch 3/5\n",
            "\u001b[1m103/103\u001b[0m \u001b[32m━━━━━━━━━━━━━━━━━━━━\u001b[0m\u001b[37m\u001b[0m \u001b[1m2s\u001b[0m 18ms/step - accuracy: 0.8790 - loss: 0.3796 - val_accuracy: 0.8825 - val_loss: 0.3454 - learning_rate: 0.0010\n",
            "Epoch 4/5\n",
            "\u001b[1m103/103\u001b[0m \u001b[32m━━━━━━━━━━━━━━━━━━━━\u001b[0m\u001b[37m\u001b[0m \u001b[1m2s\u001b[0m 19ms/step - accuracy: 0.8824 - loss: 0.3473 - val_accuracy: 0.8825 - val_loss: 0.3475 - learning_rate: 0.0010\n",
            "Epoch 5/5\n",
            "\u001b[1m103/103\u001b[0m \u001b[32m━━━━━━━━━━━━━━━━━━━━\u001b[0m\u001b[37m\u001b[0m \u001b[1m3s\u001b[0m 21ms/step - accuracy: 0.8796 - loss: 0.3184 - val_accuracy: 0.8825 - val_loss: 0.3422 - learning_rate: 0.0010\n"
          ]
        },
        {
          "output_type": "stream",
          "name": "stderr",
          "text": [
            "WARNING:absl:You are saving your model as an HDF5 file via `model.save()` or `keras.saving.save_model(model)`. This file format is considered legacy. We recommend using instead the native Keras format, e.g. `model.save('my_model.keras')` or `keras.saving.save_model(model, 'my_model.keras')`. \n"
          ]
        },
        {
          "output_type": "stream",
          "name": "stdout",
          "text": [
            "\u001b[1m65/65\u001b[0m \u001b[32m━━━━━━━━━━━━━━━━━━━━\u001b[0m\u001b[37m\u001b[0m \u001b[1m0s\u001b[0m 4ms/step\n",
            "Modelo Modelo_Batch_64:\n",
            "Accuracy: 0.8792011690209449\n",
            "F1 Score: 0.8226843494467629\n",
            "ROC-AUC: 0.8359775712626217\n",
            "              precision    recall  f1-score   support\n",
            "\n",
            "           0       0.00      0.00      0.00       248\n",
            "           1       0.88      1.00      0.94      1805\n",
            "\n",
            "    accuracy                           0.88      2053\n",
            "   macro avg       0.44      0.50      0.47      2053\n",
            "weighted avg       0.77      0.88      0.82      2053\n",
            "\n"
          ]
        },
        {
          "output_type": "stream",
          "name": "stderr",
          "text": [
            "/usr/local/lib/python3.11/dist-packages/sklearn/metrics/_classification.py:1565: UndefinedMetricWarning: Precision is ill-defined and being set to 0.0 in labels with no predicted samples. Use `zero_division` parameter to control this behavior.\n",
            "  _warn_prf(average, modifier, f\"{metric.capitalize()} is\", len(result))\n",
            "/usr/local/lib/python3.11/dist-packages/sklearn/metrics/_classification.py:1565: UndefinedMetricWarning: Precision is ill-defined and being set to 0.0 in labels with no predicted samples. Use `zero_division` parameter to control this behavior.\n",
            "  _warn_prf(average, modifier, f\"{metric.capitalize()} is\", len(result))\n",
            "/usr/local/lib/python3.11/dist-packages/sklearn/metrics/_classification.py:1565: UndefinedMetricWarning: Precision is ill-defined and being set to 0.0 in labels with no predicted samples. Use `zero_division` parameter to control this behavior.\n",
            "  _warn_prf(average, modifier, f\"{metric.capitalize()} is\", len(result))\n"
          ]
        },
        {
          "output_type": "display_data",
          "data": {
            "text/plain": [
              "<Figure size 1000x400 with 2 Axes>"
            ],
            "image/png": "[encoded data removed]"
          },
          "metadata": {}
        },
        {
          "output_type": "stream",
          "name": "stdout",
          "text": [
            "Epoch 1/5\n"
          ]
        },
        {
          "output_type": "stream",
          "name": "stderr",
          "text": [
            "/usr/local/lib/python3.11/dist-packages/keras/src/layers/core/embedding.py:90: UserWarning: Argument `input_length` is deprecated. Just remove it.\n",
            "  warnings.warn(\n"
          ]
        },
        {
          "output_type": "stream",
          "name": "stdout",
          "text": [
            "\u001b[1m52/52\u001b[0m \u001b[32m━━━━━━━━━━━━━━━━━━━━\u001b[0m\u001b[37m\u001b[0m \u001b[1m4s\u001b[0m 28ms/step - accuracy: 0.8542 - loss: 0.5137 - val_accuracy: 0.8825 - val_loss: 0.3757 - learning_rate: 0.0010\n",
            "Epoch 2/5\n",
            "\u001b[1m52/52\u001b[0m \u001b[32m━━━━━━━━━━━━━━━━━━━━\u001b[0m\u001b[37m\u001b[0m \u001b[1m2s\u001b[0m 24ms/step - accuracy: 0.8776 - loss: 0.4155 - val_accuracy: 0.8825 - val_loss: 0.3632 - learning_rate: 0.0010\n",
            "Epoch 3/5\n",
            "\u001b[1m52/52\u001b[0m \u001b[32m━━━━━━━━━━━━━━━━━━━━\u001b[0m\u001b[37m\u001b[0m \u001b[1m3s\u001b[0m 25ms/step - accuracy: 0.8835 - loss: 0.3815 - val_accuracy: 0.8825 - val_loss: 0.3539 - learning_rate: 0.0010\n",
            "Epoch 4/5\n",
            "\u001b[1m52/52\u001b[0m \u001b[32m━━━━━━━━━━━━━━━━━━━━\u001b[0m\u001b[37m\u001b[0m \u001b[1m2s\u001b[0m 23ms/step - accuracy: 0.8797 - loss: 0.3716 - val_accuracy: 0.8825 - val_loss: 0.3478 - learning_rate: 0.0010\n",
            "Epoch 5/5\n",
            "\u001b[1m52/52\u001b[0m \u001b[32m━━━━━━━━━━━━━━━━━━━━\u001b[0m\u001b[37m\u001b[0m \u001b[1m2s\u001b[0m 34ms/step - accuracy: 0.8767 - loss: 0.3723 - val_accuracy: 0.8825 - val_loss: 0.3403 - learning_rate: 0.0010\n"
          ]
        },
        {
          "output_type": "stream",
          "name": "stderr",
          "text": [
            "WARNING:absl:You are saving your model as an HDF5 file via `model.save()` or `keras.saving.save_model(model)`. This file format is considered legacy. We recommend using instead the native Keras format, e.g. `model.save('my_model.keras')` or `keras.saving.save_model(model, 'my_model.keras')`. \n"
          ]
        },
        {
          "output_type": "stream",
          "name": "stdout",
          "text": [
            "\u001b[1m65/65\u001b[0m \u001b[32m━━━━━━━━━━━━━━━━━━━━\u001b[0m\u001b[37m\u001b[0m \u001b[1m0s\u001b[0m 4ms/step\n",
            "Modelo Modelo_Batch_128:\n",
            "Accuracy: 0.8792011690209449\n",
            "F1 Score: 0.8226843494467629\n",
            "ROC-AUC: 0.8162653024752032\n",
            "              precision    recall  f1-score   support\n",
            "\n",
            "           0       0.00      0.00      0.00       248\n",
            "           1       0.88      1.00      0.94      1805\n",
            "\n",
            "    accuracy                           0.88      2053\n",
            "   macro avg       0.44      0.50      0.47      2053\n",
            "weighted avg       0.77      0.88      0.82      2053\n",
            "\n"
          ]
        },
        {
          "output_type": "stream",
          "name": "stderr",
          "text": [
            "/usr/local/lib/python3.11/dist-packages/sklearn/metrics/_classification.py:1565: UndefinedMetricWarning: Precision is ill-defined and being set to 0.0 in labels with no predicted samples. Use `zero_division` parameter to control this behavior.\n",
            "  _warn_prf(average, modifier, f\"{metric.capitalize()} is\", len(result))\n",
            "/usr/local/lib/python3.11/dist-packages/sklearn/metrics/_classification.py:1565: UndefinedMetricWarning: Precision is ill-defined and being set to 0.0 in labels with no predicted samples. Use `zero_division` parameter to control this behavior.\n",
            "  _warn_prf(average, modifier, f\"{metric.capitalize()} is\", len(result))\n",
            "/usr/local/lib/python3.11/dist-packages/sklearn/metrics/_classification.py:1565: UndefinedMetricWarning: Precision is ill-defined and being set to 0.0 in labels with no predicted samples. Use `zero_division` parameter to control this behavior.\n",
            "  _warn_prf(average, modifier, f\"{metric.capitalize()} is\", len(result))\n"
          ]
        },
        {
          "output_type": "display_data",
          "data": {
            "text/plain": [
              "<Figure size 1000x400 with 2 Axes>"
            ],
            "image/png": "[encoded data removed]"
          },
          "metadata": {}
        }
      ]
    },
    {
      "cell_type": "markdown",
      "source": [
        "### Al igual que los primeros modelos entrenados éste sigue siendo ineficiente a la hora de identificar calificaciones negativas. Es por esta razón que se utilizará Keras Tuner que es una herramienta de optimización de hiperparámetros para modelos Keras que facilita la búsqueda de los mejores parámetros, incluyendo epochs y batch_size."
      ],
      "metadata": {
        "id": "BWDRkZgnWJok"
      }
    },
    {
      "cell_type": "code",
      "source": [
        "!pip install keras-tuner\n"
      ],
      "metadata": {
        "colab": {
          "base_uri": "https://localhost:8080/"
        },
        "id": "QYGww_VnHxAB",
        "outputId": "58afd12d-bc54-412a-ddcf-dac866763664"
      },
      "execution_count": 88,
      "outputs": [
        {
          "output_type": "stream",
          "name": "stdout",
          "text": [
            "Collecting keras-tuner\n",
            "  Downloading keras_tuner-1.4.7-py3-none-any.whl.metadata (5.4 kB)\n",
            "Requirement already satisfied: keras in /usr/local/lib/python3.11/dist-packages (from keras-tuner) (3.5.0)\n",
            "Requirement already satisfied: packaging in /usr/local/lib/python3.11/dist-packages (from keras-tuner) (24.2)\n",
            "Requirement already satisfied: requests in /usr/local/lib/python3.11/dist-packages (from keras-tuner) (2.32.3)\n",
            "Collecting kt-legacy (from keras-tuner)\n",
            "  Downloading kt_legacy-1.0.5-py3-none-any.whl.metadata (221 bytes)\n",
            "Requirement already satisfied: absl-py in /usr/local/lib/python3.11/dist-packages (from keras->keras-tuner) (1.4.0)\n",
            "Requirement already satisfied: numpy in /usr/local/lib/python3.11/dist-packages (from keras->keras-tuner) (1.26.4)\n",
            "Requirement already satisfied: rich in /usr/local/lib/python3.11/dist-packages (from keras->keras-tuner) (13.9.4)\n",
            "Requirement already satisfied: namex in /usr/local/lib/python3.11/dist-packages (from keras->keras-tuner) (0.0.8)\n",
            "Requirement already satisfied: h5py in /usr/local/lib/python3.11/dist-packages (from keras->keras-tuner) (3.12.1)\n",
            "Requirement already satisfied: optree in /usr/local/lib/python3.11/dist-packages (from keras->keras-tuner) (0.14.0)\n",
            "Requirement already satisfied: ml-dtypes in /usr/local/lib/python3.11/dist-packages (from keras->keras-tuner) (0.4.1)\n",
            "Requirement already satisfied: charset-normalizer<4,>=2 in /usr/local/lib/python3.11/dist-packages (from requests->keras-tuner) (3.4.1)\n",
            "Requirement already satisfied: idna<4,>=2.5 in /usr/local/lib/python3.11/dist-packages (from requests->keras-tuner) (3.10)\n",
            "Requirement already satisfied: urllib3<3,>=1.21.1 in /usr/local/lib/python3.11/dist-packages (from requests->keras-tuner) (2.3.0)\n",
            "Requirement already satisfied: certifi>=2017.4.17 in /usr/local/lib/python3.11/dist-packages (from requests->keras-tuner) (2024.12.14)\n",
            "Requirement already satisfied: typing-extensions>=4.5.0 in /usr/local/lib/python3.11/dist-packages (from optree->keras->keras-tuner) (4.12.2)\n",
            "Requirement already satisfied: markdown-it-py>=2.2.0 in /usr/local/lib/python3.11/dist-packages (from rich->keras->keras-tuner) (3.0.0)\n",
            "Requirement already satisfied: pygments<3.0.0,>=2.13.0 in /usr/local/lib/python3.11/dist-packages (from rich->keras->keras-tuner) (2.18.0)\n",
            "Requirement already satisfied: mdurl~=0.1 in /usr/local/lib/python3.11/dist-packages (from markdown-it-py>=2.2.0->rich->keras->keras-tuner) (0.1.2)\n",
            "Downloading keras_tuner-1.4.7-py3-none-any.whl (129 kB)\n",
            "\u001b[2K   \u001b[90m━━━━━━━━━━━━━━━━━━━━━━━━━━━━━━━━━━━━━━━━\u001b[0m \u001b[32m129.1/129.1 kB\u001b[0m \u001b[31m2.3 MB/s\u001b[0m eta \u001b[36m0:00:00\u001b[0m\n",
            "\u001b[?25hDownloading kt_legacy-1.0.5-py3-none-any.whl (9.6 kB)\n",
            "Installing collected packages: kt-legacy, keras-tuner\n",
            "Successfully installed keras-tuner-1.4.7 kt-legacy-1.0.5\n"
          ]
        }
      ]
    },
    {
      "cell_type": "code",
      "source": [
        "import keras_tuner as kt\n",
        "from tensorflow.keras.models import Sequential\n",
        "from tensorflow.keras.layers import Embedding, Dense, Dropout, SpatialDropout1D, GlobalAveragePooling1D\n",
        "from tensorflow.keras.optimizers import Adam\n",
        "from tensorflow.keras.callbacks import EarlyStopping, ReduceLROnPlateau\n",
        "from sklearn.metrics import accuracy_score, f1_score, roc_auc_score, classification_report\n",
        "import numpy as np\n",
        "\n",
        "def build_model(hp):\n",
        "    vocab_size = 10000\n",
        "    MAX_SEQUENCE_LENGTH = 100\n",
        "\n",
        "    model = Sequential()\n",
        "    model.add(Embedding(input_dim=vocab_size, output_dim=128))\n",
        "    model.add(SpatialDropout1D(0.2))\n",
        "    model.add(GlobalAveragePooling1D())\n",
        "\n",
        "    model.add(Dense(units=hp.Int('units', min_value=64, max_value=256, step=64), activation='relu'))\n",
        "    model.add(Dropout(hp.Float('dropout', min_value=0.2, max_value=0.5, step=0.1)))\n",
        "\n",
        "    model.add(Dense(1, activation='sigmoid'))\n",
        "\n",
        "    model.compile(optimizer=Adam(learning_rate=hp.Float('learning_rate', min_value=1e-5, max_value=1e-2, sampling='LOG')),\n",
        "                  loss='binary_crossentropy',\n",
        "                  metrics=['accuracy'])\n",
        "    return model\n",
        "\n",
        "\n",
        "def modelo_con_batch_y_class_weight(batch_size, nombre_modelo, X_train_padded, Y_train, X_test_padded, Y_test, class_weights):\n",
        "    global metricas_modelos\n",
        "\n",
        "    model = build_model(hp)\n",
        "\n",
        "    history = model.fit(\n",
        "        X_train_padded, Y_train,\n",
        "        epochs=5, batch_size=batch_size, validation_split=0.2,\n",
        "        class_weight=class_weights,\n",
        "        callbacks=[\n",
        "            EarlyStopping(monitor=\"val_loss\", patience=10, restore_best_weights=True),\n",
        "            ReduceLROnPlateau(monitor=\"val_loss\", factor=0.2, patience=2, mode=\"min\"),\n",
        "        ]\n",
        "    )\n",
        "\n",
        "    y_pred = model.predict(X_test_padded).flatten()\n",
        "    accuracy = accuracy_score(Y_test, y_pred.round())\n",
        "    f1 = f1_score(Y_test, y_pred.round(), average='weighted')\n",
        "    roc_auc = roc_auc_score(Y_test, y_pred)\n",
        "\n",
        "    metricas_modelos[nombre_modelo] = {\n",
        "        'accuracy': accuracy,\n",
        "        'f1_score': f1,\n",
        "        'roc_auc': roc_auc\n",
        "    }\n",
        "\n",
        "    print(f\"Modelo {nombre_modelo}:\")\n",
        "    print(f\"Accuracy: {accuracy}\")\n",
        "    print(f\"F1 Score: {f1}\")\n",
        "    print(f\"ROC-AUC: {roc_auc}\")\n",
        "    print(classification_report(Y_test, y_pred.round()))\n",
        "\n",
        "X_train_raw, X_test_raw, Y_train_raw, Y_test_raw = train_test_split(\n",
        "    df['cleaned_review'], df['sentiment'], test_size=0.2, random_state=42, stratify=df['sentiment']\n",
        ")\n",
        "\n",
        "tokenizer = Tokenizer(num_words=10000, oov_token=\"<OOV>\")\n",
        "tokenizer.fit_on_texts(X_train_raw)\n",
        "\n",
        "X_train_sequences = tokenizer.texts_to_sequences(X_train_raw)\n",
        "X_test_sequences = tokenizer.texts_to_sequences(X_test_raw)\n",
        "\n",
        "MAX_SEQUENCE_LENGTH = 100\n",
        "X_train_padded = np.array(X_train_padded).astype(np.int32)\n",
        "X_test_padded = np.array(X_test_padded).astype(np.int32)\n",
        "\n",
        "Y_train = np.array(Y_train_raw).astype(np.float32)\n",
        "Y_test = np.array(Y_test_raw).astype(np.float32)\n",
        "\n",
        "class_weights = calcular_class_weights(Y_train)\n",
        "\n",
        "\n",
        "tuner = kt.Hyperband(\n",
        "    build_model,\n",
        "    objective='val_accuracy',\n",
        "    max_epochs=10,\n",
        "    factor=3,\n",
        "    hyperband_iterations=2,\n",
        "    directory='my_dir',\n",
        "    project_name='sentiment_analysis_tuning'\n",
        ")\n",
        "\n",
        "tuner.search(X_train_padded, Y_train, epochs=10, validation_data=(X_test_padded, Y_test))\n",
        "best_model = tuner.get_best_models()[0]\n",
        "\n",
        "best_model.evaluate(X_test_padded, Y_test)\n"
      ],
      "metadata": {
        "colab": {
          "base_uri": "https://localhost:8080/"
        },
        "id": "e-VADBrxMtPj",
        "outputId": "a7ba1d48-11eb-45a1-b502-a982b164a2bf"
      },
      "execution_count": 97,
      "outputs": [
        {
          "output_type": "stream",
          "name": "stdout",
          "text": [
            "Trial 56 Complete [00h 01m 04s]\n",
            "val_accuracy: 0.8947880864143372\n",
            "\n",
            "Best val_accuracy So Far: 0.8996590375900269\n",
            "Total elapsed time: 00h 26m 31s\n",
            "\u001b[1m65/65\u001b[0m \u001b[32m━━━━━━━━━━━━━━━━━━━━\u001b[0m\u001b[37m\u001b[0m \u001b[1m0s\u001b[0m 2ms/step - accuracy: 0.8955 - loss: 0.3345\n"
          ]
        },
        {
          "output_type": "execute_result",
          "data": {
            "text/plain": [
              "[0.3122098743915558, 0.8996590375900269]"
            ]
          },
          "metadata": {},
          "execution_count": 97
        }
      ]
    },
    {
      "cell_type": "markdown",
      "source": [
        "## **Resultados Clave del proceso de mejora**\n",
        "### 1. Mejor precisión en el conjunto de validación (val_accuracy):\n",
        "\n",
        " * La mejor precisión en el conjunto de validación fue 0.8997 (≈ 90%), lo que indica que el modelo generaliza bien a los datos de validación.\n",
        " * El hiperparámetro que produjo este resultado se almacenó como best_model.\n",
        "\n",
        "### 2. Evaluación del mejor modelo en el conjunto de prueba:\n",
        "\n",
        "* La evaluación final en los datos de prueba arrojó:\n",
        " * Precisión (accuracy): 0.8955 (≈ 89.6%).\n",
        " * Pérdida (loss): 0.3345.\n",
        "\n",
        "Esto significa que el modelo tiene un rendimiento consistente en ambos conjuntos (validación y prueba), lo cual es un indicador de que no está sobreajustado.\n",
        "\n",
        "### 3. Mejor puntuación lograda durante la búsqueda (Best val_accuracy So Far):\n",
        "\n",
        " * La búsqueda encontró la mejor configuración de hiperparámetros en 26 minutos y 31 segundos."
      ],
      "metadata": {
        "id": "Fgurm9ylXQsR"
      }
    },
    {
      "cell_type": "markdown",
      "source": [
        "### Reporte de Clasificación y Métricas Adicionales:\n",
        "A continuación obtenemos los resultados mas detallados de las métricas obtenidas"
      ],
      "metadata": {
        "id": "wJsyWSAzY5uu"
      }
    },
    {
      "cell_type": "code",
      "source": [
        "from sklearn.metrics import classification_report, roc_auc_score\n",
        "\n",
        "y_pred_probs = best_model.predict(X_test_padded).flatten()\n",
        "y_pred = (y_pred_probs >= 0.5).astype(int)\n",
        "\n",
        "print(\"ROC-AUC Score:\", roc_auc_score(Y_test, y_pred_probs))\n",
        "print(classification_report(Y_test, y_pred))\n"
      ],
      "metadata": {
        "colab": {
          "base_uri": "https://localhost:8080/"
        },
        "id": "olEvp8mvTgKO",
        "outputId": "02a1c78f-242a-444e-8661-4562bada1fca"
      },
      "execution_count": 98,
      "outputs": [
        {
          "output_type": "stream",
          "name": "stdout",
          "text": [
            "\u001b[1m65/65\u001b[0m \u001b[32m━━━━━━━━━━━━━━━━━━━━\u001b[0m\u001b[37m\u001b[0m \u001b[1m0s\u001b[0m 5ms/step\n",
            "ROC-AUC Score: 0.8222254490215352\n",
            "              precision    recall  f1-score   support\n",
            "\n",
            "         0.0       0.64      0.40      0.49       248\n",
            "         1.0       0.92      0.97      0.94      1805\n",
            "\n",
            "    accuracy                           0.90      2053\n",
            "   macro avg       0.78      0.68      0.72      2053\n",
            "weighted avg       0.89      0.90      0.89      2053\n",
            "\n"
          ]
        }
      ]
    },
    {
      "cell_type": "markdown",
      "source": [
        "Guardamos el modelo"
      ],
      "metadata": {
        "id": "9AUq7PYGZOYF"
      }
    },
    {
      "cell_type": "code",
      "source": [
        "best_model.save(\"sentiment_analysis_model.h5\")\n"
      ],
      "metadata": {
        "colab": {
          "base_uri": "https://localhost:8080/"
        },
        "id": "TkaJoM8vTjqG",
        "outputId": "5bd729ac-b3ce-42ba-db96-b9fc43bf99c5"
      },
      "execution_count": 99,
      "outputs": [
        {
          "output_type": "stream",
          "name": "stderr",
          "text": [
            "WARNING:absl:You are saving your model as an HDF5 file via `model.save()` or `keras.saving.save_model(model)`. This file format is considered legacy. We recommend using instead the native Keras format, e.g. `model.save('my_model.keras')` or `keras.saving.save_model(model, 'my_model.keras')`. \n"
          ]
        }
      ]
    },
    {
      "cell_type": "markdown",
      "source": [
        "Cargamos el nuevo modelo"
      ],
      "metadata": {
        "id": "6S2D5QaKZQ_N"
      }
    },
    {
      "cell_type": "code",
      "source": [
        "from tensorflow.keras.models import load_model\n",
        "\n",
        "loaded_model = load_model(\"sentiment_analysis_model.h5\")\n"
      ],
      "metadata": {
        "colab": {
          "base_uri": "https://localhost:8080/"
        },
        "id": "XbCIqBbnTltO",
        "outputId": "0662ade5-7261-4d8a-cb25-06f7622cbbe5"
      },
      "execution_count": 100,
      "outputs": [
        {
          "output_type": "stream",
          "name": "stderr",
          "text": [
            "WARNING:absl:Compiled the loaded model, but the compiled metrics have yet to be built. `model.compile_metrics` will be empty until you train or evaluate the model.\n"
          ]
        }
      ]
    },
    {
      "cell_type": "code",
      "source": [
        "\n",
        "texto_negativo = \"I hate this product. It is the worst thing I've ever bought. Terrible experience!\"\n",
        "\n",
        "\n",
        "secuencia_negativa = tokenizer.texts_to_sequences([texto_negativo])\n",
        "secuencia_negativa_padded = pad_sequences(secuencia_negativa, maxlen=MAX_SEQUENCE_LENGTH, padding='post', truncating='post')\n",
        "\n",
        "\n",
        "probabilidad_sentimiento = best_model.predict(secuencia_negativa_padded).flatten()[0]\n",
        "prediccion_sentimiento = \"Positivo\" if probabilidad_sentimiento >= 0.5 else \"Negativo\"\n",
        "\n",
        "print(f\"Texto: {texto_negativo}\")\n",
        "print(f\"Probabilidad de sentimiento positivo: {probabilidad_sentimiento:.4f}\")\n",
        "print(f\"Predicción: {prediccion_sentimiento}\")\n",
        "\n"
      ],
      "metadata": {
        "colab": {
          "base_uri": "https://localhost:8080/"
        },
        "id": "66_bArMITwtj",
        "outputId": "e270385d-a3bf-40f3-f462-1fed5e8245bc"
      },
      "execution_count": 112,
      "outputs": [
        {
          "output_type": "stream",
          "name": "stdout",
          "text": [
            "\u001b[1m1/1\u001b[0m \u001b[32m━━━━━━━━━━━━━━━━━━━━\u001b[0m\u001b[37m\u001b[0m \u001b[1m0s\u001b[0m 45ms/step\n",
            "Texto: I hate this product. It is the worst thing I've ever bought. Terrible experience!\n",
            "Probabilidad de sentimiento positivo: 0.5731\n",
            "Predicción: Positivo\n"
          ]
        }
      ]
    },
    {
      "cell_type": "markdown",
      "source": [
        "### Como podemos observar al inresar un texto claramente negativo la predicción sigue siendo positiva con lo cual en lugar de fijar arbitrariamente un valor (como 0.5), optimizamos el umbral basado en el rendimiento en el conjunto de validación"
      ],
      "metadata": {
        "id": "FuMVrlr3ZYuK"
      }
    },
    {
      "cell_type": "code",
      "source": [
        "from sklearn.metrics import roc_curve\n",
        "\n",
        "y_probs = best_model.predict(X_test_padded).flatten()\n",
        "\n",
        "fpr, tpr, umbrales = roc_curve(Y_test, y_probs)\n",
        "\n",
        "optimal_idx = np.argmax(tpr - fpr)\n",
        "optimal_umbral = umbrales[optimal_idx]\n",
        "\n",
        "print(f\"El umbral óptimo es: {optimal_umbral}\")\n"
      ],
      "metadata": {
        "colab": {
          "base_uri": "https://localhost:8080/"
        },
        "id": "gdYzfRWeUgiX",
        "outputId": "a8f9b37e-228a-48f2-92cf-92a9f14fddb7"
      },
      "execution_count": 113,
      "outputs": [
        {
          "output_type": "stream",
          "name": "stdout",
          "text": [
            "\u001b[1m65/65\u001b[0m \u001b[32m━━━━━━━━━━━━━━━━━━━━\u001b[0m\u001b[37m\u001b[0m \u001b[1m0s\u001b[0m 4ms/step\n",
            "El umbral óptimo es: 0.7984963059425354\n"
          ]
        }
      ]
    },
    {
      "cell_type": "markdown",
      "source": [
        "El umbral óptimo encontrado es 0.7985, lo que significa que el modelo necesita una probabilidad igual o superior al 79.85% para clasificar un texto como positivo. Esto indica que el modelo es más conservador con las predicciones positivas, lo que puede ayudar a reducir falsos positivos pero aumentar falsos negativos."
      ],
      "metadata": {
        "id": "Ja8goxuWaBX_"
      }
    },
    {
      "cell_type": "code",
      "source": [
        "texto_prueba = \"I hate this product. It is the worst thing I've ever bought. Terrible experience!\"\n",
        "texto_secuencia = tokenizer.texts_to_sequences([texto_prueba])\n",
        "texto_padded = pad_sequences(texto_secuencia, maxlen=100, padding='post', truncating='post')\n",
        "\n",
        "probabilidad_sentimiento = best_model.predict(texto_padded).flatten()[0]\n",
        "\n",
        "prediccion = \"Positivo\" if probabilidad_sentimiento >= 0.7985 else \"Negativo\"\n",
        "\n",
        "print(f\"Texto: {texto_prueba}\")\n",
        "print(f\"Probabilidad de sentimiento positivo: {probabilidad_sentimiento:.4f}\")\n",
        "print(f\"Predicción: {prediccion}\")\n"
      ],
      "metadata": {
        "colab": {
          "base_uri": "https://localhost:8080/"
        },
        "id": "HvUDBBgfUoss",
        "outputId": "53520ad0-e10a-4659-d0d1-b792816bd4b5"
      },
      "execution_count": 110,
      "outputs": [
        {
          "output_type": "stream",
          "name": "stdout",
          "text": [
            "\u001b[1m1/1\u001b[0m \u001b[32m━━━━━━━━━━━━━━━━━━━━\u001b[0m\u001b[37m\u001b[0m \u001b[1m0s\u001b[0m 46ms/step\n",
            "Texto: I hate this product. It is the worst thing I've ever bought. Terrible experience!\n",
            "Probabilidad de sentimiento positivo: 0.5731\n",
            "Predicción: Negativo\n"
          ]
        }
      ]
    },
    {
      "cell_type": "markdown",
      "source": [
        "Ahora el modelo clasifica correctamente el texto negativo como \"Negativo\", ya que la probabilidad de sentimiento positivo (0.5731) está por debajo del umbral óptimo (0.7985). Esto confirma que el ajuste del umbral mejora la precisión de las predicciones."
      ],
      "metadata": {
        "id": "WMAVh2J1a5A2"
      }
    },
    {
      "cell_type": "code",
      "source": [
        "texto_prueba = \"I absolutely love this product! It exceeded all my expectations and made my life so much easier. Highly recommended!\"\n",
        "texto_secuencia = tokenizer.texts_to_sequences([texto_prueba])\n",
        "texto_padded = pad_sequences(texto_secuencia, maxlen=100, padding='post', truncating='post')\n",
        "\n",
        "\n",
        "probabilidad_sentimiento = best_model.predict(texto_padded).flatten()[0]\n",
        "\n",
        "prediccion = \"Positivo\" if probabilidad_sentimiento >= 0.7985 else \"Negativo\"\n",
        "\n",
        "print(f\"Texto: {texto_prueba}\")\n",
        "print(f\"Probabilidad de sentimiento positivo: {probabilidad_sentimiento:.4f}\")\n",
        "print(f\"Predicción: {prediccion}\")\n"
      ],
      "metadata": {
        "colab": {
          "base_uri": "https://localhost:8080/"
        },
        "id": "UPeHfvd3UzYs",
        "outputId": "573726f8-9e80-4c1a-dccd-a29a8ee59851"
      },
      "execution_count": 111,
      "outputs": [
        {
          "output_type": "stream",
          "name": "stdout",
          "text": [
            "\u001b[1m1/1\u001b[0m \u001b[32m━━━━━━━━━━━━━━━━━━━━\u001b[0m\u001b[37m\u001b[0m \u001b[1m0s\u001b[0m 30ms/step\n",
            "Texto: I absolutely love this product! It exceeded all my expectations and made my life so much easier. Highly recommended!\n",
            "Probabilidad de sentimiento positivo: 0.8869\n",
            "Predicción: Positivo\n"
          ]
        }
      ]
    },
    {
      "cell_type": "markdown",
      "source": [
        "El modelo está funcionando correctamente y clasifica el texto positivo con una alta probabilidad de sentimiento positivo (0.8869), superando el umbral óptimo que se determinó en (0.7985)"
      ],
      "metadata": {
        "id": "pyzPAp3wbA7M"
      }
    },
    {
      "cell_type": "code",
      "source": [
        "texto_prueba = \"The service was awful. I waited for hours and no one helped me. Totally disappointed!\"\n",
        "texto_secuencia = tokenizer.texts_to_sequences([texto_prueba])\n",
        "texto_padded = pad_sequences(texto_secuencia, maxlen=100, padding='post', truncating='post')\n",
        "\n",
        "probabilidad_sentimiento = best_model.predict(texto_padded).flatten()[0]\n",
        "\n",
        "prediccion = \"Positivo\" if probabilidad_sentimiento >= 0.7985 else \"Negativo\"\n",
        "\n",
        "print(f\"Texto: {texto_prueba}\")\n",
        "print(f\"Probabilidad de sentimiento positivo: {probabilidad_sentimiento:.4f}\")\n",
        "print(f\"Predicción: {prediccion}\")"
      ],
      "metadata": {
        "colab": {
          "base_uri": "https://localhost:8080/"
        },
        "id": "uWQvGkLfbOJi",
        "outputId": "1aa84e1f-7b62-4dd1-f2e0-9a4213c9526a"
      },
      "execution_count": 114,
      "outputs": [
        {
          "output_type": "stream",
          "name": "stdout",
          "text": [
            "\u001b[1m1/1\u001b[0m \u001b[32m━━━━━━━━━━━━━━━━━━━━\u001b[0m\u001b[37m\u001b[0m \u001b[1m0s\u001b[0m 43ms/step\n",
            "Texto: The service was awful. I waited for hours and no one helped me. Totally disappointed!\n",
            "Probabilidad de sentimiento positivo: 0.5065\n",
            "Predicción: Negativo\n"
          ]
        }
      ]
    }
  ]
}
